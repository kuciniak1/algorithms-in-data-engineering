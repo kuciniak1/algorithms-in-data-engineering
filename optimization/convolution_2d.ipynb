{
 "cells": [
  {
   "cell_type": "code",
   "execution_count": 1,
   "id": "756a5932-c8f8-4410-bdbf-9c35b9b407f7",
   "metadata": {},
   "outputs": [],
   "source": [
    "using BenchmarkTools"
   ]
  },
  {
   "cell_type": "code",
   "execution_count": 2,
   "id": "a7d103eb-caac-4821-979c-5ab4bfc04ae5",
   "metadata": {},
   "outputs": [
    {
     "data": {
      "text/plain": [
       "Convolution_2d_v1 (generic function with 1 method)"
      ]
     },
     "execution_count": 2,
     "metadata": {},
     "output_type": "execute_result"
    }
   ],
   "source": [
    "function Convolution_2d_v1(input, kernel, bias; padding=false)\n",
    "    input_height, input_width = size(input)\n",
    "    kernel_height, kernel_width = size(kernel)\n",
    "\n",
    "    if padding\n",
    "        tmp = zeros(input_height+2*kernel_height-2, input_width+2*kernel_width-2)\n",
    "        for i in 1:input_height\n",
    "            for j in 1:input_width\n",
    "                tmp[i+kernel_height-1, j+kernel_width-1] = input[i,j]\n",
    "            end\n",
    "        end\n",
    "        input = tmp\n",
    "        input_height, input_width = size(input)\n",
    "    end\n",
    "\n",
    "\n",
    "    output_height = input_height - kernel_height + 1\n",
    "    output_width = input_width - kernel_width + 1    \n",
    "    output = zeros(output_height, output_width)\n",
    "\n",
    "    for i in 1:output_height\n",
    "        for j in 1:output_width\n",
    "            patch = input[i:i+kernel_height-1, j:j+kernel_width-1]\n",
    "            output[i, j] = sum(patch .* kernel) .+ bias\n",
    "        end\n",
    "    end\n",
    "    return output\n",
    "end"
   ]
  },
  {
   "cell_type": "code",
   "execution_count": 3,
   "id": "00b9a2aa-7256-494d-b674-2f90053a6461",
   "metadata": {},
   "outputs": [
    {
     "data": {
      "text/plain": [
       "Convolution_2d_v2 (generic function with 1 method)"
      ]
     },
     "execution_count": 3,
     "metadata": {},
     "output_type": "execute_result"
    }
   ],
   "source": [
    "function Convolution_2d_v2(input, kernel; bias=0., padding=false)\n",
    "    input_rows, input_columns = size(input)\n",
    "    kernel_height, kernel_width = size(kernel)\n",
    "\n",
    "    if padding\n",
    "        padded_input = zeros(Float32, input_rows + 2*kernel_height - 2, input_columns + 2*kernel_width - 2)\n",
    "        padded_input[kernel_height:end-kernel_height+1, kernel_width:end-kernel_width+1] .= input\n",
    "        input_rows, input_columns = size(padded_input)\n",
    "        input = padded_input\n",
    "    end\n",
    "\n",
    "    output_rows = input_rows - kernel_height + 1\n",
    "    output_columns = input_columns - kernel_width + 1\n",
    "    output = zeros(Float32, output_rows, output_columns)\n",
    "\n",
    "    for c in 1:output_columns\n",
    "        for r in 1:output_rows\n",
    "            patch = @view input[r:r+kernel_height-1, c:c+kernel_width-1]\n",
    "            output[r, c] = sum(patch .* kernel) + bias\n",
    "        end\n",
    "    end\n",
    "    return output\n",
    "end"
   ]
  },
  {
   "cell_type": "code",
   "execution_count": 13,
   "id": "b44d6456",
   "metadata": {},
   "outputs": [
    {
     "data": {
      "text/plain": [
       "Convolution_2d_v3 (generic function with 1 method)"
      ]
     },
     "execution_count": 13,
     "metadata": {},
     "output_type": "execute_result"
    }
   ],
   "source": [
    "function Convolution_2d_v3(input, kernel; bias=0., padding=false)\n",
    "    input_rows, input_columns = size(input)\n",
    "    kernel_height, kernel_width = size(kernel)\n",
    "\n",
    "    if padding\n",
    "        padded_input = zeros(Float32, input_rows + 2*kernel_height - 2, input_columns + 2*kernel_width - 2)\n",
    "        padded_input[kernel_height:end-kernel_height+1, kernel_width:end-kernel_width+1] .= input\n",
    "        input_rows, input_columns = size(padded_input)\n",
    "        input = padded_input\n",
    "    end\n",
    "\n",
    "    output_rows = input_rows - kernel_height + 1\n",
    "    output_columns = input_columns - kernel_width + 1\n",
    "    output = zeros(Float32, output_rows, output_columns)\n",
    "    sumret = zeros(size(kernel))\n",
    "    for c in 1:output_columns\n",
    "        for r in 1:output_rows\n",
    "            patch = @view input[r:r+kernel_height-1, c:c+kernel_width-1]\n",
    "            sumret .= patch .* kernel\n",
    "            output[r, c] = sum(sumret) + bias\n",
    "            sumret .= 0.0\n",
    "        end\n",
    "    end\n",
    "    return output\n",
    "end"
   ]
  },
  {
   "cell_type": "code",
   "execution_count": 5,
   "id": "39871aa1-dd59-4dfc-b54d-ce08bbf8370e",
   "metadata": {},
   "outputs": [],
   "source": [
    "test_input = rand(Float32, 28,28);\n",
    "test_kernel = rand(Float32, 3, 3);\n",
    "test_bias = Float32(1);"
   ]
  },
  {
   "cell_type": "code",
   "execution_count": 6,
   "id": "4a591afc-f3f8-40d7-ab58-35f51edb30fd",
   "metadata": {},
   "outputs": [
    {
     "data": {
      "text/plain": [
       "BenchmarkTools.Trial: 10000 samples with 1 evaluation.\n",
       " Range \u001b[90m(\u001b[39m\u001b[36m\u001b[1mmin\u001b[22m\u001b[39m … \u001b[35mmax\u001b[39m\u001b[90m):  \u001b[39m\u001b[36m\u001b[1m81.700 μs\u001b[22m\u001b[39m … \u001b[35m 1.456 ms\u001b[39m  \u001b[90m┊\u001b[39m GC \u001b[90m(\u001b[39mmin … max\u001b[90m): \u001b[39m0.00% … 92.96%\n",
       " Time  \u001b[90m(\u001b[39m\u001b[34m\u001b[1mmedian\u001b[22m\u001b[39m\u001b[90m):     \u001b[39m\u001b[34m\u001b[1m84.800 μs              \u001b[22m\u001b[39m\u001b[90m┊\u001b[39m GC \u001b[90m(\u001b[39mmedian\u001b[90m):    \u001b[39m0.00%\n",
       " Time  \u001b[90m(\u001b[39m\u001b[32m\u001b[1mmean\u001b[22m\u001b[39m ± \u001b[32mσ\u001b[39m\u001b[90m):   \u001b[39m\u001b[32m\u001b[1m88.345 μs\u001b[22m\u001b[39m ± \u001b[32m29.586 μs\u001b[39m  \u001b[90m┊\u001b[39m GC \u001b[90m(\u001b[39mmean ± σ\u001b[90m):  \u001b[39m1.90% ±  5.27%\n",
       "\n",
       "  \u001b[39m▃\u001b[39m▇\u001b[39m█\u001b[34m▆\u001b[39m\u001b[39m▆\u001b[39m▆\u001b[39m▅\u001b[32m▄\u001b[39m\u001b[39m▄\u001b[39m▄\u001b[39m▂\u001b[39m▂\u001b[39m▁\u001b[39m▁\u001b[39m \u001b[39m \u001b[39m \u001b[39m \u001b[39m \u001b[39m \u001b[39m \u001b[39m \u001b[39m \u001b[39m \u001b[39m \u001b[39m \u001b[39m \u001b[39m \u001b[39m \u001b[39m \u001b[39m \u001b[39m \u001b[39m \u001b[39m \u001b[39m \u001b[39m \u001b[39m \u001b[39m \u001b[39m \u001b[39m \u001b[39m \u001b[39m \u001b[39m \u001b[39m \u001b[39m \u001b[39m \u001b[39m \u001b[39m \u001b[39m \u001b[39m \u001b[39m \u001b[39m \u001b[39m \u001b[39m \u001b[39m \u001b[39m \u001b[39m \u001b[39m \u001b[39m \u001b[39m \u001b[39m▂\n",
       "  \u001b[39m█\u001b[39m█\u001b[39m█\u001b[34m█\u001b[39m\u001b[39m█\u001b[39m█\u001b[39m█\u001b[32m█\u001b[39m\u001b[39m█\u001b[39m█\u001b[39m█\u001b[39m█\u001b[39m█\u001b[39m█\u001b[39m█\u001b[39m█\u001b[39m█\u001b[39m█\u001b[39m▇\u001b[39m▇\u001b[39m▇\u001b[39m▇\u001b[39m▆\u001b[39m▆\u001b[39m▆\u001b[39m▆\u001b[39m▇\u001b[39m▄\u001b[39m▅\u001b[39m▅\u001b[39m▆\u001b[39m▆\u001b[39m▅\u001b[39m▆\u001b[39m▆\u001b[39m▆\u001b[39m▃\u001b[39m▅\u001b[39m▄\u001b[39m▅\u001b[39m▄\u001b[39m▄\u001b[39m▁\u001b[39m▄\u001b[39m▄\u001b[39m▅\u001b[39m▅\u001b[39m▃\u001b[39m▃\u001b[39m▅\u001b[39m▄\u001b[39m▁\u001b[39m▁\u001b[39m▃\u001b[39m▅\u001b[39m▄\u001b[39m▃\u001b[39m▅\u001b[39m▄\u001b[39m \u001b[39m█\n",
       "  81.7 μs\u001b[90m      \u001b[39m\u001b[90mHistogram: \u001b[39m\u001b[90m\u001b[1mlog(\u001b[22m\u001b[39m\u001b[90mfrequency\u001b[39m\u001b[90m\u001b[1m)\u001b[22m\u001b[39m\u001b[90m by time\u001b[39m       137 μs \u001b[0m\u001b[1m<\u001b[22m\n",
       "\n",
       " Memory estimate\u001b[90m: \u001b[39m\u001b[33m240.31 KiB\u001b[39m, allocs estimate\u001b[90m: \u001b[39m\u001b[33m1802\u001b[39m."
      ]
     },
     "execution_count": 6,
     "metadata": {},
     "output_type": "execute_result"
    }
   ],
   "source": [
    "@benchmark Convolution_2d_v1(test_input, test_kernel, 0; padding=true)"
   ]
  },
  {
   "cell_type": "code",
   "execution_count": 7,
   "id": "a92f8b72-f204-46af-996b-bcc062133bbb",
   "metadata": {},
   "outputs": [
    {
     "data": {
      "text/plain": [
       "BenchmarkTools.Trial: 10000 samples with 1 evaluation.\n",
       " Range \u001b[90m(\u001b[39m\u001b[36m\u001b[1mmin\u001b[22m\u001b[39m … \u001b[35mmax\u001b[39m\u001b[90m):  \u001b[39m\u001b[36m\u001b[1m56.400 μs\u001b[22m\u001b[39m … \u001b[35m 1.011 ms\u001b[39m  \u001b[90m┊\u001b[39m GC \u001b[90m(\u001b[39mmin … max\u001b[90m): \u001b[39m0.00% … 88.41%\n",
       " Time  \u001b[90m(\u001b[39m\u001b[34m\u001b[1mmedian\u001b[22m\u001b[39m\u001b[90m):     \u001b[39m\u001b[34m\u001b[1m57.800 μs              \u001b[22m\u001b[39m\u001b[90m┊\u001b[39m GC \u001b[90m(\u001b[39mmedian\u001b[90m):    \u001b[39m0.00%\n",
       " Time  \u001b[90m(\u001b[39m\u001b[32m\u001b[1mmean\u001b[22m\u001b[39m ± \u001b[32mσ\u001b[39m\u001b[90m):   \u001b[39m\u001b[32m\u001b[1m60.823 μs\u001b[22m\u001b[39m ± \u001b[32m27.628 μs\u001b[39m  \u001b[90m┊\u001b[39m GC \u001b[90m(\u001b[39mmean ± σ\u001b[90m):  \u001b[39m1.78% ±  3.84%\n",
       "\n",
       "  \u001b[39m▄\u001b[39m█\u001b[34m▇\u001b[39m\u001b[39m▅\u001b[39m▄\u001b[39m▆\u001b[39m▅\u001b[32m▃\u001b[39m\u001b[39m▃\u001b[39m▂\u001b[39m▁\u001b[39m▁\u001b[39m▁\u001b[39m \u001b[39m \u001b[39m \u001b[39m \u001b[39m \u001b[39m \u001b[39m \u001b[39m \u001b[39m \u001b[39m \u001b[39m \u001b[39m \u001b[39m \u001b[39m \u001b[39m \u001b[39m \u001b[39m \u001b[39m \u001b[39m \u001b[39m \u001b[39m \u001b[39m \u001b[39m \u001b[39m \u001b[39m \u001b[39m \u001b[39m \u001b[39m \u001b[39m \u001b[39m \u001b[39m \u001b[39m \u001b[39m \u001b[39m \u001b[39m \u001b[39m \u001b[39m \u001b[39m \u001b[39m \u001b[39m \u001b[39m \u001b[39m \u001b[39m \u001b[39m \u001b[39m \u001b[39m \u001b[39m \u001b[39m▂\n",
       "  \u001b[39m█\u001b[39m█\u001b[34m█\u001b[39m\u001b[39m█\u001b[39m█\u001b[39m█\u001b[39m█\u001b[32m█\u001b[39m\u001b[39m█\u001b[39m█\u001b[39m█\u001b[39m█\u001b[39m█\u001b[39m█\u001b[39m█\u001b[39m█\u001b[39m█\u001b[39m▇\u001b[39m▇\u001b[39m▇\u001b[39m▇\u001b[39m▇\u001b[39m▇\u001b[39m▇\u001b[39m▆\u001b[39m▇\u001b[39m▅\u001b[39m▆\u001b[39m▆\u001b[39m▆\u001b[39m▇\u001b[39m▆\u001b[39m▆\u001b[39m▅\u001b[39m▅\u001b[39m▃\u001b[39m▄\u001b[39m▅\u001b[39m▄\u001b[39m▃\u001b[39m▃\u001b[39m▅\u001b[39m▄\u001b[39m▅\u001b[39m▄\u001b[39m▁\u001b[39m▃\u001b[39m▁\u001b[39m▃\u001b[39m▄\u001b[39m▄\u001b[39m▄\u001b[39m▇\u001b[39m▇\u001b[39m▆\u001b[39m▆\u001b[39m▆\u001b[39m▇\u001b[39m▆\u001b[39m \u001b[39m█\n",
       "  56.4 μs\u001b[90m      \u001b[39m\u001b[90mHistogram: \u001b[39m\u001b[90m\u001b[1mlog(\u001b[22m\u001b[39m\u001b[90mfrequency\u001b[39m\u001b[90m\u001b[1m)\u001b[22m\u001b[39m\u001b[90m by time\u001b[39m      94.7 μs \u001b[0m\u001b[1m<\u001b[22m\n",
       "\n",
       " Memory estimate\u001b[90m: \u001b[39m\u001b[33m92.22 KiB\u001b[39m, allocs estimate\u001b[90m: \u001b[39m\u001b[33m904\u001b[39m."
      ]
     },
     "execution_count": 7,
     "metadata": {},
     "output_type": "execute_result"
    }
   ],
   "source": [
    "@benchmark Convolution_2d_v2(test_input, test_kernel; bias=test_bias, padding=true)"
   ]
  },
  {
   "cell_type": "code",
   "execution_count": 14,
   "id": "ae699758",
   "metadata": {},
   "outputs": [
    {
     "data": {
      "text/plain": [
       "BenchmarkTools.Trial: 10000 samples with 1 evaluation.\n",
       " Range \u001b[90m(\u001b[39m\u001b[36m\u001b[1mmin\u001b[22m\u001b[39m … \u001b[35mmax\u001b[39m\u001b[90m):  \u001b[39m\u001b[36m\u001b[1m38.900 μs\u001b[22m\u001b[39m … \u001b[35m 5.699 ms\u001b[39m  \u001b[90m┊\u001b[39m GC \u001b[90m(\u001b[39mmin … max\u001b[90m): \u001b[39m0.00% … 98.90%\n",
       " Time  \u001b[90m(\u001b[39m\u001b[34m\u001b[1mmedian\u001b[22m\u001b[39m\u001b[90m):     \u001b[39m\u001b[34m\u001b[1m39.200 μs              \u001b[22m\u001b[39m\u001b[90m┊\u001b[39m GC \u001b[90m(\u001b[39mmedian\u001b[90m):    \u001b[39m0.00%\n",
       " Time  \u001b[90m(\u001b[39m\u001b[32m\u001b[1mmean\u001b[22m\u001b[39m ± \u001b[32mσ\u001b[39m\u001b[90m):   \u001b[39m\u001b[32m\u001b[1m43.296 μs\u001b[22m\u001b[39m ± \u001b[32m58.881 μs\u001b[39m  \u001b[90m┊\u001b[39m GC \u001b[90m(\u001b[39mmean ± σ\u001b[90m):  \u001b[39m1.30% ±  0.99%\n",
       "\n",
       "  \u001b[34m█\u001b[39m\u001b[39m▆\u001b[39m▄\u001b[32m▃\u001b[39m\u001b[39m▂\u001b[39m \u001b[39m \u001b[39m \u001b[39m \u001b[39m \u001b[39m \u001b[39m \u001b[39m \u001b[39m \u001b[39m \u001b[39m \u001b[39m \u001b[39m \u001b[39m \u001b[39m \u001b[39m \u001b[39m \u001b[39m \u001b[39m \u001b[39m \u001b[39m \u001b[39m \u001b[39m \u001b[39m \u001b[39m \u001b[39m \u001b[39m \u001b[39m \u001b[39m \u001b[39m \u001b[39m \u001b[39m \u001b[39m \u001b[39m \u001b[39m \u001b[39m \u001b[39m \u001b[39m \u001b[39m \u001b[39m \u001b[39m \u001b[39m \u001b[39m \u001b[39m \u001b[39m \u001b[39m \u001b[39m \u001b[39m \u001b[39m \u001b[39m \u001b[39m \u001b[39m \u001b[39m \u001b[39m \u001b[39m \u001b[39m▁\n",
       "  \u001b[34m█\u001b[39m\u001b[39m█\u001b[39m█\u001b[32m█\u001b[39m\u001b[39m█\u001b[39m█\u001b[39m▆\u001b[39m▆\u001b[39m▆\u001b[39m▆\u001b[39m▆\u001b[39m▄\u001b[39m▃\u001b[39m▄\u001b[39m▅\u001b[39m▄\u001b[39m▃\u001b[39m▁\u001b[39m▃\u001b[39m▁\u001b[39m▃\u001b[39m▃\u001b[39m▃\u001b[39m▁\u001b[39m▁\u001b[39m▁\u001b[39m▁\u001b[39m▁\u001b[39m▁\u001b[39m▃\u001b[39m▁\u001b[39m▁\u001b[39m▁\u001b[39m▁\u001b[39m▁\u001b[39m▁\u001b[39m▁\u001b[39m▁\u001b[39m▁\u001b[39m▁\u001b[39m▁\u001b[39m▃\u001b[39m▁\u001b[39m▃\u001b[39m▁\u001b[39m▁\u001b[39m▁\u001b[39m▁\u001b[39m▁\u001b[39m▁\u001b[39m▁\u001b[39m▅\u001b[39m▇\u001b[39m▇\u001b[39m▇\u001b[39m▇\u001b[39m▇\u001b[39m█\u001b[39m▇\u001b[39m \u001b[39m█\n",
       "  38.9 μs\u001b[90m      \u001b[39m\u001b[90mHistogram: \u001b[39m\u001b[90m\u001b[1mlog(\u001b[22m\u001b[39m\u001b[90mfrequency\u001b[39m\u001b[90m\u001b[1m)\u001b[22m\u001b[39m\u001b[90m by time\u001b[39m       126 μs \u001b[0m\u001b[1m<\u001b[22m\n",
       "\n",
       " Memory estimate\u001b[90m: \u001b[39m\u001b[33m7.97 KiB\u001b[39m, allocs estimate\u001b[90m: \u001b[39m\u001b[33m5\u001b[39m."
      ]
     },
     "execution_count": 14,
     "metadata": {},
     "output_type": "execute_result"
    }
   ],
   "source": [
    "@benchmark Convolution_2d_v3(test_input, test_kernel; bias=test_bias, padding=true)"
   ]
  },
  {
   "cell_type": "code",
   "execution_count": 9,
   "id": "2b4bca15",
   "metadata": {},
   "outputs": [
    {
     "data": {
      "text/plain": [
       "26×26 Matrix{Float32}:\n",
       " -1.19209f-7   0.0          1.19209f-7  …   0.0          0.0\n",
       "  0.0          0.0          0.0            -2.38419f-7   0.0\n",
       "  0.0         -2.38419f-7   0.0            -2.38419f-7   2.38419f-7\n",
       "  0.0         -1.19209f-7   0.0            -1.19209f-7   2.38419f-7\n",
       " -1.19209f-7   0.0          1.19209f-7      0.0         -1.19209f-7\n",
       " -1.19209f-7   0.0         -1.19209f-7  …   0.0          1.19209f-7\n",
       "  0.0          1.19209f-7   1.19209f-7      1.19209f-7   0.0\n",
       "  1.19209f-7   0.0          1.19209f-7      0.0         -1.19209f-7\n",
       "  0.0          1.19209f-7   0.0            -1.19209f-7   0.0\n",
       "  2.38419f-7  -2.38419f-7   0.0             0.0          0.0\n",
       "  2.38419f-7   0.0         -2.38419f-7  …   0.0          0.0\n",
       "  0.0         -2.38419f-7  -1.19209f-7      0.0         -1.19209f-7\n",
       "  1.19209f-7   0.0          1.19209f-7      0.0          0.0\n",
       "  0.0          0.0          1.19209f-7      1.19209f-7   2.38419f-7\n",
       "  1.19209f-7   0.0          0.0             0.0          0.0\n",
       "  0.0         -1.19209f-7   1.19209f-7  …   0.0          0.0\n",
       "  0.0         -1.19209f-7  -1.19209f-7      0.0          0.0\n",
       "  0.0          0.0         -1.19209f-7     -2.38419f-7   1.19209f-7\n",
       " -1.19209f-7   2.38419f-7   2.38419f-7      0.0          0.0\n",
       "  0.0          0.0          0.0             0.0          0.0\n",
       "  0.0          0.0          0.0         …  -1.19209f-7   0.0\n",
       " -1.19209f-7   0.0          2.38419f-7      0.0          1.19209f-7\n",
       "  0.0         -2.38419f-7  -1.19209f-7      1.19209f-7  -1.19209f-7\n",
       "  0.0          1.19209f-7   0.0             0.0          1.19209f-7\n",
       "  0.0          2.38419f-7  -2.38419f-7     -1.19209f-7   0.0\n",
       "  2.38419f-7   1.19209f-7   0.0         …   0.0         -1.19209f-7"
      ]
     },
     "execution_count": 9,
     "metadata": {},
     "output_type": "execute_result"
    }
   ],
   "source": [
    "Convolution_2d_v2(test_input, test_kernel) - Convolution_2d_v3(test_input, test_kernel)"
   ]
  },
  {
   "cell_type": "code",
   "execution_count": 10,
   "id": "efbb2de6",
   "metadata": {},
   "outputs": [
    {
     "data": {
      "text/plain": [
       "26×26 Matrix{Float32}:\n",
       " 1.76645  1.36211  1.55191  1.29746  …  1.17375  1.28229   2.23633  1.8189\n",
       " 2.09727  1.77395  1.5053   1.61822     1.9628   1.82236   2.23152  1.84141\n",
       " 2.11709  1.85688  1.44995  2.01385     2.27879  2.36763   2.16847  2.30949\n",
       " 1.569    1.71549  1.60224  1.57454     1.87915  2.23717   1.81629  2.01961\n",
       " 1.91606  1.64284  1.65504  1.98727     1.67616  2.09825   2.41312  1.80872\n",
       " 1.72417  1.49152  1.97741  1.79861  …  2.28245  2.14855   2.26908  1.58633\n",
       " 1.48458  1.45509  1.3628   1.89359     1.63495  2.26014   1.80828  1.54945\n",
       " 1.28559  1.19869  1.25129  1.59704     1.31621  1.93928   1.78909  1.31748\n",
       " 1.53371  1.59954  1.64732  1.68164     1.17879  2.12346   1.70956  1.48585\n",
       " 2.23411  2.09072  2.20866  2.15413     1.93206  2.16502   2.31437  1.40659\n",
       " 2.49597  2.14292  2.3174   1.61315  …  2.14232  2.11454   1.7653   1.70648\n",
       " 2.10362  1.91548  1.81574  1.66439     2.29814  1.89878   1.89519  1.63371\n",
       " 1.6774   2.09418  1.99284  1.60511     1.73573  1.79949   1.78212  1.98037\n",
       " 1.67934  2.4152   1.81234  2.20198     2.11769  2.30762   1.86996  2.05423\n",
       " 1.88537  2.13001  2.05426  2.10675     1.87142  1.97274   2.04918  2.00654\n",
       " 1.57788  1.9391   1.83887  1.50838  …  1.51822  1.95111   2.13095  2.07699\n",
       " 1.5736   1.82343  1.82924  1.46899     1.51297  1.48375   1.98996  1.59494\n",
       " 1.36099  2.11826  1.72435  1.99829     1.74859  1.5585    2.05126  1.96673\n",
       " 1.30148  2.43693  2.06931  2.42667     1.97687  1.77724   2.42569  1.4718\n",
       " 1.40053  2.43464  2.38001  1.95195     1.90336  1.89229   1.91652  1.8202\n",
       " 1.35442  2.71908  2.46771  2.07781  …  1.80747  1.57904   1.96428  1.46888\n",
       " 1.40129  2.53193  2.18406  2.15155     1.38273  1.26041   1.46059  1.55554\n",
       " 1.33239  2.30381  1.99469  1.74796     1.28956  0.916346  1.24163  1.11823\n",
       " 1.43252  1.99271  2.06229  1.36214     1.24682  1.2479    1.16141  1.20895\n",
       " 1.8947   1.88686  2.23491  1.18169     1.76665  1.96586   1.57588  1.48606\n",
       " 2.3695   1.67761  1.87279  1.4086   …  1.59764  2.13854   1.61189  1.83055"
      ]
     },
     "execution_count": 10,
     "metadata": {},
     "output_type": "execute_result"
    }
   ],
   "source": [
    "Convolution_2d_v3(test_input, test_kernel)"
   ]
  }
 ],
 "metadata": {
  "kernelspec": {
   "display_name": "Julia 1.10.2",
   "language": "julia",
   "name": "julia-1.10"
  },
  "language_info": {
   "file_extension": ".jl",
   "mimetype": "application/julia",
   "name": "julia",
   "version": "1.10.2"
  }
 },
 "nbformat": 4,
 "nbformat_minor": 5
}
