{
 "cells": [
  {
   "cell_type": "code",
   "execution_count": 1,
   "id": "756a5932-c8f8-4410-bdbf-9c35b9b407f7",
   "metadata": {},
   "outputs": [],
   "source": [
    "using BenchmarkTools"
   ]
  },
  {
   "cell_type": "code",
   "execution_count": 2,
   "id": "a7d103eb-caac-4821-979c-5ab4bfc04ae5",
   "metadata": {},
   "outputs": [
    {
     "data": {
      "text/plain": [
       "Convolution_2d_v1 (generic function with 1 method)"
      ]
     },
     "execution_count": 2,
     "metadata": {},
     "output_type": "execute_result"
    }
   ],
   "source": [
    "function Convolution_2d_v1(input, kernel, bias; padding=false)\n",
    "    input_height, input_width = size(input)\n",
    "    kernel_height, kernel_width = size(kernel)\n",
    "\n",
    "    if padding\n",
    "        tmp = zeros(input_height+2*kernel_height-2, input_width+2*kernel_width-2)\n",
    "        for i in 1:input_height\n",
    "            for j in 1:input_width\n",
    "                tmp[i+kernel_height-1, j+kernel_width-1] = input[i,j]\n",
    "            end\n",
    "        end\n",
    "        input = tmp\n",
    "        input_height, input_width = size(input)\n",
    "    end\n",
    "\n",
    "\n",
    "    output_height = input_height - kernel_height + 1\n",
    "    output_width = input_width - kernel_width + 1    \n",
    "    output = zeros(output_height, output_width)\n",
    "\n",
    "    for i in 1:output_height\n",
    "        for j in 1:output_width\n",
    "            patch = input[i:i+kernel_height-1, j:j+kernel_width-1]\n",
    "            output[i, j] = sum(patch .* kernel) .+ bias\n",
    "        end\n",
    "    end\n",
    "    return output\n",
    "end"
   ]
  },
  {
   "cell_type": "code",
   "execution_count": 3,
   "id": "00b9a2aa-7256-494d-b674-2f90053a6461",
   "metadata": {},
   "outputs": [
    {
     "data": {
      "text/plain": [
       "Convolution_2d_v2 (generic function with 1 method)"
      ]
     },
     "execution_count": 3,
     "metadata": {},
     "output_type": "execute_result"
    }
   ],
   "source": [
    "function Convolution_2d_v2(input, kernel; bias=0., padding=false)\n",
    "    input_rows, input_columns = size(input)\n",
    "    kernel_height, kernel_width = size(kernel)\n",
    "\n",
    "    if padding\n",
    "        padded_input = zeros(Float32, input_rows + 2*kernel_height - 2, input_columns + 2*kernel_width - 2)\n",
    "        padded_input[kernel_height:end-kernel_height+1, kernel_width:end-kernel_width+1] .= input\n",
    "        input_rows, input_columns = size(padded_input)\n",
    "        input = padded_input\n",
    "    end\n",
    "\n",
    "    output_rows = input_rows - kernel_height + 1\n",
    "    output_columns = input_columns - kernel_width + 1\n",
    "    output = zeros(Float32, output_rows, output_columns)\n",
    "\n",
    "    for c in 1:output_columns\n",
    "        for r in 1:output_rows\n",
    "            patch = @view input[r:r+kernel_height-1, c:c+kernel_width-1]\n",
    "            output[r, c] = sum(patch .* kernel) + bias\n",
    "        end\n",
    "    end\n",
    "    return output\n",
    "end"
   ]
  },
  {
   "cell_type": "code",
   "execution_count": 4,
   "id": "b44d6456",
   "metadata": {},
   "outputs": [
    {
     "data": {
      "text/plain": [
       "Convolution_2d_v3 (generic function with 1 method)"
      ]
     },
     "execution_count": 4,
     "metadata": {},
     "output_type": "execute_result"
    }
   ],
   "source": [
    "function Convolution_2d_v3(input, kernel; bias=0., padding=false)\n",
    "    input_rows, input_columns = size(input)\n",
    "    kernel_height, kernel_width = size(kernel)\n",
    "\n",
    "    if padding\n",
    "        padded_input = zeros(Float32, input_rows + 2*kernel_height - 2, input_columns + 2*kernel_width - 2)\n",
    "        padded_input[kernel_height:end-kernel_height+1, kernel_width:end-kernel_width+1] .= input\n",
    "        input_rows, input_columns = size(padded_input)\n",
    "        input = padded_input\n",
    "    end\n",
    "\n",
    "    output_rows = input_rows - kernel_height + 1\n",
    "    output_columns = input_columns - kernel_width + 1\n",
    "    output = zeros(Float32, output_rows, output_columns)\n",
    "    sumret = zeros(size(kernel))\n",
    "    for c in 1:output_columns\n",
    "        for r in 1:output_rows\n",
    "            patch = @view input[r:r+kernel_height-1, c:c+kernel_width-1]\n",
    "            sumret .= patch .* kernel\n",
    "            output[r, c] = sum(sumret) + bias\n",
    "            sumret .= 0.0\n",
    "        end\n",
    "    end\n",
    "    return output\n",
    "end"
   ]
  },
  {
   "cell_type": "code",
   "execution_count": 5,
   "id": "389ef676-9bf3-4f7c-8fe9-2bfe663ff088",
   "metadata": {},
   "outputs": [
    {
     "data": {
      "text/plain": [
       "Convolution_2d_v4 (generic function with 1 method)"
      ]
     },
     "execution_count": 5,
     "metadata": {},
     "output_type": "execute_result"
    }
   ],
   "source": [
    "function Convolution_2d_v4(input, kernel; bias=0.0f0, padding=false)\n",
    "    input_rows, input_columns = size(input)\n",
    "    kernel_height, kernel_width = size(kernel)\n",
    "\n",
    "    if padding\n",
    "        padded_input = zeros(Float32, input_rows + 2*kernel_height - 2, input_columns + 2*kernel_width - 2)\n",
    "        padded_input[kernel_height:end-kernel_height+1, kernel_width:end-kernel_width+1] .= input\n",
    "        input_rows, input_columns = size(padded_input)\n",
    "        input = padded_input\n",
    "    end\n",
    "\n",
    "    output_rows = input_rows - kernel_height + 1\n",
    "    output_columns = input_columns - kernel_width + 1\n",
    "    output = zeros(Float32, output_rows, output_columns)\n",
    "    sumret = zeros(Float32, size(kernel))\n",
    "    for c in 1:output_columns\n",
    "        for r in 1:output_rows\n",
    "            patch = @view input[r:r+kernel_height-1, c:c+kernel_width-1]\n",
    "            sumret .= @views (patch .* kernel)\n",
    "            output[r, c] = sum(@views sumret) .+ bias\n",
    "            sumret .= 0.0\n",
    "        end\n",
    "    end\n",
    "    \n",
    "    return output\n",
    "end"
   ]
  },
  {
   "cell_type": "code",
   "execution_count": 19,
   "id": "a9995651",
   "metadata": {},
   "outputs": [
    {
     "data": {
      "text/plain": [
       "Convolution_2d_v5 (generic function with 1 method)"
      ]
     },
     "execution_count": 19,
     "metadata": {},
     "output_type": "execute_result"
    }
   ],
   "source": [
    "function Convolution_2d_v5(input, kernel; bias=0.0f0, padding=false)\n",
    "  input_rows, input_columns = size(input)\n",
    "  kernel_height, kernel_width = size(kernel)\n",
    "\n",
    "  output_rows = input_rows - kernel_height + 1\n",
    "  output_columns = input_columns - kernel_width + 1\n",
    "  output = zeros(Float32, output_rows, output_columns)\n",
    "  sumret = zeros(Float32, size(kernel))\n",
    "  for c in 1:kernel_width\n",
    "      for r in 1:kernel_height\n",
    "          @views output .+= input[r:r+input_rows-kernel_height, c:c+input_columns-kernel_width] .* kernel[r,c]\n",
    "      end\n",
    "  end\n",
    "  output .+= bias\n",
    "  return output\n",
    "end"
   ]
  },
  {
   "cell_type": "code",
   "execution_count": 7,
   "id": "39871aa1-dd59-4dfc-b54d-ce08bbf8370e",
   "metadata": {},
   "outputs": [],
   "source": [
    "test_input = rand(Float32, 28,28);\n",
    "test_kernel = rand(Float32, 3, 3);\n",
    "test_bias = Float32(1);"
   ]
  },
  {
   "cell_type": "code",
   "execution_count": 8,
   "id": "4a591afc-f3f8-40d7-ab58-35f51edb30fd",
   "metadata": {},
   "outputs": [
    {
     "data": {
      "text/plain": [
       "BenchmarkTools.Trial: 10000 samples with 1 evaluation.\n",
       " Range \u001b[90m(\u001b[39m\u001b[36m\u001b[1mmin\u001b[22m\u001b[39m … \u001b[35mmax\u001b[39m\u001b[90m):  \u001b[39m\u001b[36m\u001b[1m64.400 μs\u001b[22m\u001b[39m … \u001b[35m 1.615 ms\u001b[39m  \u001b[90m┊\u001b[39m GC \u001b[90m(\u001b[39mmin … max\u001b[90m): \u001b[39m0.00% … 93.75%\n",
       " Time  \u001b[90m(\u001b[39m\u001b[34m\u001b[1mmedian\u001b[22m\u001b[39m\u001b[90m):     \u001b[39m\u001b[34m\u001b[1m66.300 μs              \u001b[22m\u001b[39m\u001b[90m┊\u001b[39m GC \u001b[90m(\u001b[39mmedian\u001b[90m):    \u001b[39m0.00%\n",
       " Time  \u001b[90m(\u001b[39m\u001b[32m\u001b[1mmean\u001b[22m\u001b[39m ± \u001b[32mσ\u001b[39m\u001b[90m):   \u001b[39m\u001b[32m\u001b[1m69.590 μs\u001b[22m\u001b[39m ± \u001b[32m32.739 μs\u001b[39m  \u001b[90m┊\u001b[39m GC \u001b[90m(\u001b[39mmean ± σ\u001b[90m):  \u001b[39m2.07% ±  4.48%\n",
       "\n",
       "  \u001b[39m▃\u001b[39m█\u001b[34m▇\u001b[39m\u001b[39m▅\u001b[39m▆\u001b[39m▄\u001b[32m▂\u001b[39m\u001b[39m▁\u001b[39m▁\u001b[39m▁\u001b[39m \u001b[39m \u001b[39m \u001b[39m \u001b[39m \u001b[39m \u001b[39m \u001b[39m \u001b[39m \u001b[39m \u001b[39m \u001b[39m \u001b[39m \u001b[39m \u001b[39m \u001b[39m \u001b[39m \u001b[39m \u001b[39m \u001b[39m \u001b[39m \u001b[39m \u001b[39m \u001b[39m \u001b[39m \u001b[39m \u001b[39m \u001b[39m \u001b[39m \u001b[39m \u001b[39m \u001b[39m \u001b[39m \u001b[39m \u001b[39m \u001b[39m \u001b[39m \u001b[39m \u001b[39m \u001b[39m \u001b[39m \u001b[39m \u001b[39m \u001b[39m \u001b[39m \u001b[39m \u001b[39m \u001b[39m \u001b[39m \u001b[39m \u001b[39m▂\n",
       "  \u001b[39m█\u001b[39m█\u001b[34m█\u001b[39m\u001b[39m█\u001b[39m█\u001b[39m█\u001b[32m█\u001b[39m\u001b[39m█\u001b[39m█\u001b[39m█\u001b[39m▆\u001b[39m▇\u001b[39m▇\u001b[39m▇\u001b[39m▇\u001b[39m█\u001b[39m▇\u001b[39m▆\u001b[39m▆\u001b[39m▅\u001b[39m▅\u001b[39m▅\u001b[39m▅\u001b[39m▆\u001b[39m▅\u001b[39m▃\u001b[39m▅\u001b[39m▅\u001b[39m▅\u001b[39m▄\u001b[39m▅\u001b[39m▄\u001b[39m▅\u001b[39m▅\u001b[39m▁\u001b[39m▄\u001b[39m▃\u001b[39m▄\u001b[39m▃\u001b[39m▄\u001b[39m▁\u001b[39m▁\u001b[39m▁\u001b[39m▁\u001b[39m▁\u001b[39m▄\u001b[39m▄\u001b[39m▃\u001b[39m▁\u001b[39m▃\u001b[39m▁\u001b[39m▁\u001b[39m▄\u001b[39m▄\u001b[39m▄\u001b[39m▇\u001b[39m█\u001b[39m▆\u001b[39m▆\u001b[39m \u001b[39m█\n",
       "  64.4 μs\u001b[90m      \u001b[39m\u001b[90mHistogram: \u001b[39m\u001b[90m\u001b[1mlog(\u001b[22m\u001b[39m\u001b[90mfrequency\u001b[39m\u001b[90m\u001b[1m)\u001b[22m\u001b[39m\u001b[90m by time\u001b[39m       119 μs \u001b[0m\u001b[1m<\u001b[22m\n",
       "\n",
       " Memory estimate\u001b[90m: \u001b[39m\u001b[33m132.19 KiB\u001b[39m, allocs estimate\u001b[90m: \u001b[39m\u001b[33m1353\u001b[39m."
      ]
     },
     "execution_count": 8,
     "metadata": {},
     "output_type": "execute_result"
    }
   ],
   "source": [
    "@benchmark Convolution_2d_v1(test_input, test_kernel, 0)"
   ]
  },
  {
   "cell_type": "code",
   "execution_count": 9,
   "id": "a92f8b72-f204-46af-996b-bcc062133bbb",
   "metadata": {},
   "outputs": [
    {
     "data": {
      "text/plain": [
       "BenchmarkTools.Trial: 10000 samples with 1 evaluation.\n",
       " Range \u001b[90m(\u001b[39m\u001b[36m\u001b[1mmin\u001b[22m\u001b[39m … \u001b[35mmax\u001b[39m\u001b[90m):  \u001b[39m\u001b[36m\u001b[1m40.900 μs\u001b[22m\u001b[39m … \u001b[35m811.300 μs\u001b[39m  \u001b[90m┊\u001b[39m GC \u001b[90m(\u001b[39mmin … max\u001b[90m): \u001b[39m0.00% … 89.74%\n",
       " Time  \u001b[90m(\u001b[39m\u001b[34m\u001b[1mmedian\u001b[22m\u001b[39m\u001b[90m):     \u001b[39m\u001b[34m\u001b[1m42.000 μs               \u001b[22m\u001b[39m\u001b[90m┊\u001b[39m GC \u001b[90m(\u001b[39mmedian\u001b[90m):    \u001b[39m0.00%\n",
       " Time  \u001b[90m(\u001b[39m\u001b[32m\u001b[1mmean\u001b[22m\u001b[39m ± \u001b[32mσ\u001b[39m\u001b[90m):   \u001b[39m\u001b[32m\u001b[1m44.565 μs\u001b[22m\u001b[39m ± \u001b[32m 21.829 μs\u001b[39m  \u001b[90m┊\u001b[39m GC \u001b[90m(\u001b[39mmean ± σ\u001b[90m):  \u001b[39m1.62% ±  3.32%\n",
       "\n",
       "  \u001b[39m█\u001b[34m█\u001b[39m\u001b[39m▅\u001b[39m▅\u001b[32m▅\u001b[39m\u001b[39m▃\u001b[39m▁\u001b[39m▁\u001b[39m▂\u001b[39m▃\u001b[39m▁\u001b[39m▁\u001b[39m \u001b[39m \u001b[39m \u001b[39m \u001b[39m \u001b[39m \u001b[39m \u001b[39m \u001b[39m \u001b[39m \u001b[39m \u001b[39m \u001b[39m \u001b[39m \u001b[39m \u001b[39m \u001b[39m \u001b[39m \u001b[39m \u001b[39m \u001b[39m \u001b[39m \u001b[39m \u001b[39m \u001b[39m \u001b[39m \u001b[39m \u001b[39m \u001b[39m \u001b[39m \u001b[39m \u001b[39m \u001b[39m \u001b[39m \u001b[39m \u001b[39m \u001b[39m \u001b[39m \u001b[39m \u001b[39m \u001b[39m \u001b[39m \u001b[39m \u001b[39m \u001b[39m \u001b[39m \u001b[39m \u001b[39m \u001b[39m \u001b[39m▂\n",
       "  \u001b[39m█\u001b[34m█\u001b[39m\u001b[39m█\u001b[39m█\u001b[32m█\u001b[39m\u001b[39m█\u001b[39m█\u001b[39m█\u001b[39m█\u001b[39m█\u001b[39m█\u001b[39m█\u001b[39m█\u001b[39m▇\u001b[39m▇\u001b[39m▆\u001b[39m▆\u001b[39m▆\u001b[39m▆\u001b[39m▆\u001b[39m▆\u001b[39m▅\u001b[39m▄\u001b[39m▆\u001b[39m▆\u001b[39m▅\u001b[39m▅\u001b[39m▅\u001b[39m▄\u001b[39m▅\u001b[39m█\u001b[39m█\u001b[39m▅\u001b[39m▇\u001b[39m▄\u001b[39m▄\u001b[39m▅\u001b[39m▅\u001b[39m▄\u001b[39m▁\u001b[39m▄\u001b[39m▅\u001b[39m▃\u001b[39m▁\u001b[39m▃\u001b[39m▃\u001b[39m▃\u001b[39m▁\u001b[39m▄\u001b[39m▁\u001b[39m▄\u001b[39m▃\u001b[39m▃\u001b[39m▁\u001b[39m▁\u001b[39m▁\u001b[39m▁\u001b[39m▁\u001b[39m▃\u001b[39m▇\u001b[39m \u001b[39m█\n",
       "  40.9 μs\u001b[90m       \u001b[39m\u001b[90mHistogram: \u001b[39m\u001b[90m\u001b[1mlog(\u001b[22m\u001b[39m\u001b[90mfrequency\u001b[39m\u001b[90m\u001b[1m)\u001b[22m\u001b[39m\u001b[90m by time\u001b[39m      91.1 μs \u001b[0m\u001b[1m<\u001b[22m\n",
       "\n",
       " Memory estimate\u001b[90m: \u001b[39m\u001b[33m66.22 KiB\u001b[39m, allocs estimate\u001b[90m: \u001b[39m\u001b[33m679\u001b[39m."
      ]
     },
     "execution_count": 9,
     "metadata": {},
     "output_type": "execute_result"
    }
   ],
   "source": [
    "@benchmark Convolution_2d_v2(test_input, test_kernel; bias=test_bias)"
   ]
  },
  {
   "cell_type": "code",
   "execution_count": 10,
   "id": "ae699758",
   "metadata": {},
   "outputs": [
    {
     "data": {
      "text/plain": [
       "BenchmarkTools.Trial: 10000 samples with 1 evaluation.\n",
       " Range \u001b[90m(\u001b[39m\u001b[36m\u001b[1mmin\u001b[22m\u001b[39m … \u001b[35mmax\u001b[39m\u001b[90m):  \u001b[39m\u001b[36m\u001b[1m28.400 μs\u001b[22m\u001b[39m … \u001b[35m560.400 μs\u001b[39m  \u001b[90m┊\u001b[39m GC \u001b[90m(\u001b[39mmin … max\u001b[90m): \u001b[39m0.00% … 0.00%\n",
       " Time  \u001b[90m(\u001b[39m\u001b[34m\u001b[1mmedian\u001b[22m\u001b[39m\u001b[90m):     \u001b[39m\u001b[34m\u001b[1m28.700 μs               \u001b[22m\u001b[39m\u001b[90m┊\u001b[39m GC \u001b[90m(\u001b[39mmedian\u001b[90m):    \u001b[39m0.00%\n",
       " Time  \u001b[90m(\u001b[39m\u001b[32m\u001b[1mmean\u001b[22m\u001b[39m ± \u001b[32mσ\u001b[39m\u001b[90m):   \u001b[39m\u001b[32m\u001b[1m30.530 μs\u001b[22m\u001b[39m ± \u001b[32m 11.055 μs\u001b[39m  \u001b[90m┊\u001b[39m GC \u001b[90m(\u001b[39mmean ± σ\u001b[90m):  \u001b[39m0.00% ± 0.00%\n",
       "\n",
       "  \u001b[34m█\u001b[39m\u001b[39m▅\u001b[32m▄\u001b[39m\u001b[39m▁\u001b[39m \u001b[39m \u001b[39m \u001b[39m \u001b[39m \u001b[39m \u001b[39m \u001b[39m \u001b[39m \u001b[39m \u001b[39m \u001b[39m \u001b[39m \u001b[39m \u001b[39m \u001b[39m \u001b[39m \u001b[39m \u001b[39m \u001b[39m \u001b[39m \u001b[39m \u001b[39m \u001b[39m \u001b[39m \u001b[39m \u001b[39m \u001b[39m \u001b[39m \u001b[39m \u001b[39m \u001b[39m \u001b[39m \u001b[39m \u001b[39m \u001b[39m \u001b[39m \u001b[39m \u001b[39m \u001b[39m \u001b[39m \u001b[39m \u001b[39m \u001b[39m \u001b[39m \u001b[39m \u001b[39m \u001b[39m \u001b[39m \u001b[39m \u001b[39m \u001b[39m \u001b[39m \u001b[39m \u001b[39m \u001b[39m \u001b[39m \u001b[39m▁\n",
       "  \u001b[34m█\u001b[39m\u001b[39m█\u001b[32m█\u001b[39m\u001b[39m█\u001b[39m█\u001b[39m▆\u001b[39m▇\u001b[39m▆\u001b[39m▆\u001b[39m▇\u001b[39m▅\u001b[39m▆\u001b[39m▅\u001b[39m▅\u001b[39m▆\u001b[39m▆\u001b[39m▆\u001b[39m▇\u001b[39m▅\u001b[39m▅\u001b[39m▅\u001b[39m▅\u001b[39m▄\u001b[39m▄\u001b[39m▃\u001b[39m▃\u001b[39m▃\u001b[39m▁\u001b[39m▄\u001b[39m▁\u001b[39m▁\u001b[39m▃\u001b[39m▄\u001b[39m▃\u001b[39m▃\u001b[39m▁\u001b[39m▁\u001b[39m▁\u001b[39m▁\u001b[39m▁\u001b[39m▃\u001b[39m▁\u001b[39m▁\u001b[39m▁\u001b[39m▁\u001b[39m▁\u001b[39m▁\u001b[39m▁\u001b[39m▁\u001b[39m▁\u001b[39m▃\u001b[39m▁\u001b[39m▁\u001b[39m▁\u001b[39m▁\u001b[39m▁\u001b[39m▁\u001b[39m▁\u001b[39m▁\u001b[39m▄\u001b[39m \u001b[39m█\n",
       "  28.4 μs\u001b[90m       \u001b[39m\u001b[90mHistogram: \u001b[39m\u001b[90m\u001b[1mlog(\u001b[22m\u001b[39m\u001b[90mfrequency\u001b[39m\u001b[90m\u001b[1m)\u001b[22m\u001b[39m\u001b[90m by time\u001b[39m       109 μs \u001b[0m\u001b[1m<\u001b[22m\n",
       "\n",
       " Memory estimate\u001b[90m: \u001b[39m\u001b[33m2.97 KiB\u001b[39m, allocs estimate\u001b[90m: \u001b[39m\u001b[33m4\u001b[39m."
      ]
     },
     "execution_count": 10,
     "metadata": {},
     "output_type": "execute_result"
    }
   ],
   "source": [
    "@benchmark Convolution_2d_v3(test_input, test_kernel; bias=test_bias)"
   ]
  },
  {
   "cell_type": "code",
   "execution_count": 11,
   "id": "c55aaf21-f14a-4007-851c-18e98daef1ee",
   "metadata": {},
   "outputs": [
    {
     "data": {
      "text/plain": [
       "BenchmarkTools.Trial: 10000 samples with 1 evaluation.\n",
       " Range \u001b[90m(\u001b[39m\u001b[36m\u001b[1mmin\u001b[22m\u001b[39m … \u001b[35mmax\u001b[39m\u001b[90m):  \u001b[39m\u001b[36m\u001b[1m27.500 μs\u001b[22m\u001b[39m … \u001b[35m209.600 μs\u001b[39m  \u001b[90m┊\u001b[39m GC \u001b[90m(\u001b[39mmin … max\u001b[90m): \u001b[39m0.00% … 0.00%\n",
       " Time  \u001b[90m(\u001b[39m\u001b[34m\u001b[1mmedian\u001b[22m\u001b[39m\u001b[90m):     \u001b[39m\u001b[34m\u001b[1m27.800 μs               \u001b[22m\u001b[39m\u001b[90m┊\u001b[39m GC \u001b[90m(\u001b[39mmedian\u001b[90m):    \u001b[39m0.00%\n",
       " Time  \u001b[90m(\u001b[39m\u001b[32m\u001b[1mmean\u001b[22m\u001b[39m ± \u001b[32mσ\u001b[39m\u001b[90m):   \u001b[39m\u001b[32m\u001b[1m29.634 μs\u001b[22m\u001b[39m ± \u001b[32m 10.372 μs\u001b[39m  \u001b[90m┊\u001b[39m GC \u001b[90m(\u001b[39mmean ± σ\u001b[90m):  \u001b[39m0.00% ± 0.00%\n",
       "\n",
       "  \u001b[34m█\u001b[39m\u001b[39m▅\u001b[32m▃\u001b[39m\u001b[39m▁\u001b[39m \u001b[39m \u001b[39m \u001b[39m \u001b[39m \u001b[39m \u001b[39m \u001b[39m \u001b[39m \u001b[39m \u001b[39m \u001b[39m \u001b[39m \u001b[39m \u001b[39m \u001b[39m \u001b[39m \u001b[39m \u001b[39m \u001b[39m \u001b[39m \u001b[39m \u001b[39m \u001b[39m \u001b[39m \u001b[39m \u001b[39m \u001b[39m \u001b[39m \u001b[39m \u001b[39m \u001b[39m \u001b[39m \u001b[39m \u001b[39m \u001b[39m \u001b[39m \u001b[39m \u001b[39m \u001b[39m \u001b[39m \u001b[39m \u001b[39m \u001b[39m \u001b[39m \u001b[39m \u001b[39m \u001b[39m \u001b[39m \u001b[39m \u001b[39m \u001b[39m \u001b[39m \u001b[39m \u001b[39m \u001b[39m \u001b[39m \u001b[39m▁\n",
       "  \u001b[34m█\u001b[39m\u001b[39m█\u001b[32m█\u001b[39m\u001b[39m█\u001b[39m█\u001b[39m▆\u001b[39m▅\u001b[39m▆\u001b[39m▆\u001b[39m▆\u001b[39m▄\u001b[39m▄\u001b[39m▄\u001b[39m▅\u001b[39m▆\u001b[39m▇\u001b[39m▆\u001b[39m▇\u001b[39m▇\u001b[39m▇\u001b[39m▅\u001b[39m▆\u001b[39m▄\u001b[39m▄\u001b[39m▁\u001b[39m▄\u001b[39m▁\u001b[39m▄\u001b[39m▃\u001b[39m▃\u001b[39m▁\u001b[39m▁\u001b[39m▁\u001b[39m▄\u001b[39m▁\u001b[39m▃\u001b[39m▁\u001b[39m▁\u001b[39m▄\u001b[39m▃\u001b[39m▁\u001b[39m▁\u001b[39m▁\u001b[39m▁\u001b[39m▁\u001b[39m▁\u001b[39m▁\u001b[39m▁\u001b[39m▁\u001b[39m▁\u001b[39m▁\u001b[39m▁\u001b[39m▁\u001b[39m▁\u001b[39m▁\u001b[39m▁\u001b[39m▁\u001b[39m▁\u001b[39m▁\u001b[39m▄\u001b[39m \u001b[39m█\n",
       "  27.5 μs\u001b[90m       \u001b[39m\u001b[90mHistogram: \u001b[39m\u001b[90m\u001b[1mlog(\u001b[22m\u001b[39m\u001b[90mfrequency\u001b[39m\u001b[90m\u001b[1m)\u001b[22m\u001b[39m\u001b[90m by time\u001b[39m       108 μs \u001b[0m\u001b[1m<\u001b[22m\n",
       "\n",
       " Memory estimate\u001b[90m: \u001b[39m\u001b[33m2.94 KiB\u001b[39m, allocs estimate\u001b[90m: \u001b[39m\u001b[33m4\u001b[39m."
      ]
     },
     "execution_count": 11,
     "metadata": {},
     "output_type": "execute_result"
    }
   ],
   "source": [
    "@benchmark Convolution_2d_v4(test_input, test_kernel; bias=test_bias)"
   ]
  },
  {
   "cell_type": "code",
   "execution_count": 20,
   "id": "7e65bd93-77f8-4872-8ef5-bc87582f6a4d",
   "metadata": {},
   "outputs": [
    {
     "data": {
      "text/plain": [
       "BenchmarkTools.Trial: 10000 samples with 9 evaluations.\n",
       " Range \u001b[90m(\u001b[39m\u001b[36m\u001b[1mmin\u001b[22m\u001b[39m … \u001b[35mmax\u001b[39m\u001b[90m):  \u001b[39m\u001b[36m\u001b[1m2.967 μs\u001b[22m\u001b[39m … \u001b[35m262.500 μs\u001b[39m  \u001b[90m┊\u001b[39m GC \u001b[90m(\u001b[39mmin … max\u001b[90m): \u001b[39m0.00% … 97.69%\n",
       " Time  \u001b[90m(\u001b[39m\u001b[34m\u001b[1mmedian\u001b[22m\u001b[39m\u001b[90m):     \u001b[39m\u001b[34m\u001b[1m3.056 μs               \u001b[22m\u001b[39m\u001b[90m┊\u001b[39m GC \u001b[90m(\u001b[39mmedian\u001b[90m):    \u001b[39m0.00%\n",
       " Time  \u001b[90m(\u001b[39m\u001b[32m\u001b[1mmean\u001b[22m\u001b[39m ± \u001b[32mσ\u001b[39m\u001b[90m):   \u001b[39m\u001b[32m\u001b[1m3.347 μs\u001b[22m\u001b[39m ± \u001b[32m  5.468 μs\u001b[39m  \u001b[90m┊\u001b[39m GC \u001b[90m(\u001b[39mmean ± σ\u001b[90m):  \u001b[39m3.58% ±  2.18%\n",
       "\n",
       "  \u001b[39m▄\u001b[39m█\u001b[34m█\u001b[39m\u001b[39m▆\u001b[39m▄\u001b[39m▃\u001b[39m▂\u001b[39m▂\u001b[39m▄\u001b[39m▃\u001b[32m▂\u001b[39m\u001b[39m▁\u001b[39m \u001b[39m \u001b[39m \u001b[39m \u001b[39m▂\u001b[39m▂\u001b[39m▃\u001b[39m▂\u001b[39m▂\u001b[39m▂\u001b[39m▁\u001b[39m▁\u001b[39m \u001b[39m▁\u001b[39m \u001b[39m \u001b[39m \u001b[39m \u001b[39m \u001b[39m \u001b[39m \u001b[39m \u001b[39m \u001b[39m \u001b[39m \u001b[39m \u001b[39m \u001b[39m \u001b[39m \u001b[39m \u001b[39m \u001b[39m \u001b[39m \u001b[39m \u001b[39m \u001b[39m \u001b[39m \u001b[39m \u001b[39m \u001b[39m \u001b[39m \u001b[39m \u001b[39m \u001b[39m \u001b[39m \u001b[39m \u001b[39m \u001b[39m \u001b[39m▂\n",
       "  \u001b[39m█\u001b[39m█\u001b[34m█\u001b[39m\u001b[39m█\u001b[39m█\u001b[39m█\u001b[39m█\u001b[39m█\u001b[39m█\u001b[39m█\u001b[32m█\u001b[39m\u001b[39m█\u001b[39m█\u001b[39m▇\u001b[39m█\u001b[39m█\u001b[39m█\u001b[39m█\u001b[39m█\u001b[39m█\u001b[39m█\u001b[39m█\u001b[39m█\u001b[39m█\u001b[39m█\u001b[39m█\u001b[39m█\u001b[39m█\u001b[39m▇\u001b[39m▇\u001b[39m▇\u001b[39m▆\u001b[39m▅\u001b[39m▅\u001b[39m▆\u001b[39m▅\u001b[39m▃\u001b[39m▅\u001b[39m▆\u001b[39m▅\u001b[39m▅\u001b[39m▄\u001b[39m▅\u001b[39m▄\u001b[39m▅\u001b[39m▄\u001b[39m▄\u001b[39m▄\u001b[39m▄\u001b[39m▄\u001b[39m▅\u001b[39m▁\u001b[39m▄\u001b[39m▅\u001b[39m▅\u001b[39m▄\u001b[39m▄\u001b[39m▄\u001b[39m▅\u001b[39m \u001b[39m█\n",
       "  2.97 μs\u001b[90m      \u001b[39m\u001b[90mHistogram: \u001b[39m\u001b[90m\u001b[1mlog(\u001b[22m\u001b[39m\u001b[90mfrequency\u001b[39m\u001b[90m\u001b[1m)\u001b[22m\u001b[39m\u001b[90m by time\u001b[39m      5.24 μs \u001b[0m\u001b[1m<\u001b[22m\n",
       "\n",
       " Memory estimate\u001b[90m: \u001b[39m\u001b[33m2.94 KiB\u001b[39m, allocs estimate\u001b[90m: \u001b[39m\u001b[33m4\u001b[39m."
      ]
     },
     "execution_count": 20,
     "metadata": {},
     "output_type": "execute_result"
    }
   ],
   "source": [
    "@benchmark Convolution_2d_v5(test_input, test_kernel; bias=test_bias)"
   ]
  },
  {
   "cell_type": "code",
   "execution_count": 21,
   "id": "97006dda",
   "metadata": {},
   "outputs": [
    {
     "data": {
      "text/plain": [
       "26×26 Matrix{Float32}:\n",
       " 3.31616  3.54165  4.53655  5.78159  …  4.78418  4.34526  3.91278  3.11735\n",
       " 3.47476  3.49686  4.54649  4.41374     5.13466  4.4259   4.12785  4.03863\n",
       " 4.35098  4.59843  4.49485  4.18861     5.48328  5.0303   4.62464  4.18723\n",
       " 4.68939  4.78303  4.43213  3.98371     5.09493  4.82136  4.25325  3.99564\n",
       " 3.99688  4.76486  4.4531   3.85592     4.19429  4.71409  4.42041  3.97164\n",
       " 4.05574  4.09084  4.30282  4.01568  …  4.66287  5.45297  4.34295  4.00846\n",
       " 4.16601  3.6552   3.94224  4.29355     5.67953  5.59144  5.06318  4.03557\n",
       " 4.87622  4.91784  4.42584  4.53048     5.63082  5.02013  4.56985  4.11635\n",
       " 4.57603  4.20388  4.26631  3.96454     4.51522  4.68304  4.98626  4.4571\n",
       " 4.41809  4.1104   4.22103  3.34295     3.58215  3.64115  4.79044  4.64659\n",
       " 3.69469  3.74608  3.08522  3.35963  …  2.56192  3.61458  4.89258  4.44091\n",
       " 4.25192  3.34576  3.24736  3.78192     3.04317  3.2199   3.86653  4.88782\n",
       " 4.15657  3.97821  3.61835  3.90713     4.23523  3.97355  3.97491  3.89724\n",
       " 4.61318  4.43761  4.83033  4.96604     4.54791  4.19407  3.48673  3.82408\n",
       " 5.57594  5.27235  6.00651  4.98031     3.55616  4.40062  4.57535  3.63509\n",
       " 6.11061  5.73447  5.26361  4.87506  …  3.36094  4.33755  4.28755  3.77509\n",
       " 6.21743  5.34967  4.71942  4.42005     4.01622  4.9638   4.55021  3.20131\n",
       " 5.53627  4.88774  4.75015  3.85978     5.08807  5.46795  4.79928  3.68431\n",
       " 4.15543  3.91618  4.51887  3.91394     4.67645  4.86135  4.67004  4.69931\n",
       " 3.49937  3.0342   3.51873  3.89486     4.59783  4.44043  4.33129  4.7501\n",
       " 3.72446  3.37141  3.06698  4.08644  …  4.3334   4.72746  5.12752  5.08683\n",
       " 4.54306  4.22197  3.77925  4.46071     5.3477   4.9721   5.62353  5.13694\n",
       " 3.8261   4.97552  4.48743  5.14895     4.36989  4.1636   4.54391  5.25454\n",
       " 3.83052  4.95621  5.22398  5.44884     3.86692  3.88174  4.17817  5.09116\n",
       " 4.23027  4.49316  4.97054  5.09162     4.20066  4.30388  4.00991  4.83509\n",
       " 4.20677  4.57419  4.43525  4.1403   …  3.88924  4.52896  4.73212  4.37468"
      ]
     },
     "execution_count": 21,
     "metadata": {},
     "output_type": "execute_result"
    }
   ],
   "source": [
    "Convolution_2d_v4(test_input, test_kernel; bias=test_bias)"
   ]
  },
  {
   "cell_type": "code",
   "execution_count": 22,
   "id": "f70d85f3",
   "metadata": {},
   "outputs": [
    {
     "data": {
      "text/plain": [
       "26×26 Matrix{Float32}:\n",
       " 3.31616  3.54165  4.53655  5.78159  …  4.78418  4.34526  3.91278  3.11735\n",
       " 3.47476  3.49686  4.54649  4.41374     5.13466  4.4259   4.12785  4.03863\n",
       " 4.35098  4.59843  4.49485  4.18861     5.48328  5.0303   4.62464  4.18723\n",
       " 4.68939  4.78303  4.43213  3.98371     5.09493  4.82136  4.25325  3.99564\n",
       " 3.99688  4.76486  4.4531   3.85592     4.19429  4.71409  4.42041  3.97164\n",
       " 4.05574  4.09084  4.30282  4.01568  …  4.66287  5.45297  4.34295  4.00846\n",
       " 4.16601  3.6552   3.94224  4.29355     5.67953  5.59144  5.06318  4.03557\n",
       " 4.87622  4.91784  4.42584  4.53048     5.63082  5.02013  4.56985  4.11635\n",
       " 4.57603  4.20388  4.26631  3.96454     4.51522  4.68304  4.98626  4.4571\n",
       " 4.41809  4.1104   4.22103  3.34295     3.58215  3.64115  4.79044  4.64659\n",
       " 3.69469  3.74608  3.08522  3.35963  …  2.56192  3.61458  4.89258  4.44091\n",
       " 4.25192  3.34576  3.24736  3.78192     3.04317  3.2199   3.86653  4.88782\n",
       " 4.15657  3.97821  3.61835  3.90713     4.23523  3.97355  3.97491  3.89724\n",
       " 4.61318  4.43761  4.83033  4.96604     4.54791  4.19407  3.48673  3.82408\n",
       " 5.57594  5.27235  6.00651  4.98031     3.55616  4.40062  4.57535  3.63509\n",
       " 6.11061  5.73447  5.26361  4.87506  …  3.36094  4.33755  4.28755  3.77509\n",
       " 6.21743  5.34967  4.71942  4.42005     4.01622  4.9638   4.55021  3.20131\n",
       " 5.53627  4.88774  4.75015  3.85978     5.08807  5.46795  4.79928  3.68431\n",
       " 4.15543  3.91618  4.51887  3.91394     4.67645  4.86135  4.67004  4.69931\n",
       " 3.49937  3.0342   3.51873  3.89486     4.59783  4.44043  4.33129  4.7501\n",
       " 3.72446  3.37141  3.06698  4.08644  …  4.3334   4.72746  5.12752  5.08683\n",
       " 4.54306  4.22197  3.77925  4.46071     5.3477   4.9721   5.62353  5.13694\n",
       " 3.8261   4.97552  4.48743  5.14895     4.36989  4.1636   4.54391  5.25454\n",
       " 3.83052  4.95621  5.22398  5.44884     3.86692  3.88174  4.17817  5.09116\n",
       " 4.23027  4.49316  4.97054  5.09162     4.20066  4.30388  4.00991  4.83509\n",
       " 4.20677  4.57419  4.43525  4.1403   …  3.88924  4.52896  4.73212  4.37468"
      ]
     },
     "execution_count": 22,
     "metadata": {},
     "output_type": "execute_result"
    }
   ],
   "source": [
    "Convolution_2d_v5(test_input, test_kernel; bias=test_bias)"
   ]
  }
 ],
 "metadata": {
  "kernelspec": {
   "display_name": "Julia 1.10.2",
   "language": "julia",
   "name": "julia-1.10"
  },
  "language_info": {
   "file_extension": ".jl",
   "mimetype": "application/julia",
   "name": "julia",
   "version": "1.10.2"
  }
 },
 "nbformat": 4,
 "nbformat_minor": 5
}
