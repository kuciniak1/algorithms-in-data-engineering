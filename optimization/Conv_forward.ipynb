{
 "cells": [
  {
   "cell_type": "code",
   "execution_count": 1,
   "id": "45844574-49a2-4a10-9757-f2a2b8c583e3",
   "metadata": {},
   "outputs": [],
   "source": [
    "using BenchmarkTools"
   ]
  },
  {
   "cell_type": "code",
   "execution_count": 2,
   "id": "55495425-5661-4bde-98db-beba616ad691",
   "metadata": {},
   "outputs": [
    {
     "data": {
      "text/plain": [
       "Convolution_2d_v3! (generic function with 1 method)"
      ]
     },
     "execution_count": 2,
     "metadata": {},
     "output_type": "execute_result"
    }
   ],
   "source": [
    "function Convolution_2d(input, kernel; bias=0., padding=false)\n",
    "    input_rows, input_columns = size(input)\n",
    "    kernel_height, kernel_width = size(kernel)\n",
    "\n",
    "    if padding\n",
    "        padded_input = zeros(Float32, input_rows + 2*kernel_height - 2, input_columns + 2*kernel_width - 2)\n",
    "        padded_input[kernel_height:end-kernel_height+1, kernel_width:end-kernel_width+1] .= input\n",
    "        input_rows, input_columns = size(padded_input)\n",
    "        input = padded_input\n",
    "    end\n",
    "\n",
    "    output_rows = input_rows - kernel_height + 1\n",
    "    output_columns = input_columns - kernel_width + 1\n",
    "    output = zeros(Float32, output_rows, output_columns)\n",
    "    sumret = zeros(size(kernel))\n",
    "    for c in 1:output_columns\n",
    "        for r in 1:output_rows\n",
    "            patch = @view input[r:r+kernel_height-1, c:c+kernel_width-1]\n",
    "            sumret .= patch .* kernel\n",
    "            output[r, c] = sum(sumret) + bias\n",
    "            sumret .= 0.0\n",
    "        end\n",
    "    end\n",
    "    return output\n",
    "end\n",
    "\n",
    "function Convolution_2d!(ret, input, kernel; bias=0., padding=false)\n",
    "    input_rows, input_columns = size(input)\n",
    "    kernel_height, kernel_width = size(kernel)\n",
    "\n",
    "    if padding\n",
    "        padded_input = zeros(Float32, input_rows + 2*kernel_height - 2, input_columns + 2*kernel_width - 2)\n",
    "        padded_input[kernel_height:end-kernel_height+1, kernel_width:end-kernel_width+1] .= input\n",
    "        input_rows, input_columns = size(padded_input)\n",
    "        input = padded_input\n",
    "    end\n",
    "\n",
    "    output_rows = input_rows - kernel_height + 1\n",
    "    output_columns = input_columns - kernel_width + 1\n",
    "    sumret = zeros(size(kernel))\n",
    "    for c in 1:output_columns\n",
    "        for r in 1:output_rows\n",
    "            patch = @view input[r:r+kernel_height-1, c:c+kernel_width-1]\n",
    "            sumret .= patch .* kernel\n",
    "            ret[r, c] = sum(sumret) + bias\n",
    "            sumret .= 0.0\n",
    "        end\n",
    "    end\n",
    "end\n",
    "\n",
    "function Convolution_2d_v2!(ret, sumret, input, kernel; bias=0., padding=false)\n",
    "    input_rows, input_columns = size(input)\n",
    "    kernel_height, kernel_width = size(kernel)\n",
    "\n",
    "    if padding\n",
    "        padded_input = zeros(Float32, input_rows + 2*kernel_height - 2, input_columns + 2*kernel_width - 2)\n",
    "        padded_input[kernel_height:end-kernel_height+1, kernel_width:end-kernel_width+1] .= input\n",
    "        input_rows, input_columns = size(padded_input)\n",
    "        input = padded_input\n",
    "    end\n",
    "\n",
    "    output_rows = input_rows - kernel_height + 1\n",
    "    output_columns = input_columns - kernel_width + 1\n",
    "    for c in 1:output_columns\n",
    "        for r in 1:output_rows\n",
    "            patch = @view input[r:r+kernel_height-1, c:c+kernel_width-1]\n",
    "            @views sumret .= patch .* kernel\n",
    "            ret[r, c] = sum(sumret) + bias\n",
    "            sumret .= 0.0\n",
    "        end\n",
    "    end\n",
    "end\n",
    "\n",
    "function Convolution_2d_v3!(ret, input, kernel; bias=0., padding=false)\n",
    "    input_rows, input_columns = size(input)\n",
    "    kernel_height, kernel_width = size(kernel)\n",
    "\n",
    "    output_rows = input_rows - kernel_height + 1\n",
    "    output_columns = input_columns - kernel_width + 1\n",
    "    for c in 1:kernel_width\n",
    "        for r in 1:kernel_height\n",
    "            @views ret .+= input[r:r+input_rows-kernel_height, c:c+input_columns-kernel_width] .* kernel[r,c]\n",
    "        end\n",
    "    end\n",
    "    ret .+= bias\n",
    "end"
   ]
  },
  {
   "cell_type": "code",
   "execution_count": 3,
   "id": "5fd377e6-b98e-4a99-bb6e-5de1373670ae",
   "metadata": {},
   "outputs": [
    {
     "data": {
      "text/plain": [
       "Conv_forward_v1 (generic function with 1 method)"
      ]
     },
     "execution_count": 3,
     "metadata": {},
     "output_type": "execute_result"
    }
   ],
   "source": [
    "function Conv_forward_v1(input, weights, bias)\n",
    "    input_height, input_width, input_channels = size(input)\n",
    "    kernel_height, kernel_width, _, output_channels = size(weights)\n",
    "\n",
    "    output_height = input_height - kernel_height + 1\n",
    "    output_width = input_width - kernel_width + 1\n",
    "    output = zeros(Float32, output_height, output_width, output_channels)\n",
    "\n",
    "    for k in 1:output_channels\n",
    "        for c in 1:input_channels\n",
    "            output[:, :, k] += Convolution_2d(input[:, :, c], weights[:, :, c, k]; bias=bias[k])\n",
    "        end\n",
    "    end\n",
    "    \n",
    "    return output\n",
    "end"
   ]
  },
  {
   "cell_type": "code",
   "execution_count": 4,
   "id": "e815b7c2-b49f-45ce-a4c4-fc5faeb5334c",
   "metadata": {},
   "outputs": [
    {
     "data": {
      "text/plain": [
       "Conv_forward_v2 (generic function with 1 method)"
      ]
     },
     "execution_count": 4,
     "metadata": {},
     "output_type": "execute_result"
    }
   ],
   "source": [
    "function Conv_forward_v2(input, weights, bias)\n",
    "    input_height, input_width, input_channels = size(input)\n",
    "    kernel_height, kernel_width, _, output_channels = size(weights)\n",
    "\n",
    "    output_height = input_height - kernel_height + 1\n",
    "    output_width = input_width - kernel_width + 1\n",
    "    output = zeros(Float32, output_height, output_width, output_channels)\n",
    "\n",
    "    for k in 1:output_channels\n",
    "        for c in 1:input_channels\n",
    "            output[:, :, k] .+= Convolution_2d(input[:, :, c], weights[:, :, c, k]; bias=bias[k])\n",
    "        end\n",
    "    end\n",
    "    \n",
    "    return output\n",
    "end"
   ]
  },
  {
   "cell_type": "code",
   "execution_count": 5,
   "id": "5a929974-3899-4af6-a55c-f493d112580b",
   "metadata": {},
   "outputs": [
    {
     "data": {
      "text/plain": [
       "Conv_forward_v3 (generic function with 1 method)"
      ]
     },
     "execution_count": 5,
     "metadata": {},
     "output_type": "execute_result"
    }
   ],
   "source": [
    "function Conv_forward_v3(input, weights, bias)\n",
    "    input_height, input_width, input_channels = size(input)\n",
    "    kernel_height, kernel_width, _, output_channels = size(weights)\n",
    "\n",
    "    output_height = input_height - kernel_height + 1\n",
    "    output_width = input_width - kernel_width + 1\n",
    "    output = zeros(Float32, output_height, output_width, output_channels)\n",
    "    ret = zeros(Float32, output_height, output_width)\n",
    "\n",
    "    for k in 1:output_channels\n",
    "        for c in 1:input_channels\n",
    "            Convolution_2d!(ret, input[:, :, c], weights[:, :, c, k]; bias=bias[k])\n",
    "            output[:, :, k] .+= ret\n",
    "            ret .= 0.0\n",
    "        end\n",
    "    end\n",
    "    \n",
    "    return output\n",
    "end"
   ]
  },
  {
   "cell_type": "code",
   "execution_count": 6,
   "id": "4fee5dcb-8274-4a2c-86a2-619244f35841",
   "metadata": {},
   "outputs": [
    {
     "data": {
      "text/plain": [
       "Conv_forward_v4 (generic function with 1 method)"
      ]
     },
     "execution_count": 6,
     "metadata": {},
     "output_type": "execute_result"
    }
   ],
   "source": [
    "function Conv_forward_v4(input, weights, bias)\n",
    "    input_height, input_width, input_channels = size(input)\n",
    "    kernel_height, kernel_width, _, output_channels = size(weights)\n",
    "\n",
    "    output_height = input_height - kernel_height + 1\n",
    "    output_width = input_width - kernel_width + 1\n",
    "    output = zeros(Float32, output_height, output_width, output_channels)\n",
    "    ret = zeros(Float32, output_height, output_width)\n",
    "    tmp_input = zeros(Float32, input_height, input_width)\n",
    "    tmp_weights = zeros(Float32, kernel_height, kernel_width)\n",
    "    for k in 1:output_channels\n",
    "        for c in 1:input_channels\n",
    "            tmp_input .= @views input[:, :, c]\n",
    "            tmp_weights .= @views weights[:, :, c, k]\n",
    "            Convolution_2d!(ret, tmp_input, tmp_weights; bias=bias[k])\n",
    "            output[:, :, k] .+= ret\n",
    "            ret .= 0.0\n",
    "        end\n",
    "    end\n",
    "    \n",
    "    return output\n",
    "end"
   ]
  },
  {
   "cell_type": "code",
   "execution_count": 7,
   "id": "cb7ac01d",
   "metadata": {},
   "outputs": [
    {
     "data": {
      "text/plain": [
       "Conv_forward_v5 (generic function with 1 method)"
      ]
     },
     "execution_count": 7,
     "metadata": {},
     "output_type": "execute_result"
    }
   ],
   "source": [
    "function Conv_forward_v5(input, weights, bias)\n",
    "  input_height, input_width, input_channels = size(input)\n",
    "  kernel_height, kernel_width, _, output_channels = size(weights)\n",
    "\n",
    "  output_height = input_height - kernel_height + 1\n",
    "  output_width = input_width - kernel_width + 1\n",
    "  output = zeros(Float32, output_height, output_width, output_channels)\n",
    "  ret = zeros(Float32, output_height, output_width)\n",
    "  tmp_input = zeros(Float32, input_height, input_width)\n",
    "  tmp_weights = zeros(Float32, kernel_height, kernel_width)\n",
    "  for k in 1:output_channels\n",
    "      for c in 1:input_channels\n",
    "          tmp_input .= @views input[:, :, c]\n",
    "          tmp_weights .= @views weights[:, :, c, k]\n",
    "          Convolution_2d!(ret, tmp_input, tmp_weights; bias=bias[k])\n",
    "          @views output[:, :, k] .+= ret\n",
    "          ret .= 0.0\n",
    "      end\n",
    "  end\n",
    "  return output\n",
    "end"
   ]
  },
  {
   "cell_type": "code",
   "execution_count": 8,
   "id": "a2284721",
   "metadata": {},
   "outputs": [
    {
     "data": {
      "text/plain": [
       "Conv_forward_v6 (generic function with 1 method)"
      ]
     },
     "execution_count": 8,
     "metadata": {},
     "output_type": "execute_result"
    }
   ],
   "source": [
    "function Conv_forward_v6(input, weights, bias)\n",
    "  input_height, input_width, input_channels = size(input)\n",
    "  kernel_height, kernel_width, _, output_channels = size(weights)\n",
    "\n",
    "  output_height = input_height - kernel_height + 1\n",
    "  output_width = input_width - kernel_width + 1\n",
    "  output = zeros(Float32, output_height, output_width, output_channels)\n",
    "  ret = zeros(Float32, output_height, output_width)\n",
    "  sumret = zeros(Float32, kernel_height, kernel_width)\n",
    "  tmp_input = zeros(Float32, input_height, input_width)\n",
    "  tmp_weights = zeros(Float32, kernel_height, kernel_width)\n",
    "  \n",
    "  for k in 1:output_channels\n",
    "      for c in 1:input_channels\n",
    "          tmp_input .= @views input[:, :, c]\n",
    "          tmp_weights .= @views weights[:, :, c, k]\n",
    "          Convolution_2d_v2!(ret, sumret, tmp_input, tmp_weights; bias=bias[k])\n",
    "          @views output[:, :, k] .+= ret\n",
    "          ret .= 0.0\n",
    "      end\n",
    "  end\n",
    "  return output\n",
    "end"
   ]
  },
  {
   "cell_type": "code",
   "execution_count": 9,
   "id": "cb24ccc3",
   "metadata": {},
   "outputs": [
    {
     "data": {
      "text/plain": [
       "Conv_forward_v7 (generic function with 1 method)"
      ]
     },
     "execution_count": 9,
     "metadata": {},
     "output_type": "execute_result"
    }
   ],
   "source": [
    "function Conv_forward_v7(input, weights, bias)\n",
    "  input_height, input_width, input_channels = size(input)\n",
    "  kernel_height, kernel_width, _, output_channels = size(weights)\n",
    "\n",
    "  output_height = input_height - kernel_height + 1\n",
    "  output_width = input_width - kernel_width + 1\n",
    "  output = zeros(Float32, output_height, output_width, output_channels)\n",
    "  ret = zeros(Float32, output_height, output_width)\n",
    "  tmp_input = zeros(Float32, input_height, input_width)\n",
    "  tmp_weights = zeros(Float32, kernel_height, kernel_width)\n",
    "  \n",
    "  for k in 1:output_channels\n",
    "      for c in 1:input_channels\n",
    "          tmp_input .= @views input[:, :, c]\n",
    "          tmp_weights .= @views weights[:, :, c, k]\n",
    "          Convolution_2d_v3!(ret, tmp_input, tmp_weights; bias=bias[k])\n",
    "          @views output[:, :, k] .+= ret\n",
    "          ret .= 0.0\n",
    "      end\n",
    "  end\n",
    "  return output\n",
    "end"
   ]
  },
  {
   "cell_type": "code",
   "execution_count": 10,
   "id": "305a2e62-ee84-4af2-a5d7-cc361aedce46",
   "metadata": {},
   "outputs": [],
   "source": [
    "input = rand(Float32, 28, 28, 6);\n",
    "weights = rand(Float32, 3, 3, 6, 16);\n",
    "bias = rand(Float32, 16);"
   ]
  },
  {
   "cell_type": "code",
   "execution_count": 11,
   "id": "cb0fee69-b334-43bb-9c57-bb0443a293e1",
   "metadata": {},
   "outputs": [
    {
     "data": {
      "text/plain": [
       "BenchmarkTools.Trial: 1406 samples with 1 evaluation.\n",
       " Range \u001b[90m(\u001b[39m\u001b[36m\u001b[1mmin\u001b[22m\u001b[39m … \u001b[35mmax\u001b[39m\u001b[90m):  \u001b[39m\u001b[36m\u001b[1m2.991 ms\u001b[22m\u001b[39m … \u001b[35m 11.325 ms\u001b[39m  \u001b[90m┊\u001b[39m GC \u001b[90m(\u001b[39mmin … max\u001b[90m): \u001b[39m0.00% … 73.26%\n",
       " Time  \u001b[90m(\u001b[39m\u001b[34m\u001b[1mmedian\u001b[22m\u001b[39m\u001b[90m):     \u001b[39m\u001b[34m\u001b[1m3.390 ms               \u001b[22m\u001b[39m\u001b[90m┊\u001b[39m GC \u001b[90m(\u001b[39mmedian\u001b[90m):    \u001b[39m0.00%\n",
       " Time  \u001b[90m(\u001b[39m\u001b[32m\u001b[1mmean\u001b[22m\u001b[39m ± \u001b[32mσ\u001b[39m\u001b[90m):   \u001b[39m\u001b[32m\u001b[1m3.545 ms\u001b[22m\u001b[39m ± \u001b[32m937.936 μs\u001b[39m  \u001b[90m┊\u001b[39m GC \u001b[90m(\u001b[39mmean ± σ\u001b[90m):  \u001b[39m4.48% ± 10.54%\n",
       "\n",
       "  \u001b[39m▂\u001b[39m \u001b[39m▁\u001b[39m█\u001b[34m▇\u001b[39m\u001b[32m▄\u001b[39m\u001b[39m▁\u001b[39m \u001b[39m \u001b[39m \u001b[39m \u001b[39m \u001b[39m \u001b[39m \u001b[39m \u001b[39m \u001b[39m \u001b[39m \u001b[39m \u001b[39m \u001b[39m \u001b[39m \u001b[39m \u001b[39m \u001b[39m \u001b[39m \u001b[39m \u001b[39m \u001b[39m \u001b[39m \u001b[39m \u001b[39m \u001b[39m \u001b[39m \u001b[39m \u001b[39m \u001b[39m \u001b[39m \u001b[39m \u001b[39m \u001b[39m \u001b[39m \u001b[39m \u001b[39m \u001b[39m \u001b[39m \u001b[39m \u001b[39m \u001b[39m \u001b[39m \u001b[39m \u001b[39m \u001b[39m \u001b[39m \u001b[39m \u001b[39m \u001b[39m \u001b[39m \u001b[39m \u001b[39m \u001b[39m \n",
       "  \u001b[39m█\u001b[39m█\u001b[39m█\u001b[39m█\u001b[34m█\u001b[39m\u001b[32m█\u001b[39m\u001b[39m█\u001b[39m▃\u001b[39m▅\u001b[39m▅\u001b[39m▃\u001b[39m▃\u001b[39m▁\u001b[39m▅\u001b[39m▁\u001b[39m▁\u001b[39m▁\u001b[39m▁\u001b[39m▃\u001b[39m▁\u001b[39m▁\u001b[39m▁\u001b[39m▁\u001b[39m▁\u001b[39m▁\u001b[39m▁\u001b[39m▁\u001b[39m▃\u001b[39m▁\u001b[39m▁\u001b[39m▁\u001b[39m▁\u001b[39m▁\u001b[39m▁\u001b[39m▁\u001b[39m▁\u001b[39m▁\u001b[39m▁\u001b[39m▁\u001b[39m▁\u001b[39m▁\u001b[39m▁\u001b[39m▁\u001b[39m▁\u001b[39m▁\u001b[39m▁\u001b[39m▁\u001b[39m▁\u001b[39m▁\u001b[39m▁\u001b[39m▁\u001b[39m▁\u001b[39m▁\u001b[39m▁\u001b[39m▁\u001b[39m▁\u001b[39m▅\u001b[39m▆\u001b[39m▇\u001b[39m \u001b[39m█\n",
       "  2.99 ms\u001b[90m      \u001b[39m\u001b[90mHistogram: \u001b[39m\u001b[90m\u001b[1mlog(\u001b[22m\u001b[39m\u001b[90mfrequency\u001b[39m\u001b[90m\u001b[1m)\u001b[22m\u001b[39m\u001b[90m by time\u001b[39m      9.04 ms \u001b[0m\u001b[1m<\u001b[22m\n",
       "\n",
       " Memory estimate\u001b[90m: \u001b[39m\u001b[33m1.15 MiB\u001b[39m, allocs estimate\u001b[90m: \u001b[39m\u001b[33m578\u001b[39m."
      ]
     },
     "execution_count": 11,
     "metadata": {},
     "output_type": "execute_result"
    }
   ],
   "source": [
    "@benchmark Conv_forward_v1(input, weights, bias)"
   ]
  },
  {
   "cell_type": "code",
   "execution_count": 12,
   "id": "2e96ec06-b5f2-47c9-b6cc-21a80f7c1112",
   "metadata": {},
   "outputs": [
    {
     "data": {
      "text/plain": [
       "BenchmarkTools.Trial: 1508 samples with 1 evaluation.\n",
       " Range \u001b[90m(\u001b[39m\u001b[36m\u001b[1mmin\u001b[22m\u001b[39m … \u001b[35mmax\u001b[39m\u001b[90m):  \u001b[39m\u001b[36m\u001b[1m2.909 ms\u001b[22m\u001b[39m … \u001b[35m  9.160 ms\u001b[39m  \u001b[90m┊\u001b[39m GC \u001b[90m(\u001b[39mmin … max\u001b[90m): \u001b[39m0.00% … 66.91%\n",
       " Time  \u001b[90m(\u001b[39m\u001b[34m\u001b[1mmedian\u001b[22m\u001b[39m\u001b[90m):     \u001b[39m\u001b[34m\u001b[1m3.213 ms               \u001b[22m\u001b[39m\u001b[90m┊\u001b[39m GC \u001b[90m(\u001b[39mmedian\u001b[90m):    \u001b[39m0.00%\n",
       " Time  \u001b[90m(\u001b[39m\u001b[32m\u001b[1mmean\u001b[22m\u001b[39m ± \u001b[32mσ\u001b[39m\u001b[90m):   \u001b[39m\u001b[32m\u001b[1m3.312 ms\u001b[22m\u001b[39m ± \u001b[32m759.818 μs\u001b[39m  \u001b[90m┊\u001b[39m GC \u001b[90m(\u001b[39mmean ± σ\u001b[90m):  \u001b[39m3.18% ±  8.74%\n",
       "\n",
       "  \u001b[39m▆\u001b[39m▁\u001b[39m█\u001b[34m█\u001b[39m\u001b[32m▅\u001b[39m\u001b[39m▁\u001b[39m \u001b[39m \u001b[39m \u001b[39m \u001b[39m \u001b[39m \u001b[39m \u001b[39m \u001b[39m \u001b[39m \u001b[39m \u001b[39m \u001b[39m \u001b[39m \u001b[39m \u001b[39m \u001b[39m \u001b[39m \u001b[39m \u001b[39m \u001b[39m \u001b[39m \u001b[39m \u001b[39m \u001b[39m \u001b[39m \u001b[39m \u001b[39m \u001b[39m \u001b[39m \u001b[39m \u001b[39m \u001b[39m \u001b[39m \u001b[39m \u001b[39m \u001b[39m \u001b[39m \u001b[39m \u001b[39m \u001b[39m \u001b[39m \u001b[39m \u001b[39m \u001b[39m \u001b[39m \u001b[39m \u001b[39m \u001b[39m \u001b[39m \u001b[39m \u001b[39m \u001b[39m \u001b[39m \u001b[39m \n",
       "  \u001b[39m█\u001b[39m█\u001b[39m█\u001b[34m█\u001b[39m\u001b[32m█\u001b[39m\u001b[39m█\u001b[39m▆\u001b[39m▄\u001b[39m▆\u001b[39m▆\u001b[39m▁\u001b[39m▄\u001b[39m▄\u001b[39m▄\u001b[39m▄\u001b[39m▄\u001b[39m▄\u001b[39m▁\u001b[39m▁\u001b[39m▄\u001b[39m▁\u001b[39m▄\u001b[39m▁\u001b[39m▁\u001b[39m▁\u001b[39m▁\u001b[39m▄\u001b[39m▁\u001b[39m▄\u001b[39m▁\u001b[39m▁\u001b[39m▁\u001b[39m▁\u001b[39m▁\u001b[39m▁\u001b[39m▁\u001b[39m▁\u001b[39m▁\u001b[39m▁\u001b[39m▁\u001b[39m▁\u001b[39m▁\u001b[39m▁\u001b[39m▁\u001b[39m▁\u001b[39m▁\u001b[39m▁\u001b[39m▁\u001b[39m▁\u001b[39m▁\u001b[39m▁\u001b[39m▁\u001b[39m▁\u001b[39m▁\u001b[39m▁\u001b[39m▁\u001b[39m▄\u001b[39m▅\u001b[39m▇\u001b[39m \u001b[39m█\n",
       "  2.91 ms\u001b[90m      \u001b[39m\u001b[90mHistogram: \u001b[39m\u001b[90m\u001b[1mlog(\u001b[22m\u001b[39m\u001b[90mfrequency\u001b[39m\u001b[90m\u001b[1m)\u001b[22m\u001b[39m\u001b[90m by time\u001b[39m      8.69 ms \u001b[0m\u001b[1m<\u001b[22m\n",
       "\n",
       " Memory estimate\u001b[90m: \u001b[39m\u001b[33m909.31 KiB\u001b[39m, allocs estimate\u001b[90m: \u001b[39m\u001b[33m482\u001b[39m."
      ]
     },
     "execution_count": 12,
     "metadata": {},
     "output_type": "execute_result"
    }
   ],
   "source": [
    "@benchmark Conv_forward_v2(input, weights, bias)"
   ]
  },
  {
   "cell_type": "code",
   "execution_count": 13,
   "id": "3b0b595f-9cf2-4396-bb39-2b78edf1cad7",
   "metadata": {},
   "outputs": [
    {
     "data": {
      "text/plain": [
       "BenchmarkTools.Trial: 1686 samples with 1 evaluation.\n",
       " Range \u001b[90m(\u001b[39m\u001b[36m\u001b[1mmin\u001b[22m\u001b[39m … \u001b[35mmax\u001b[39m\u001b[90m):  \u001b[39m\u001b[36m\u001b[1m2.872 ms\u001b[22m\u001b[39m … \u001b[35m  8.691 ms\u001b[39m  \u001b[90m┊\u001b[39m GC \u001b[90m(\u001b[39mmin … max\u001b[90m): \u001b[39m0.00% … 65.52%\n",
       " Time  \u001b[90m(\u001b[39m\u001b[34m\u001b[1mmedian\u001b[22m\u001b[39m\u001b[90m):     \u001b[39m\u001b[34m\u001b[1m2.899 ms               \u001b[22m\u001b[39m\u001b[90m┊\u001b[39m GC \u001b[90m(\u001b[39mmedian\u001b[90m):    \u001b[39m0.00%\n",
       " Time  \u001b[90m(\u001b[39m\u001b[32m\u001b[1mmean\u001b[22m\u001b[39m ± \u001b[32mσ\u001b[39m\u001b[90m):   \u001b[39m\u001b[32m\u001b[1m2.964 ms\u001b[22m\u001b[39m ± \u001b[32m316.215 μs\u001b[39m  \u001b[90m┊\u001b[39m GC \u001b[90m(\u001b[39mmean ± σ\u001b[90m):  \u001b[39m1.05% ±  4.86%\n",
       "\n",
       "  \u001b[39m█\u001b[34m▆\u001b[39m\u001b[39m▄\u001b[32m▂\u001b[39m\u001b[39m \u001b[39m \u001b[39m▄\u001b[39m \u001b[39m \u001b[39m▁\u001b[39m \u001b[39m \u001b[39m \u001b[39m \u001b[39m \u001b[39m \u001b[39m \u001b[39m \u001b[39m \u001b[39m \u001b[39m \u001b[39m \u001b[39m \u001b[39m \u001b[39m \u001b[39m \u001b[39m \u001b[39m \u001b[39m \u001b[39m \u001b[39m \u001b[39m \u001b[39m \u001b[39m \u001b[39m \u001b[39m \u001b[39m \u001b[39m \u001b[39m \u001b[39m \u001b[39m \u001b[39m \u001b[39m \u001b[39m \u001b[39m \u001b[39m \u001b[39m \u001b[39m \u001b[39m \u001b[39m \u001b[39m \u001b[39m \u001b[39m \u001b[39m \u001b[39m \u001b[39m \u001b[39m \u001b[39m \u001b[39m \u001b[39m \u001b[39m \n",
       "  \u001b[39m█\u001b[34m█\u001b[39m\u001b[39m█\u001b[32m█\u001b[39m\u001b[39m▆\u001b[39m█\u001b[39m█\u001b[39m█\u001b[39m█\u001b[39m█\u001b[39m▇\u001b[39m▆\u001b[39m▃\u001b[39m▄\u001b[39m▃\u001b[39m▁\u001b[39m▁\u001b[39m▁\u001b[39m▄\u001b[39m▃\u001b[39m▁\u001b[39m▁\u001b[39m▁\u001b[39m▁\u001b[39m▁\u001b[39m▃\u001b[39m▁\u001b[39m▁\u001b[39m▁\u001b[39m▁\u001b[39m▁\u001b[39m▁\u001b[39m▁\u001b[39m▁\u001b[39m▁\u001b[39m▁\u001b[39m▁\u001b[39m▁\u001b[39m▁\u001b[39m▁\u001b[39m▁\u001b[39m▁\u001b[39m▁\u001b[39m▁\u001b[39m▁\u001b[39m▁\u001b[39m▁\u001b[39m▁\u001b[39m▁\u001b[39m▁\u001b[39m▁\u001b[39m▁\u001b[39m▁\u001b[39m▁\u001b[39m▁\u001b[39m▁\u001b[39m▄\u001b[39m▆\u001b[39m▃\u001b[39m \u001b[39m█\n",
       "  2.87 ms\u001b[90m      \u001b[39m\u001b[90mHistogram: \u001b[39m\u001b[90m\u001b[1mlog(\u001b[22m\u001b[39m\u001b[90mfrequency\u001b[39m\u001b[90m\u001b[1m)\u001b[22m\u001b[39m\u001b[90m by time\u001b[39m      4.63 ms \u001b[0m\u001b[1m<\u001b[22m\n",
       "\n",
       " Memory estimate\u001b[90m: \u001b[39m\u001b[33m642.12 KiB\u001b[39m, allocs estimate\u001b[90m: \u001b[39m\u001b[33m387\u001b[39m."
      ]
     },
     "execution_count": 13,
     "metadata": {},
     "output_type": "execute_result"
    }
   ],
   "source": [
    "@benchmark Conv_forward_v3(input, weights, bias)"
   ]
  },
  {
   "cell_type": "code",
   "execution_count": 14,
   "id": "06957789-668e-4d86-8193-d620a33921a8",
   "metadata": {},
   "outputs": [
    {
     "data": {
      "text/plain": [
       "BenchmarkTools.Trial: 1718 samples with 1 evaluation.\n",
       " Range \u001b[90m(\u001b[39m\u001b[36m\u001b[1mmin\u001b[22m\u001b[39m … \u001b[35mmax\u001b[39m\u001b[90m):  \u001b[39m\u001b[36m\u001b[1m2.833 ms\u001b[22m\u001b[39m … \u001b[35m  8.391 ms\u001b[39m  \u001b[90m┊\u001b[39m GC \u001b[90m(\u001b[39mmin … max\u001b[90m): \u001b[39m0.00% … 65.83%\n",
       " Time  \u001b[90m(\u001b[39m\u001b[34m\u001b[1mmedian\u001b[22m\u001b[39m\u001b[90m):     \u001b[39m\u001b[34m\u001b[1m2.866 ms               \u001b[22m\u001b[39m\u001b[90m┊\u001b[39m GC \u001b[90m(\u001b[39mmedian\u001b[90m):    \u001b[39m0.00%\n",
       " Time  \u001b[90m(\u001b[39m\u001b[32m\u001b[1mmean\u001b[22m\u001b[39m ± \u001b[32mσ\u001b[39m\u001b[90m):   \u001b[39m\u001b[32m\u001b[1m2.907 ms\u001b[22m\u001b[39m ± \u001b[32m213.905 μs\u001b[39m  \u001b[90m┊\u001b[39m GC \u001b[90m(\u001b[39mmean ± σ\u001b[90m):  \u001b[39m0.50% ±  3.39%\n",
       "\n",
       "  \u001b[39m▅\u001b[39m█\u001b[39m▁\u001b[34m \u001b[39m\u001b[39m \u001b[39m \u001b[39m \u001b[32m \u001b[39m\u001b[39m \u001b[39m \u001b[39m \u001b[39m \u001b[39m \u001b[39m \u001b[39m \u001b[39m \u001b[39m \u001b[39m \u001b[39m \u001b[39m \u001b[39m \u001b[39m \u001b[39m \u001b[39m \u001b[39m \u001b[39m \u001b[39m \u001b[39m \u001b[39m \u001b[39m \u001b[39m \u001b[39m \u001b[39m \u001b[39m \u001b[39m \u001b[39m \u001b[39m \u001b[39m \u001b[39m \u001b[39m \u001b[39m \u001b[39m \u001b[39m \u001b[39m \u001b[39m \u001b[39m \u001b[39m \u001b[39m \u001b[39m \u001b[39m \u001b[39m \u001b[39m \u001b[39m \u001b[39m \u001b[39m \u001b[39m \u001b[39m \u001b[39m \u001b[39m \u001b[39m \u001b[39m \n",
       "  \u001b[39m█\u001b[39m█\u001b[39m█\u001b[34m▅\u001b[39m\u001b[39m▇\u001b[39m▇\u001b[39m▆\u001b[32m▄\u001b[39m\u001b[39m▃\u001b[39m▄\u001b[39m▃\u001b[39m▃\u001b[39m▃\u001b[39m▃\u001b[39m▃\u001b[39m▃\u001b[39m▂\u001b[39m▂\u001b[39m▂\u001b[39m▂\u001b[39m▃\u001b[39m▂\u001b[39m▂\u001b[39m▂\u001b[39m▂\u001b[39m▂\u001b[39m▂\u001b[39m▁\u001b[39m▂\u001b[39m▂\u001b[39m▁\u001b[39m▂\u001b[39m▂\u001b[39m▁\u001b[39m▂\u001b[39m▂\u001b[39m▁\u001b[39m▁\u001b[39m▁\u001b[39m▁\u001b[39m▁\u001b[39m▁\u001b[39m▂\u001b[39m▁\u001b[39m▁\u001b[39m▂\u001b[39m▁\u001b[39m▁\u001b[39m▁\u001b[39m▂\u001b[39m▁\u001b[39m▁\u001b[39m▁\u001b[39m▂\u001b[39m▁\u001b[39m▁\u001b[39m▂\u001b[39m▁\u001b[39m▂\u001b[39m \u001b[39m▃\n",
       "  2.83 ms\u001b[90m         Histogram: frequency by time\u001b[39m        3.44 ms \u001b[0m\u001b[1m<\u001b[22m\n",
       "\n",
       " Memory estimate\u001b[90m: \u001b[39m\u001b[33m330.41 KiB\u001b[39m, allocs estimate\u001b[90m: \u001b[39m\u001b[33m197\u001b[39m."
      ]
     },
     "execution_count": 14,
     "metadata": {},
     "output_type": "execute_result"
    }
   ],
   "source": [
    "@benchmark Conv_forward_v4(input, weights, bias)"
   ]
  },
  {
   "cell_type": "code",
   "execution_count": 15,
   "id": "d0801b36",
   "metadata": {},
   "outputs": [
    {
     "data": {
      "text/plain": [
       "BenchmarkTools.Trial: 1732 samples with 1 evaluation.\n",
       " Range \u001b[90m(\u001b[39m\u001b[36m\u001b[1mmin\u001b[22m\u001b[39m … \u001b[35mmax\u001b[39m\u001b[90m):  \u001b[39m\u001b[36m\u001b[1m2.792 ms\u001b[22m\u001b[39m … \u001b[35m  5.652 ms\u001b[39m  \u001b[90m┊\u001b[39m GC \u001b[90m(\u001b[39mmin … max\u001b[90m): \u001b[39m0.00% … 0.00%\n",
       " Time  \u001b[90m(\u001b[39m\u001b[34m\u001b[1mmedian\u001b[22m\u001b[39m\u001b[90m):     \u001b[39m\u001b[34m\u001b[1m2.826 ms               \u001b[22m\u001b[39m\u001b[90m┊\u001b[39m GC \u001b[90m(\u001b[39mmedian\u001b[90m):    \u001b[39m0.00%\n",
       " Time  \u001b[90m(\u001b[39m\u001b[32m\u001b[1mmean\u001b[22m\u001b[39m ± \u001b[32mσ\u001b[39m\u001b[90m):   \u001b[39m\u001b[32m\u001b[1m2.885 ms\u001b[22m\u001b[39m ± \u001b[32m284.097 μs\u001b[39m  \u001b[90m┊\u001b[39m GC \u001b[90m(\u001b[39mmean ± σ\u001b[90m):  \u001b[39m0.03% ± 0.69%\n",
       "\n",
       "  \u001b[39m█\u001b[34m▆\u001b[39m\u001b[39m▆\u001b[32m▃\u001b[39m\u001b[39m▁\u001b[39m▁\u001b[39m \u001b[39m \u001b[39m \u001b[39m \u001b[39m \u001b[39m \u001b[39m \u001b[39m \u001b[39m \u001b[39m \u001b[39m \u001b[39m \u001b[39m \u001b[39m \u001b[39m \u001b[39m \u001b[39m \u001b[39m \u001b[39m \u001b[39m \u001b[39m \u001b[39m \u001b[39m \u001b[39m \u001b[39m \u001b[39m \u001b[39m \u001b[39m \u001b[39m \u001b[39m \u001b[39m \u001b[39m \u001b[39m \u001b[39m \u001b[39m \u001b[39m \u001b[39m \u001b[39m \u001b[39m \u001b[39m \u001b[39m \u001b[39m \u001b[39m \u001b[39m \u001b[39m \u001b[39m \u001b[39m \u001b[39m \u001b[39m \u001b[39m \u001b[39m \u001b[39m \u001b[39m \u001b[39m \u001b[39m \n",
       "  \u001b[39m█\u001b[34m█\u001b[39m\u001b[39m█\u001b[32m█\u001b[39m\u001b[39m█\u001b[39m█\u001b[39m█\u001b[39m█\u001b[39m▇\u001b[39m▇\u001b[39m▇\u001b[39m▆\u001b[39m▅\u001b[39m▄\u001b[39m▁\u001b[39m▁\u001b[39m▄\u001b[39m▃\u001b[39m▄\u001b[39m▅\u001b[39m▁\u001b[39m▄\u001b[39m▁\u001b[39m▁\u001b[39m▁\u001b[39m▃\u001b[39m▄\u001b[39m▃\u001b[39m▁\u001b[39m▃\u001b[39m▁\u001b[39m▁\u001b[39m▁\u001b[39m▁\u001b[39m▅\u001b[39m▃\u001b[39m▁\u001b[39m▁\u001b[39m▃\u001b[39m▁\u001b[39m▃\u001b[39m▃\u001b[39m▃\u001b[39m▃\u001b[39m▃\u001b[39m▄\u001b[39m▁\u001b[39m▁\u001b[39m▁\u001b[39m▁\u001b[39m▃\u001b[39m▁\u001b[39m▁\u001b[39m▁\u001b[39m▃\u001b[39m▁\u001b[39m▅\u001b[39m▁\u001b[39m▃\u001b[39m \u001b[39m█\n",
       "  2.79 ms\u001b[90m      \u001b[39m\u001b[90mHistogram: \u001b[39m\u001b[90m\u001b[1mlog(\u001b[22m\u001b[39m\u001b[90mfrequency\u001b[39m\u001b[90m\u001b[1m)\u001b[22m\u001b[39m\u001b[90m by time\u001b[39m      4.53 ms \u001b[0m\u001b[1m<\u001b[22m\n",
       "\n",
       " Memory estimate\u001b[90m: \u001b[39m\u001b[33m60.41 KiB\u001b[39m, allocs estimate\u001b[90m: \u001b[39m\u001b[33m101\u001b[39m."
      ]
     },
     "execution_count": 15,
     "metadata": {},
     "output_type": "execute_result"
    }
   ],
   "source": [
    "@benchmark Conv_forward_v5(input, weights, bias)"
   ]
  },
  {
   "cell_type": "code",
   "execution_count": 16,
   "id": "b57c6a19",
   "metadata": {},
   "outputs": [
    {
     "data": {
      "text/plain": [
       "BenchmarkTools.Trial: 2025 samples with 1 evaluation.\n",
       " Range \u001b[90m(\u001b[39m\u001b[36m\u001b[1mmin\u001b[22m\u001b[39m … \u001b[35mmax\u001b[39m\u001b[90m):  \u001b[39m\u001b[36m\u001b[1m2.402 ms\u001b[22m\u001b[39m … \u001b[35m  5.250 ms\u001b[39m  \u001b[90m┊\u001b[39m GC \u001b[90m(\u001b[39mmin … max\u001b[90m): \u001b[39m0.00% … 0.00%\n",
       " Time  \u001b[90m(\u001b[39m\u001b[34m\u001b[1mmedian\u001b[22m\u001b[39m\u001b[90m):     \u001b[39m\u001b[34m\u001b[1m2.434 ms               \u001b[22m\u001b[39m\u001b[90m┊\u001b[39m GC \u001b[90m(\u001b[39mmedian\u001b[90m):    \u001b[39m0.00%\n",
       " Time  \u001b[90m(\u001b[39m\u001b[32m\u001b[1mmean\u001b[22m\u001b[39m ± \u001b[32mσ\u001b[39m\u001b[90m):   \u001b[39m\u001b[32m\u001b[1m2.467 ms\u001b[22m\u001b[39m ± \u001b[32m121.326 μs\u001b[39m  \u001b[90m┊\u001b[39m GC \u001b[90m(\u001b[39mmean ± σ\u001b[90m):  \u001b[39m0.05% ± 1.06%\n",
       "\n",
       "  \u001b[39m \u001b[39m█\u001b[39m▁\u001b[39m▅\u001b[39m \u001b[34m \u001b[39m\u001b[39m \u001b[39m \u001b[39m \u001b[39m \u001b[32m \u001b[39m\u001b[39m \u001b[39m \u001b[39m \u001b[39m \u001b[39m \u001b[39m \u001b[39m \u001b[39m \u001b[39m \u001b[39m \u001b[39m \u001b[39m \u001b[39m \u001b[39m \u001b[39m \u001b[39m \u001b[39m \u001b[39m \u001b[39m \u001b[39m \u001b[39m \u001b[39m \u001b[39m \u001b[39m \u001b[39m \u001b[39m \u001b[39m \u001b[39m \u001b[39m \u001b[39m \u001b[39m \u001b[39m \u001b[39m \u001b[39m \u001b[39m \u001b[39m \u001b[39m \u001b[39m \u001b[39m \u001b[39m \u001b[39m \u001b[39m \u001b[39m \u001b[39m \u001b[39m \u001b[39m \u001b[39m \u001b[39m \u001b[39m \u001b[39m \n",
       "  \u001b[39m▅\u001b[39m█\u001b[39m█\u001b[39m█\u001b[39m█\u001b[34m▆\u001b[39m\u001b[39m▅\u001b[39m▄\u001b[39m▄\u001b[39m▄\u001b[32m▄\u001b[39m\u001b[39m▄\u001b[39m▄\u001b[39m▃\u001b[39m▃\u001b[39m▄\u001b[39m▃\u001b[39m▄\u001b[39m▃\u001b[39m▃\u001b[39m▃\u001b[39m▂\u001b[39m▃\u001b[39m▂\u001b[39m▂\u001b[39m▂\u001b[39m▂\u001b[39m▂\u001b[39m▂\u001b[39m▂\u001b[39m▂\u001b[39m▂\u001b[39m▂\u001b[39m▂\u001b[39m▂\u001b[39m▂\u001b[39m▂\u001b[39m▂\u001b[39m▂\u001b[39m▂\u001b[39m▁\u001b[39m▁\u001b[39m▂\u001b[39m▂\u001b[39m▂\u001b[39m▂\u001b[39m▂\u001b[39m▂\u001b[39m▁\u001b[39m▁\u001b[39m▂\u001b[39m▂\u001b[39m▁\u001b[39m▂\u001b[39m▂\u001b[39m▁\u001b[39m▂\u001b[39m▂\u001b[39m▂\u001b[39m \u001b[39m▃\n",
       "  2.4 ms\u001b[90m          Histogram: frequency by time\u001b[39m         2.8 ms \u001b[0m\u001b[1m<\u001b[22m\n",
       "\n",
       " Memory estimate\u001b[90m: \u001b[39m\u001b[33m48.50 KiB\u001b[39m, allocs estimate\u001b[90m: \u001b[39m\u001b[33m6\u001b[39m."
      ]
     },
     "execution_count": 16,
     "metadata": {},
     "output_type": "execute_result"
    }
   ],
   "source": [
    "@benchmark Conv_forward_v6(input, weights, bias)"
   ]
  },
  {
   "cell_type": "code",
   "execution_count": 17,
   "id": "2fcd4aec",
   "metadata": {},
   "outputs": [
    {
     "data": {
      "text/plain": [
       "BenchmarkTools.Trial: 10000 samples with 1 evaluation.\n",
       " Range \u001b[90m(\u001b[39m\u001b[36m\u001b[1mmin\u001b[22m\u001b[39m … \u001b[35mmax\u001b[39m\u001b[90m):  \u001b[39m\u001b[36m\u001b[1m325.900 μs\u001b[22m\u001b[39m … \u001b[35m 4.470 ms\u001b[39m  \u001b[90m┊\u001b[39m GC \u001b[90m(\u001b[39mmin … max\u001b[90m): \u001b[39m0.00% … 91.70%\n",
       " Time  \u001b[90m(\u001b[39m\u001b[34m\u001b[1mmedian\u001b[22m\u001b[39m\u001b[90m):     \u001b[39m\u001b[34m\u001b[1m335.000 μs              \u001b[22m\u001b[39m\u001b[90m┊\u001b[39m GC \u001b[90m(\u001b[39mmedian\u001b[90m):    \u001b[39m0.00%\n",
       " Time  \u001b[90m(\u001b[39m\u001b[32m\u001b[1mmean\u001b[22m\u001b[39m ± \u001b[32mσ\u001b[39m\u001b[90m):   \u001b[39m\u001b[32m\u001b[1m341.349 μs\u001b[22m\u001b[39m ± \u001b[32m60.977 μs\u001b[39m  \u001b[90m┊\u001b[39m GC \u001b[90m(\u001b[39mmean ± σ\u001b[90m):  \u001b[39m0.48% ±  2.52%\n",
       "\n",
       "  \u001b[39m \u001b[39m▅\u001b[39m█\u001b[39m \u001b[39m \u001b[39m▄\u001b[39m▇\u001b[34m \u001b[39m\u001b[39m \u001b[39m \u001b[39m \u001b[39m \u001b[32m \u001b[39m\u001b[39m \u001b[39m \u001b[39m \u001b[39m \u001b[39m \u001b[39m \u001b[39m \u001b[39m \u001b[39m \u001b[39m \u001b[39m \u001b[39m \u001b[39m \u001b[39m \u001b[39m \u001b[39m \u001b[39m \u001b[39m \u001b[39m \u001b[39m \u001b[39m \u001b[39m \u001b[39m \u001b[39m \u001b[39m \u001b[39m \u001b[39m \u001b[39m \u001b[39m \u001b[39m \u001b[39m \u001b[39m \u001b[39m \u001b[39m \u001b[39m \u001b[39m \u001b[39m \u001b[39m \u001b[39m \u001b[39m \u001b[39m \u001b[39m \u001b[39m \u001b[39m \u001b[39m \u001b[39m \u001b[39m \u001b[39m \u001b[39m \n",
       "  \u001b[39m▂\u001b[39m█\u001b[39m█\u001b[39m█\u001b[39m▅\u001b[39m█\u001b[39m█\u001b[34m█\u001b[39m\u001b[39m▆\u001b[39m▄\u001b[39m▄\u001b[39m▄\u001b[32m▅\u001b[39m\u001b[39m▇\u001b[39m▆\u001b[39m▅\u001b[39m▅\u001b[39m▆\u001b[39m▅\u001b[39m▄\u001b[39m▃\u001b[39m▃\u001b[39m▃\u001b[39m▃\u001b[39m▂\u001b[39m▃\u001b[39m▃\u001b[39m▃\u001b[39m▂\u001b[39m▂\u001b[39m▂\u001b[39m▂\u001b[39m▂\u001b[39m▂\u001b[39m▂\u001b[39m▂\u001b[39m▂\u001b[39m▂\u001b[39m▂\u001b[39m▂\u001b[39m▂\u001b[39m▂\u001b[39m▂\u001b[39m▂\u001b[39m▂\u001b[39m▂\u001b[39m▂\u001b[39m▂\u001b[39m▂\u001b[39m▂\u001b[39m▂\u001b[39m▂\u001b[39m▂\u001b[39m▂\u001b[39m▂\u001b[39m▁\u001b[39m▂\u001b[39m▂\u001b[39m▂\u001b[39m▂\u001b[39m \u001b[39m▃\n",
       "  326 μs\u001b[90m          Histogram: frequency by time\u001b[39m          404 μs \u001b[0m\u001b[1m<\u001b[22m\n",
       "\n",
       " Memory estimate\u001b[90m: \u001b[39m\u001b[33m48.41 KiB\u001b[39m, allocs estimate\u001b[90m: \u001b[39m\u001b[33m5\u001b[39m."
      ]
     },
     "execution_count": 17,
     "metadata": {},
     "output_type": "execute_result"
    }
   ],
   "source": [
    "@benchmark Conv_forward_v7(input, weights, bias)"
   ]
  },
  {
   "cell_type": "code",
   "execution_count": 18,
   "id": "635c7860",
   "metadata": {},
   "outputs": [
    {
     "data": {
      "text/plain": [
       "26×26 Matrix{Float32}:\n",
       " 16.8845  18.2594  18.7286  18.822   …  16.9721  17.3893  18.4491  18.3908\n",
       " 18.5714  16.517   18.1688  18.5788     17.277   18.1204  16.7065  16.8356\n",
       " 18.7299  16.5257  17.0319  16.8556     17.6947  17.9055  16.5244  18.2157\n",
       " 20.9102  19.3535  17.7175  15.0227     16.8224  16.8294  17.7     18.2396\n",
       " 20.6838  20.5951  18.2939  15.821      16.9613  16.0222  17.1757  18.1366\n",
       " 18.3121  19.088   17.2587  16.4646  …  16.5458  16.5134  15.3376  15.3293\n",
       " 17.4604  19.5499  18.1163  16.7063     16.4121  15.2534  15.1732  17.5077\n",
       " 16.6046  17.7405  18.2582  18.7267     16.9517  15.2968  17.4078  17.7513\n",
       " 15.7168  14.7998  17.5295  18.6343     17.6783  16.0969  17.5986  17.7251\n",
       " 17.1229  16.8894  16.3873  17.3629     17.0878  16.8594  17.6072  17.9415\n",
       " 19.4259  18.1652  18.3607  18.1661  …  17.6095  19.1117  18.0503  18.7448\n",
       " 18.962   19.97    18.8933  17.9475     17.985   19.0002  19.2493  18.8378\n",
       " 18.5388  18.0807  17.5033  17.8047     19.0425  18.8824  18.1337  17.3338\n",
       " 17.0251  15.8627  16.3686  17.8843     17.9925  18.6292  18.0349  17.1039\n",
       " 17.2688  16.9483  16.9221  16.1702     18.535   18.3311  18.7442  18.8095\n",
       " 16.6762  16.5984  16.5071  16.8013  …  18.1976  18.0473  18.1911  18.6628\n",
       " 18.0763  18.0238  17.3357  17.4816     17.006   19.2633  17.9865  17.0899\n",
       " 18.1606  17.1485  17.9958  16.3181     17.7162  17.946   19.1355  17.6569\n",
       " 17.9565  18.0951  17.2339  16.4362     17.4543  17.8403  17.5654  18.5094\n",
       " 18.5265  18.4299  18.88    17.8108     16.3319  15.5159  17.8284  18.9694\n",
       " 19.8796  20.0682  18.7495  18.3746  …  16.5385  16.4647  18.7735  17.3774\n",
       " 20.2817  20.5781  18.1167  17.5555     16.997   16.6258  17.4082  16.6712\n",
       " 19.059   20.1787  19.0576  16.4346     17.3771  18.1507  17.4276  17.6327\n",
       " 17.5984  19.4972  19.6245  18.6486     19.3146  20.1923  18.0991  18.2104\n",
       " 16.4138  17.6794  18.8706  19.7699     18.846   20.4126  17.9232  18.0268\n",
       " 16.8304  15.8769  17.5356  18.1205  …  19.727   17.923   16.4944  16.9234"
      ]
     },
     "execution_count": 18,
     "metadata": {},
     "output_type": "execute_result"
    }
   ],
   "source": [
    "Conv_forward_v5(input, weights, bias)[:,:,7]"
   ]
  },
  {
   "cell_type": "code",
   "execution_count": 22,
   "id": "078dde98",
   "metadata": {},
   "outputs": [
    {
     "data": {
      "text/plain": [
       "26×26 Matrix{Float32}:\n",
       " 16.8845  18.2594  18.7286  18.822   …  16.972   17.3893  18.4491  18.3908\n",
       " 18.5714  16.517   18.1688  18.5788     17.277   18.1204  16.7065  16.8356\n",
       " 18.7299  16.5257  17.0319  16.8556     17.6947  17.9055  16.5244  18.2157\n",
       " 20.9102  19.3535  17.7175  15.0227     16.8224  16.8294  17.7     18.2396\n",
       " 20.6838  20.5951  18.2939  15.821      16.9613  16.0222  17.1757  18.1366\n",
       " 18.3121  19.088   17.2587  16.4646  …  16.5458  16.5134  15.3376  15.3293\n",
       " 17.4604  19.5499  18.1163  16.7063     16.4121  15.2534  15.1732  17.5077\n",
       " 16.6046  17.7405  18.2582  18.7267     16.9517  15.2968  17.4078  17.7513\n",
       " 15.7168  14.7998  17.5295  18.6343     17.6783  16.0969  17.5986  17.7251\n",
       " 17.1229  16.8894  16.3873  17.3629     17.0878  16.8594  17.6072  17.9415\n",
       " 19.4259  18.1652  18.3607  18.1661  …  17.6095  19.1117  18.0503  18.7448\n",
       " 18.962   19.97    18.8933  17.9475     17.985   19.0002  19.2493  18.8378\n",
       " 18.5388  18.0807  17.5033  17.8047     19.0425  18.8824  18.1337  17.3338\n",
       " 17.0251  15.8627  16.3686  17.8843     17.9925  18.6292  18.0349  17.1039\n",
       " 17.2688  16.9483  16.9221  16.1702     18.535   18.3311  18.7442  18.8095\n",
       " 16.6762  16.5984  16.5071  16.8013  …  18.1976  18.0473  18.1911  18.6628\n",
       " 18.0763  18.0238  17.3357  17.4816     17.006   19.2633  17.9865  17.0899\n",
       " 18.1606  17.1485  17.9958  16.3181     17.7162  17.946   19.1355  17.6569\n",
       " 17.9565  18.0951  17.2339  16.4362     17.4543  17.8403  17.5654  18.5094\n",
       " 18.5265  18.4299  18.88    17.8108     16.3319  15.5159  17.8284  18.9694\n",
       " 19.8796  20.0682  18.7495  18.3746  …  16.5385  16.4647  18.7735  17.3774\n",
       " 20.2817  20.5781  18.1167  17.5555     16.997   16.6258  17.4082  16.6712\n",
       " 19.059   20.1787  19.0576  16.4346     17.3771  18.1507  17.4276  17.6327\n",
       " 17.5984  19.4972  19.6245  18.6486     19.3146  20.1923  18.0991  18.2104\n",
       " 16.4138  17.6794  18.8706  19.7699     18.846   20.4126  17.9232  18.0268\n",
       " 16.8304  15.8769  17.5356  18.1205  …  19.727   17.923   16.4944  16.9234"
      ]
     },
     "execution_count": 22,
     "metadata": {},
     "output_type": "execute_result"
    }
   ],
   "source": [
    "Conv_forward_v7(input, weights, bias)[:,:,7]"
   ]
  }
 ],
 "metadata": {
  "kernelspec": {
   "display_name": "Julia 1.10.2",
   "language": "julia",
   "name": "julia-1.10"
  },
  "language_info": {
   "file_extension": ".jl",
   "mimetype": "application/julia",
   "name": "julia",
   "version": "1.10.2"
  }
 },
 "nbformat": 4,
 "nbformat_minor": 5
}
