{
 "cells": [
  {
   "cell_type": "code",
   "execution_count": 1,
   "id": "936e3b17-6e67-4337-b2fd-c439868d402c",
   "metadata": {},
   "outputs": [],
   "source": [
    "using BenchmarkTools"
   ]
  },
  {
   "cell_type": "code",
   "execution_count": 2,
   "id": "0aab672b-d403-4b54-a3e4-82c7f53a110c",
   "metadata": {},
   "outputs": [
    {
     "data": {
      "text/plain": [
       "rotate (generic function with 1 method)"
      ]
     },
     "execution_count": 2,
     "metadata": {},
     "output_type": "execute_result"
    }
   ],
   "source": [
    "function rotate(matrix)\n",
    "    return reverse(reverse(matrix, dims=1), dims=2)\n",
    "end"
   ]
  },
  {
   "cell_type": "code",
   "execution_count": 3,
   "id": "045ac6c2-28fb-442f-935a-afe2124be2f0",
   "metadata": {},
   "outputs": [
    {
     "data": {
      "text/plain": [
       "Convolution_2d_pad (generic function with 1 method)"
      ]
     },
     "execution_count": 3,
     "metadata": {},
     "output_type": "execute_result"
    }
   ],
   "source": [
    "function Convolution_2d_pad(input, kernel; bias=0., padding=false)\n",
    "    input_rows, input_columns = size(input)\n",
    "    kernel_height, kernel_width = size(kernel)\n",
    "\n",
    "    if padding\n",
    "        padded_input = zeros(Float32, input_rows + 2*kernel_height - 2, input_columns + 2*kernel_width - 2)\n",
    "        padded_input[kernel_height:end-kernel_height+1, kernel_width:end-kernel_width+1] .= input\n",
    "        input_rows, input_columns = size(padded_input)\n",
    "        input = padded_input\n",
    "    end\n",
    "\n",
    "    output_rows = input_rows - kernel_height + 1\n",
    "    output_columns = input_columns - kernel_width + 1\n",
    "    output = zeros(Float32, output_rows, output_columns)\n",
    "\n",
    "\n",
    "    for c in 1:output_columns\n",
    "        for r in 1:output_rows\n",
    "            patch = @view input[r:r+kernel_height-1, c:c+kernel_width-1]\n",
    "            output[r, c] = sum(patch .* kernel) + bias\n",
    "        end\n",
    "    end\n",
    "    return output\n",
    "end"
   ]
  },
  {
   "cell_type": "code",
   "execution_count": 4,
   "id": "b4173fe6-711d-4a85-8249-fea33f3b757f",
   "metadata": {},
   "outputs": [
    {
     "data": {
      "text/plain": [
       "Convolution_2d (generic function with 1 method)"
      ]
     },
     "execution_count": 4,
     "metadata": {},
     "output_type": "execute_result"
    }
   ],
   "source": [
    "function Convolution_2d(input, kernel; bias=0.)\n",
    "    input_rows, input_columns = size(input)\n",
    "    kernel_height, kernel_width = size(kernel)\n",
    "\n",
    "    output_rows = input_rows - kernel_height + 1\n",
    "    output_columns = input_columns - kernel_width + 1\n",
    "    output = zeros(Float32, output_rows, output_columns)\n",
    "\n",
    "\n",
    "    for c in 1:output_columns\n",
    "        for r in 1:output_rows\n",
    "            patch = @view input[r:r+kernel_height-1, c:c+kernel_width-1]\n",
    "            output[r, c] = sum(patch .* kernel) + bias\n",
    "        end\n",
    "    end\n",
    "    return output\n",
    "end"
   ]
  },
  {
   "cell_type": "code",
   "execution_count": 5,
   "id": "4809b981-d7a7-4997-a506-5b2c1d3cb704",
   "metadata": {},
   "outputs": [
    {
     "data": {
      "text/plain": [
       "Convolution_2d_v2! (generic function with 1 method)"
      ]
     },
     "execution_count": 5,
     "metadata": {},
     "output_type": "execute_result"
    }
   ],
   "source": [
    "function Convolution_2d!(ret, input, kernel; bias=0., padding=false)\n",
    "    input_rows, input_columns = size(input)\n",
    "    kernel_height, kernel_width = size(kernel)\n",
    "\n",
    "    if padding\n",
    "        padded_input = zeros(Float32, input_rows + 2*kernel_height - 2, input_columns + 2*kernel_width - 2)\n",
    "        padded_input[kernel_height:end-kernel_height+1, kernel_width:end-kernel_width+1] .= input\n",
    "        input_rows, input_columns = size(padded_input)\n",
    "        input = padded_input\n",
    "    end\n",
    "\n",
    "    output_rows = input_rows - kernel_height + 1\n",
    "    output_columns = input_columns - kernel_width + 1\n",
    "    sumret = zeros(size(kernel))\n",
    "    for c in 1:output_columns\n",
    "        for r in 1:output_rows\n",
    "            patch = @view input[r:r+kernel_height-1, c:c+kernel_width-1]\n",
    "            sumret .= patch .* kernel\n",
    "            ret[r, c] = sum(sumret) + bias\n",
    "            sumret .= 0.0\n",
    "        end\n",
    "    end\n",
    "end\n",
    "\n",
    "function Convolution_2d_v2!(ret, sumret, input, kernel; bias=0., padding=false)\n",
    "    input_rows, input_columns = size(input)\n",
    "    kernel_height, kernel_width = size(kernel)\n",
    "\n",
    "    if padding\n",
    "        padded_input = zeros(Float32, input_rows + 2*kernel_height - 2, input_columns + 2*kernel_width - 2)\n",
    "        padded_input[kernel_height:end-kernel_height+1, kernel_width:end-kernel_width+1] .= input\n",
    "        input_rows, input_columns = size(padded_input)\n",
    "        input = padded_input\n",
    "    end\n",
    "\n",
    "    output_rows = input_rows - kernel_height + 1\n",
    "    output_columns = input_columns - kernel_width + 1\n",
    "    for c in 1:output_columns\n",
    "        for r in 1:output_rows\n",
    "            patch = @view input[r:r+kernel_height-1, c:c+kernel_width-1]\n",
    "            sumret .= patch .* kernel\n",
    "            ret[r, c] = sum(sumret) + bias\n",
    "            sumret .= 0.0\n",
    "        end\n",
    "    end\n",
    "end"
   ]
  },
  {
   "cell_type": "code",
   "execution_count": 6,
   "id": "787b5c25-4636-4b63-9fa6-7f43de0b33d1",
   "metadata": {},
   "outputs": [
    {
     "data": {
      "text/plain": [
       "Conv_backward_v1 (generic function with 1 method)"
      ]
     },
     "execution_count": 6,
     "metadata": {},
     "output_type": "execute_result"
    }
   ],
   "source": [
    "function Conv_backward_v1( input, weights, bias, gradient)\n",
    "    input_height, input_width, input_channels = size(input)\n",
    "    output_height, output_width, output_channels = size(gradient)\n",
    "    kernel_height, kernel_width, _, _ = size(weights)\n",
    "    \n",
    "    \n",
    "    grad_input = zeros(Float32, size(input))\n",
    "    for k in 1:input_channels\n",
    "        for c in 1:output_channels\n",
    "            grad_input[:, :, k] += Convolution_2d_pad(weights[:, :, k, c], gradient[:, :, c]; padding=true)\n",
    "        end\n",
    "    end\n",
    "\n",
    "    grad_weights = zeros(Float32, size(weights))\n",
    "    for k in 1:input_channels\n",
    "        for c in 1:output_channels\n",
    "            grad_weights[:, :, k, c] += Convolution_2d(input[:, :, k], gradient[:, :, c])\n",
    "        end\n",
    "    end\n",
    "\n",
    "    grad_bias = reshape(sum(gradient, dims=(1,2,4)), :)\n",
    "    \n",
    "    return grad_input, grad_weights, grad_bias\n",
    "end"
   ]
  },
  {
   "cell_type": "code",
   "execution_count": 7,
   "id": "70169f26-159a-4bcd-906b-e57371b9d210",
   "metadata": {},
   "outputs": [
    {
     "data": {
      "text/plain": [
       "Conv_backward_v2 (generic function with 1 method)"
      ]
     },
     "execution_count": 7,
     "metadata": {},
     "output_type": "execute_result"
    }
   ],
   "source": [
    "function Conv_backward_v2(input, weights, bias, gradient)\n",
    "    input_height, input_width, input_channels = size(input)\n",
    "    output_height, output_width, output_channels = size(gradient)\n",
    "    kernel_height, kernel_width, _, _ = size(weights)\n",
    "    \n",
    "    \n",
    "    grad_input = zeros(Float32, size(input))\n",
    "    grad_weights = zeros(Float32, size(weights))\n",
    "    \n",
    "    tmp_weights = zeros(Float32, kernel_height, kernel_width)\n",
    "    tmp_input = zeros(Float32, input_height, input_width)\n",
    "    tmp_gradient = zeros(Float32, output_height, output_width)\n",
    "    \n",
    "    for k in 1:input_channels\n",
    "        for c in 1:output_channels\n",
    "            tmp_weights .= @views weights[:, :, k, c]\n",
    "            tmp_gradient .= @views gradient[:, :, c]\n",
    "            grad_input[:, :, k] .+= Convolution_2d_pad(tmp_weights, rotate(tmp_gradient); padding=true)\n",
    "        end\n",
    "    end\n",
    "\n",
    "    \n",
    "    for k in 1:input_channels\n",
    "        for c in 1:output_channels\n",
    "            tmp_input .= @views input[:, :, k]\n",
    "            tmp_gradient .= @views gradient[:, :, c]\n",
    "            grad_weights[:, :, k, c] += Convolution_2d(tmp_input, tmp_gradient)\n",
    "        end\n",
    "    end\n",
    "\n",
    "    grad_bias = reshape(sum(gradient, dims=(1,2,4)), :)\n",
    "    \n",
    "    return grad_input, grad_weights, grad_bias\n",
    "end"
   ]
  },
  {
   "cell_type": "code",
   "execution_count": 8,
   "id": "8e572997",
   "metadata": {},
   "outputs": [
    {
     "data": {
      "text/plain": [
       "Conv_backward_v3 (generic function with 1 method)"
      ]
     },
     "execution_count": 8,
     "metadata": {},
     "output_type": "execute_result"
    }
   ],
   "source": [
    "function Conv_backward_v3( input, weights, bias, gradient)\n",
    "    input_height, input_width, input_channels = size(input)\n",
    "    output_height, output_width, output_channels = size(gradient)\n",
    "    kernel_height, kernel_width, _, _ = size(weights)\n",
    "    \n",
    "    grad_input = zeros(Float32, size(input))\n",
    "    grad_weights = zeros(Float32, size(weights))\n",
    "    \n",
    "    tmp_weights = zeros(Float32, kernel_height, kernel_width)\n",
    "    tmp_input = zeros(Float32, input_height, input_width)\n",
    "    tmp_gradient = zeros(Float32, output_height, output_width)\n",
    "    \n",
    "    for k in 1:input_channels\n",
    "        for c in 1:output_channels\n",
    "            tmp_weights .= @views weights[:, :, k, c]\n",
    "            tmp_gradient .= @views gradient[:, :, c]\n",
    "            for i = 1:output_height\n",
    "                for j = 1:output_width\n",
    "                    grad_input[i:i+kernel_height-1, j:j+kernel_width-1, k] .+= (tmp_weights .* tmp_gradient[i,j]);\n",
    "                end\n",
    "            end\n",
    "        end\n",
    "    end\n",
    "    \n",
    "    for k in 1:input_channels\n",
    "        for c in 1:output_channels\n",
    "            tmp_input .= @views input[:, :, k]\n",
    "            tmp_gradient .= @views gradient[:, :, c]\n",
    "            grad_weights[:, :, k, c] += Convolution_2d(tmp_input, tmp_gradient)\n",
    "        end\n",
    "    end\n",
    "\n",
    "    grad_bias = reshape(sum(gradient, dims=(1,2,4)), :)\n",
    "    \n",
    "    return grad_input, grad_weights, grad_bias\n",
    "end"
   ]
  },
  {
   "cell_type": "code",
   "execution_count": 9,
   "id": "b439dd06-6c7e-4292-a54e-b9891e81c93e",
   "metadata": {},
   "outputs": [
    {
     "data": {
      "text/plain": [
       "Conv_backward_v4 (generic function with 1 method)"
      ]
     },
     "execution_count": 9,
     "metadata": {},
     "output_type": "execute_result"
    }
   ],
   "source": [
    "function Conv_backward_v4(input, weights, bias, gradient)\n",
    "    input_height, input_width, input_channels = size(input)\n",
    "    output_height, output_width, output_channels = size(gradient)\n",
    "    kernel_height, kernel_width, _, _ = size(weights)\n",
    "    \n",
    "    grad_input = zeros(Float32, size(input))\n",
    "    grad_weights = zeros(Float32, size(weights))\n",
    "    \n",
    "    tmp_weights = zeros(Float32, kernel_height, kernel_width)\n",
    "    tmp_input = zeros(Float32, input_height, input_width)\n",
    "    tmp_gradient = zeros(Float32, output_height, output_width)\n",
    "    \n",
    "    for k in 1:input_channels\n",
    "        for c in 1:output_channels\n",
    "            tmp_weights .= @views weights[:, :, k, c]\n",
    "            tmp_gradient .= @views gradient[:, :, c]\n",
    "            for i = 1:output_height\n",
    "                for j = 1:output_width\n",
    "                    grad_input[i:i+kernel_height-1, j:j+kernel_width-1, k] .+= (tmp_weights .* tmp_gradient[i,j]);\n",
    "                end\n",
    "            end\n",
    "        end\n",
    "    end\n",
    "    \n",
    "    for k in 1:input_channels\n",
    "        for c in 1:output_channels\n",
    "            tmp_input .= @views input[:, :, k]\n",
    "            tmp_gradient .= @views gradient[:, :, c]\n",
    "            Convolution_2d!(tmp_weights, tmp_input, tmp_gradient)\n",
    "            grad_weights[:, :, k, c] .+= tmp_weights\n",
    "            tmp_weights .= 0\n",
    "        end\n",
    "    end\n",
    "\n",
    "    grad_bias = reshape(sum(gradient, dims=(1,2,4)), :)\n",
    "    \n",
    "    return grad_input, grad_weights, grad_bias\n",
    "end"
   ]
  },
  {
   "cell_type": "code",
   "execution_count": 10,
   "id": "3cd49fed",
   "metadata": {},
   "outputs": [
    {
     "data": {
      "text/plain": [
       "Conv_backward_v5 (generic function with 1 method)"
      ]
     },
     "execution_count": 10,
     "metadata": {},
     "output_type": "execute_result"
    }
   ],
   "source": [
    "function Conv_backward_v5(input, weights, bias, gradient)\n",
    "  input_height, input_width, input_channels = size(input)\n",
    "  output_height, output_width, output_channels = size(gradient)\n",
    "  kernel_height, kernel_width, _, _ = size(weights)\n",
    "  \n",
    "  grad_input = zeros(Float32, size(input))\n",
    "  grad_weights = zeros(Float32, size(weights))\n",
    "  \n",
    "  tmp_weights = zeros(Float32, kernel_height, kernel_width)\n",
    "  tmp_input = zeros(Float32, input_height, input_width)\n",
    "  tmp_gradient = zeros(Float32, output_height, output_width)\n",
    "  tmp_weight_gradient = zeros(Float32, kernel_height, kernel_width)\n",
    "  for k in 1:input_channels\n",
    "      for c in 1:output_channels\n",
    "          for i = 1:output_height\n",
    "              for j = 1:output_width\n",
    "                  @views grad_input[i:i+kernel_height-1, j:j+kernel_width-1, k] .+= (weights[:, :, k, c] .* gradient[i, j, c]);\n",
    "              end\n",
    "          end\n",
    "      end\n",
    "  end\n",
    "  \n",
    "  for k in 1:input_channels\n",
    "      for c in 1:output_channels\n",
    "          tmp_weights .= 0\n",
    "          tmp_input .= @views input[:, :, k]\n",
    "          tmp_gradient .= @views gradient[:, :, c]\n",
    "          Convolution_2d!(tmp_weights, tmp_input, tmp_gradient)\n",
    "          grad_weights[:, :, k, c] .+= tmp_weights\n",
    "      end\n",
    "  end\n",
    "\n",
    "  grad_bias = reshape(sum(gradient, dims=(1,2,4)), :)\n",
    "  \n",
    "  return grad_input, grad_weights, grad_bias\n",
    "end"
   ]
  },
  {
   "cell_type": "code",
   "execution_count": 11,
   "id": "a9b812b7",
   "metadata": {},
   "outputs": [
    {
     "data": {
      "text/plain": [
       "Conv_backward_v6 (generic function with 1 method)"
      ]
     },
     "execution_count": 11,
     "metadata": {},
     "output_type": "execute_result"
    }
   ],
   "source": [
    "function Conv_backward_v6(input, weights, bias, gradient)\n",
    "  input_height, input_width, input_channels = size(input)\n",
    "  output_height, output_width, output_channels = size(gradient)\n",
    "  kernel_height, kernel_width, _, _ = size(weights)\n",
    "  \n",
    "  grad_input = zeros(Float32, size(input))\n",
    "  grad_weights = zeros(Float32, size(weights))\n",
    "  \n",
    "  tmp_weights = zeros(Float32, kernel_height, kernel_width)\n",
    "  tmp_input = zeros(Float32, input_height, input_width)\n",
    "  tmp_gradient = zeros(Float32, output_height, output_width)\n",
    "  tmp_weight_gradient = zeros(Float32, kernel_height, kernel_width)\n",
    "  for k in 1:input_channels\n",
    "      for c in 1:output_channels\n",
    "          for i = 1:output_height\n",
    "              for j = 1:output_width\n",
    "                  @views grad_input[i:i+kernel_height-1, j:j+kernel_width-1, k] .+= (weights[:, :, k, c] .* gradient[i, j, c]);\n",
    "              end\n",
    "          end\n",
    "      end\n",
    "  end\n",
    "  \n",
    "  for k in 1:input_channels\n",
    "      for c in 1:output_channels\n",
    "          tmp_weights .= 0\n",
    "          tmp_input .= @views input[:, :, k]\n",
    "          tmp_gradient .= @views gradient[:, :, c]\n",
    "          Convolution_2d!(tmp_weights, tmp_input, tmp_gradient)\n",
    "          @views grad_weights[:, :, k, c] .+= tmp_weights\n",
    "      end\n",
    "  end\n",
    "\n",
    "  grad_bias = reshape(sum(gradient, dims=(1,2,4)), :)\n",
    "  \n",
    "  return grad_input, grad_weights, grad_bias\n",
    "end"
   ]
  },
  {
   "cell_type": "code",
   "execution_count": 12,
   "id": "1e66406a",
   "metadata": {},
   "outputs": [
    {
     "data": {
      "text/plain": [
       "Conv_backward_v7 (generic function with 1 method)"
      ]
     },
     "execution_count": 12,
     "metadata": {},
     "output_type": "execute_result"
    }
   ],
   "source": [
    "function Conv_backward_v7(input, weights, bias, gradient)\n",
    "  input_height, input_width, input_channels = size(input)\n",
    "  output_height, output_width, output_channels = size(gradient)\n",
    "  kernel_height, kernel_width, _, _ = size(weights)\n",
    "  \n",
    "  grad_input = zeros(Float32, size(input))\n",
    "  grad_weights = zeros(Float32, size(weights))\n",
    "  \n",
    "  tmp_weights = zeros(Float32, kernel_height, kernel_width)\n",
    "  tmp_input = zeros(Float32, input_height, input_width)\n",
    "  tmp_gradient = zeros(Float32, output_height, output_width)\n",
    "  for k in 1:input_channels\n",
    "      for c in 1:output_channels\n",
    "          for i = 1:output_height\n",
    "              for j = 1:output_width\n",
    "                  @views grad_input[i:i+kernel_height-1, j:j+kernel_width-1, k] .+= (weights[:, :, k, c] .* gradient[i, j, c]);\n",
    "              end\n",
    "          end\n",
    "      end\n",
    "  end\n",
    "  sumret = zeros(Float32, output_height, output_width)\n",
    "  for k in 1:input_channels\n",
    "      for c in 1:output_channels\n",
    "          tmp_weights .= 0\n",
    "          tmp_input .= @views input[:, :, k]\n",
    "          tmp_gradient .= @views gradient[:, :, c]\n",
    "          Convolution_2d_v2!(tmp_weights, sumret, tmp_input, tmp_gradient)\n",
    "          @views grad_weights[:, :, k, c] .+= tmp_weights\n",
    "      end\n",
    "  end\n",
    "\n",
    "  grad_bias = reshape(sum(gradient, dims=(1,2,4)), :)\n",
    "  \n",
    "  return grad_input, grad_weights, grad_bias\n",
    "end"
   ]
  },
  {
   "cell_type": "code",
   "execution_count": 13,
   "id": "4a211139-dd26-485b-ba75-21c02c0ad524",
   "metadata": {},
   "outputs": [],
   "source": [
    "input = rand(28, 28, 1);\n",
    "weights = rand(3, 3, 1, 6);\n",
    "bias = rand(Float32, 6);\n",
    "gradient = rand(26, 26, 6);"
   ]
  },
  {
   "cell_type": "code",
   "execution_count": 14,
   "id": "a279f768-4514-4ba9-80a4-13aaace78226",
   "metadata": {},
   "outputs": [
    {
     "data": {
      "text/plain": [
       "BenchmarkTools.Trial: 1142 samples with 1 evaluation.\n",
       " Range \u001b[90m(\u001b[39m\u001b[36m\u001b[1mmin\u001b[22m\u001b[39m … \u001b[35mmax\u001b[39m\u001b[90m):  \u001b[39m\u001b[36m\u001b[1m2.921 ms\u001b[22m\u001b[39m … \u001b[35m17.388 ms\u001b[39m  \u001b[90m┊\u001b[39m GC \u001b[90m(\u001b[39mmin … max\u001b[90m): \u001b[39m 0.00% … 38.15%\n",
       " Time  \u001b[90m(\u001b[39m\u001b[34m\u001b[1mmedian\u001b[22m\u001b[39m\u001b[90m):     \u001b[39m\u001b[34m\u001b[1m4.040 ms              \u001b[22m\u001b[39m\u001b[90m┊\u001b[39m GC \u001b[90m(\u001b[39mmedian\u001b[90m):    \u001b[39m25.61%\n",
       " Time  \u001b[90m(\u001b[39m\u001b[32m\u001b[1mmean\u001b[22m\u001b[39m ± \u001b[32mσ\u001b[39m\u001b[90m):   \u001b[39m\u001b[32m\u001b[1m4.366 ms\u001b[22m\u001b[39m ± \u001b[32m 2.300 ms\u001b[39m  \u001b[90m┊\u001b[39m GC \u001b[90m(\u001b[39mmean ± σ\u001b[90m):  \u001b[39m18.26% ± 13.78%\n",
       "\n",
       "  \u001b[39m█\u001b[39m▄\u001b[39m▃\u001b[39m▁\u001b[39m▁\u001b[34m▇\u001b[39m\u001b[39m▆\u001b[32m▅\u001b[39m\u001b[39m▄\u001b[39m▁\u001b[39m \u001b[39m \u001b[39m \u001b[39m \u001b[39m \u001b[39m \u001b[39m \u001b[39m \u001b[39m \u001b[39m \u001b[39m \u001b[39m \u001b[39m \u001b[39m \u001b[39m \u001b[39m \u001b[39m \u001b[39m \u001b[39m \u001b[39m \u001b[39m \u001b[39m \u001b[39m \u001b[39m \u001b[39m \u001b[39m \u001b[39m \u001b[39m \u001b[39m \u001b[39m \u001b[39m \u001b[39m \u001b[39m \u001b[39m \u001b[39m \u001b[39m \u001b[39m \u001b[39m \u001b[39m \u001b[39m \u001b[39m \u001b[39m \u001b[39m \u001b[39m \u001b[39m \u001b[39m \u001b[39m \u001b[39m \u001b[39m \u001b[39m \n",
       "  \u001b[39m█\u001b[39m█\u001b[39m█\u001b[39m█\u001b[39m█\u001b[34m█\u001b[39m\u001b[39m█\u001b[32m█\u001b[39m\u001b[39m█\u001b[39m█\u001b[39m█\u001b[39m▆\u001b[39m▅\u001b[39m▁\u001b[39m▄\u001b[39m▁\u001b[39m▄\u001b[39m▅\u001b[39m▄\u001b[39m▁\u001b[39m▁\u001b[39m▁\u001b[39m▁\u001b[39m▁\u001b[39m▁\u001b[39m▄\u001b[39m▅\u001b[39m▁\u001b[39m▅\u001b[39m▁\u001b[39m▅\u001b[39m▄\u001b[39m▁\u001b[39m▁\u001b[39m▁\u001b[39m▅\u001b[39m▁\u001b[39m▁\u001b[39m▇\u001b[39m▅\u001b[39m▅\u001b[39m▇\u001b[39m▆\u001b[39m▇\u001b[39m▁\u001b[39m▄\u001b[39m▅\u001b[39m▅\u001b[39m▄\u001b[39m▅\u001b[39m▁\u001b[39m▄\u001b[39m▅\u001b[39m▄\u001b[39m▆\u001b[39m▁\u001b[39m▅\u001b[39m▆\u001b[39m \u001b[39m█\n",
       "  2.92 ms\u001b[90m      \u001b[39m\u001b[90mHistogram: \u001b[39m\u001b[90m\u001b[1mlog(\u001b[22m\u001b[39m\u001b[90mfrequency\u001b[39m\u001b[90m\u001b[1m)\u001b[22m\u001b[39m\u001b[90m by time\u001b[39m     14.9 ms \u001b[0m\u001b[1m<\u001b[22m\n",
       "\n",
       " Memory estimate\u001b[90m: \u001b[39m\u001b[33m25.49 MiB\u001b[39m, allocs estimate\u001b[90m: \u001b[39m\u001b[33m4842\u001b[39m."
      ]
     },
     "execution_count": 14,
     "metadata": {},
     "output_type": "execute_result"
    }
   ],
   "source": [
    "@benchmark Conv_backward_v1(input, weights, bias, gradient)"
   ]
  },
  {
   "cell_type": "code",
   "execution_count": 15,
   "id": "17651caf-f1c5-46c0-b074-53f96ddd1df3",
   "metadata": {},
   "outputs": [
    {
     "data": {
      "text/plain": [
       "BenchmarkTools.Trial: 1283 samples with 1 evaluation.\n",
       " Range \u001b[90m(\u001b[39m\u001b[36m\u001b[1mmin\u001b[22m\u001b[39m … \u001b[35mmax\u001b[39m\u001b[90m):  \u001b[39m\u001b[36m\u001b[1m2.751 ms\u001b[22m\u001b[39m … \u001b[35m16.973 ms\u001b[39m  \u001b[90m┊\u001b[39m GC \u001b[90m(\u001b[39mmin … max\u001b[90m): \u001b[39m 0.00% … 61.78%\n",
       " Time  \u001b[90m(\u001b[39m\u001b[34m\u001b[1mmedian\u001b[22m\u001b[39m\u001b[90m):     \u001b[39m\u001b[34m\u001b[1m3.086 ms              \u001b[22m\u001b[39m\u001b[90m┊\u001b[39m GC \u001b[90m(\u001b[39mmedian\u001b[90m):    \u001b[39m 0.00%\n",
       " Time  \u001b[90m(\u001b[39m\u001b[32m\u001b[1mmean\u001b[22m\u001b[39m ± \u001b[32mσ\u001b[39m\u001b[90m):   \u001b[39m\u001b[32m\u001b[1m3.889 ms\u001b[22m\u001b[39m ± \u001b[32m 1.413 ms\u001b[39m  \u001b[90m┊\u001b[39m GC \u001b[90m(\u001b[39mmean ± σ\u001b[90m):  \u001b[39m15.97% ± 17.71%\n",
       "\n",
       "  \u001b[39m▄\u001b[39m█\u001b[39m▄\u001b[34m▃\u001b[39m\u001b[39m▃\u001b[39m▁\u001b[39m \u001b[39m▁\u001b[39m \u001b[39m \u001b[32m \u001b[39m\u001b[39m \u001b[39m \u001b[39m \u001b[39m \u001b[39m \u001b[39m▂\u001b[39m▄\u001b[39m▃\u001b[39m▃\u001b[39m▂\u001b[39m▁\u001b[39m▁\u001b[39m▁\u001b[39m \u001b[39m \u001b[39m \u001b[39m \u001b[39m \u001b[39m \u001b[39m \u001b[39m \u001b[39m \u001b[39m \u001b[39m \u001b[39m \u001b[39m \u001b[39m \u001b[39m \u001b[39m \u001b[39m \u001b[39m \u001b[39m \u001b[39m \u001b[39m \u001b[39m \u001b[39m \u001b[39m \u001b[39m \u001b[39m \u001b[39m \u001b[39m \u001b[39m \u001b[39m \u001b[39m \u001b[39m \u001b[39m \u001b[39m \u001b[39m \u001b[39m \n",
       "  \u001b[39m█\u001b[39m█\u001b[39m█\u001b[34m█\u001b[39m\u001b[39m█\u001b[39m█\u001b[39m█\u001b[39m█\u001b[39m▇\u001b[39m▇\u001b[32m▇\u001b[39m\u001b[39m▆\u001b[39m▆\u001b[39m▇\u001b[39m▇\u001b[39m█\u001b[39m█\u001b[39m█\u001b[39m█\u001b[39m█\u001b[39m█\u001b[39m█\u001b[39m█\u001b[39m█\u001b[39m▇\u001b[39m█\u001b[39m▇\u001b[39m▆\u001b[39m▆\u001b[39m▇\u001b[39m▆\u001b[39m▅\u001b[39m▆\u001b[39m▇\u001b[39m▅\u001b[39m▆\u001b[39m▆\u001b[39m▅\u001b[39m▄\u001b[39m▁\u001b[39m▅\u001b[39m▆\u001b[39m▆\u001b[39m▅\u001b[39m▁\u001b[39m▅\u001b[39m▄\u001b[39m▄\u001b[39m▄\u001b[39m▄\u001b[39m▄\u001b[39m▄\u001b[39m▄\u001b[39m▄\u001b[39m▄\u001b[39m▁\u001b[39m▁\u001b[39m▄\u001b[39m \u001b[39m█\n",
       "  2.75 ms\u001b[90m      \u001b[39m\u001b[90mHistogram: \u001b[39m\u001b[90m\u001b[1mlog(\u001b[22m\u001b[39m\u001b[90mfrequency\u001b[39m\u001b[90m\u001b[1m)\u001b[22m\u001b[39m\u001b[90m by time\u001b[39m     9.15 ms \u001b[0m\u001b[1m<\u001b[22m\n",
       "\n",
       " Memory estimate\u001b[90m: \u001b[39m\u001b[33m13.22 MiB\u001b[39m, allocs estimate\u001b[90m: \u001b[39m\u001b[33m4827\u001b[39m."
      ]
     },
     "execution_count": 15,
     "metadata": {},
     "output_type": "execute_result"
    }
   ],
   "source": [
    "@benchmark Conv_backward_v2(input, weights, bias, gradient)"
   ]
  },
  {
   "cell_type": "code",
   "execution_count": 16,
   "id": "4bcbb4f8",
   "metadata": {},
   "outputs": [
    {
     "data": {
      "text/plain": [
       "BenchmarkTools.Trial: 10000 samples with 1 evaluation.\n",
       " Range \u001b[90m(\u001b[39m\u001b[36m\u001b[1mmin\u001b[22m\u001b[39m … \u001b[35mmax\u001b[39m\u001b[90m):  \u001b[39m\u001b[36m\u001b[1m306.400 μs\u001b[22m\u001b[39m … \u001b[35m  2.386 ms\u001b[39m  \u001b[90m┊\u001b[39m GC \u001b[90m(\u001b[39mmin … max\u001b[90m): \u001b[39m0.00% … 75.80%\n",
       " Time  \u001b[90m(\u001b[39m\u001b[34m\u001b[1mmedian\u001b[22m\u001b[39m\u001b[90m):     \u001b[39m\u001b[34m\u001b[1m316.000 μs               \u001b[22m\u001b[39m\u001b[90m┊\u001b[39m GC \u001b[90m(\u001b[39mmedian\u001b[90m):    \u001b[39m0.00%\n",
       " Time  \u001b[90m(\u001b[39m\u001b[32m\u001b[1mmean\u001b[22m\u001b[39m ± \u001b[32mσ\u001b[39m\u001b[90m):   \u001b[39m\u001b[32m\u001b[1m339.189 μs\u001b[22m\u001b[39m ± \u001b[32m120.120 μs\u001b[39m  \u001b[90m┊\u001b[39m GC \u001b[90m(\u001b[39mmean ± σ\u001b[90m):  \u001b[39m3.42% ±  7.96%\n",
       "\n",
       "  \u001b[39m█\u001b[34m▅\u001b[39m\u001b[32m▃\u001b[39m\u001b[39m▁\u001b[39m \u001b[39m▁\u001b[39m \u001b[39m \u001b[39m \u001b[39m \u001b[39m \u001b[39m \u001b[39m \u001b[39m \u001b[39m \u001b[39m \u001b[39m \u001b[39m \u001b[39m \u001b[39m \u001b[39m \u001b[39m \u001b[39m \u001b[39m \u001b[39m \u001b[39m \u001b[39m \u001b[39m \u001b[39m \u001b[39m \u001b[39m \u001b[39m \u001b[39m \u001b[39m \u001b[39m \u001b[39m \u001b[39m \u001b[39m \u001b[39m \u001b[39m \u001b[39m \u001b[39m \u001b[39m \u001b[39m \u001b[39m \u001b[39m \u001b[39m \u001b[39m \u001b[39m \u001b[39m \u001b[39m \u001b[39m \u001b[39m \u001b[39m \u001b[39m \u001b[39m \u001b[39m \u001b[39m \u001b[39m \u001b[39m \u001b[39m \u001b[39m \u001b[39m▁\n",
       "  \u001b[39m█\u001b[34m█\u001b[39m\u001b[32m█\u001b[39m\u001b[39m█\u001b[39m█\u001b[39m█\u001b[39m█\u001b[39m█\u001b[39m▇\u001b[39m▇\u001b[39m█\u001b[39m▇\u001b[39m▇\u001b[39m▇\u001b[39m▇\u001b[39m▆\u001b[39m▇\u001b[39m▇\u001b[39m▇\u001b[39m▇\u001b[39m▇\u001b[39m▇\u001b[39m▆\u001b[39m▆\u001b[39m▅\u001b[39m▅\u001b[39m▄\u001b[39m▁\u001b[39m▁\u001b[39m▃\u001b[39m▃\u001b[39m▄\u001b[39m▁\u001b[39m▃\u001b[39m▃\u001b[39m▁\u001b[39m▁\u001b[39m▁\u001b[39m▁\u001b[39m▁\u001b[39m▁\u001b[39m▁\u001b[39m▁\u001b[39m▁\u001b[39m▁\u001b[39m▁\u001b[39m▁\u001b[39m▁\u001b[39m▁\u001b[39m▁\u001b[39m▁\u001b[39m▁\u001b[39m▁\u001b[39m▁\u001b[39m▁\u001b[39m▁\u001b[39m▁\u001b[39m▁\u001b[39m▁\u001b[39m▃\u001b[39m▇\u001b[39m \u001b[39m█\n",
       "  306 μs\u001b[90m        \u001b[39m\u001b[90mHistogram: \u001b[39m\u001b[90m\u001b[1mlog(\u001b[22m\u001b[39m\u001b[90mfrequency\u001b[39m\u001b[90m\u001b[1m)\u001b[22m\u001b[39m\u001b[90m by time\u001b[39m       1.23 ms \u001b[0m\u001b[1m<\u001b[22m\n",
       "\n",
       " Memory estimate\u001b[90m: \u001b[39m\u001b[33m544.08 KiB\u001b[39m, allocs estimate\u001b[90m: \u001b[39m\u001b[33m4149\u001b[39m."
      ]
     },
     "execution_count": 16,
     "metadata": {},
     "output_type": "execute_result"
    }
   ],
   "source": [
    "@benchmark Conv_backward_v3(input, weights, bias, gradient)"
   ]
  },
  {
   "cell_type": "code",
   "execution_count": 17,
   "id": "cdb067e2-2701-476e-b629-f194cd2f4dc3",
   "metadata": {},
   "outputs": [
    {
     "data": {
      "text/plain": [
       "BenchmarkTools.Trial: 10000 samples with 1 evaluation.\n",
       " Range \u001b[90m(\u001b[39m\u001b[36m\u001b[1mmin\u001b[22m\u001b[39m … \u001b[35mmax\u001b[39m\u001b[90m):  \u001b[39m\u001b[36m\u001b[1m306.300 μs\u001b[22m\u001b[39m … \u001b[35m 1.555 ms\u001b[39m  \u001b[90m┊\u001b[39m GC \u001b[90m(\u001b[39mmin … max\u001b[90m): \u001b[39m0.00% … 73.74%\n",
       " Time  \u001b[90m(\u001b[39m\u001b[34m\u001b[1mmedian\u001b[22m\u001b[39m\u001b[90m):     \u001b[39m\u001b[34m\u001b[1m312.500 μs              \u001b[22m\u001b[39m\u001b[90m┊\u001b[39m GC \u001b[90m(\u001b[39mmedian\u001b[90m):    \u001b[39m0.00%\n",
       " Time  \u001b[90m(\u001b[39m\u001b[32m\u001b[1mmean\u001b[22m\u001b[39m ± \u001b[32mσ\u001b[39m\u001b[90m):   \u001b[39m\u001b[32m\u001b[1m328.111 μs\u001b[22m\u001b[39m ± \u001b[32m72.787 μs\u001b[39m  \u001b[90m┊\u001b[39m GC \u001b[90m(\u001b[39mmean ± σ\u001b[90m):  \u001b[39m1.68% ±  6.02%\n",
       "\n",
       "  \u001b[39m█\u001b[34m█\u001b[39m\u001b[39m▃\u001b[39m▃\u001b[32m▂\u001b[39m\u001b[39m▂\u001b[39m▁\u001b[39m \u001b[39m \u001b[39m \u001b[39m \u001b[39m \u001b[39m \u001b[39m \u001b[39m \u001b[39m \u001b[39m \u001b[39m \u001b[39m \u001b[39m \u001b[39m \u001b[39m \u001b[39m \u001b[39m \u001b[39m \u001b[39m \u001b[39m \u001b[39m \u001b[39m \u001b[39m \u001b[39m \u001b[39m \u001b[39m \u001b[39m \u001b[39m \u001b[39m \u001b[39m \u001b[39m \u001b[39m \u001b[39m \u001b[39m \u001b[39m \u001b[39m \u001b[39m \u001b[39m \u001b[39m \u001b[39m \u001b[39m \u001b[39m \u001b[39m \u001b[39m \u001b[39m \u001b[39m \u001b[39m \u001b[39m \u001b[39m \u001b[39m \u001b[39m \u001b[39m \u001b[39m \u001b[39m \u001b[39m▁\n",
       "  \u001b[39m█\u001b[34m█\u001b[39m\u001b[39m█\u001b[39m█\u001b[32m█\u001b[39m\u001b[39m█\u001b[39m█\u001b[39m█\u001b[39m▇\u001b[39m▆\u001b[39m▇\u001b[39m▆\u001b[39m▆\u001b[39m▆\u001b[39m▆\u001b[39m▆\u001b[39m▅\u001b[39m▆\u001b[39m▅\u001b[39m▆\u001b[39m▆\u001b[39m▆\u001b[39m▅\u001b[39m▆\u001b[39m▄\u001b[39m▆\u001b[39m▇\u001b[39m▄\u001b[39m▆\u001b[39m▅\u001b[39m▅\u001b[39m▅\u001b[39m▆\u001b[39m▅\u001b[39m▅\u001b[39m▅\u001b[39m▄\u001b[39m▄\u001b[39m▅\u001b[39m▅\u001b[39m▃\u001b[39m▄\u001b[39m▄\u001b[39m▄\u001b[39m▆\u001b[39m▅\u001b[39m▂\u001b[39m▄\u001b[39m▂\u001b[39m▅\u001b[39m▅\u001b[39m▅\u001b[39m▅\u001b[39m▃\u001b[39m▃\u001b[39m▅\u001b[39m▄\u001b[39m▂\u001b[39m▃\u001b[39m▃\u001b[39m \u001b[39m█\n",
       "  306 μs\u001b[90m        \u001b[39m\u001b[90mHistogram: \u001b[39m\u001b[90m\u001b[1mlog(\u001b[22m\u001b[39m\u001b[90mfrequency\u001b[39m\u001b[90m\u001b[1m)\u001b[22m\u001b[39m\u001b[90m by time\u001b[39m       660 μs \u001b[0m\u001b[1m<\u001b[22m\n",
       "\n",
       " Memory estimate\u001b[90m: \u001b[39m\u001b[33m423.42 KiB\u001b[39m, allocs estimate\u001b[90m: \u001b[39m\u001b[33m4083\u001b[39m."
      ]
     },
     "execution_count": 17,
     "metadata": {},
     "output_type": "execute_result"
    }
   ],
   "source": [
    "@benchmark Conv_backward_v4(input, weights, bias, gradient)"
   ]
  },
  {
   "cell_type": "code",
   "execution_count": 18,
   "id": "8ddc272c-9ddd-46f3-a879-e3aa8cdce315",
   "metadata": {},
   "outputs": [
    {
     "data": {
      "text/plain": [
       "BenchmarkTools.Trial: 10000 samples with 1 evaluation.\n",
       " Range \u001b[90m(\u001b[39m\u001b[36m\u001b[1mmin\u001b[22m\u001b[39m … \u001b[35mmax\u001b[39m\u001b[90m):  \u001b[39m\u001b[36m\u001b[1m126.800 μs\u001b[22m\u001b[39m … \u001b[35m 2.411 ms\u001b[39m  \u001b[90m┊\u001b[39m GC \u001b[90m(\u001b[39mmin … max\u001b[90m): \u001b[39m0.00% … 88.23%\n",
       " Time  \u001b[90m(\u001b[39m\u001b[34m\u001b[1mmedian\u001b[22m\u001b[39m\u001b[90m):     \u001b[39m\u001b[34m\u001b[1m132.500 μs              \u001b[22m\u001b[39m\u001b[90m┊\u001b[39m GC \u001b[90m(\u001b[39mmedian\u001b[90m):    \u001b[39m0.00%\n",
       " Time  \u001b[90m(\u001b[39m\u001b[32m\u001b[1mmean\u001b[22m\u001b[39m ± \u001b[32mσ\u001b[39m\u001b[90m):   \u001b[39m\u001b[32m\u001b[1m154.474 μs\u001b[22m\u001b[39m ± \u001b[32m71.802 μs\u001b[39m  \u001b[90m┊\u001b[39m GC \u001b[90m(\u001b[39mmean ± σ\u001b[90m):  \u001b[39m0.98% ±  2.70%\n",
       "\n",
       "  \u001b[39m█\u001b[39m█\u001b[34m▇\u001b[39m\u001b[39m▅\u001b[39m▄\u001b[39m▄\u001b[39m▃\u001b[39m▂\u001b[39m▂\u001b[39m▂\u001b[32m▁\u001b[39m\u001b[39m▁\u001b[39m▁\u001b[39m \u001b[39m \u001b[39m \u001b[39m \u001b[39m \u001b[39m \u001b[39m \u001b[39m \u001b[39m \u001b[39m \u001b[39m \u001b[39m \u001b[39m \u001b[39m \u001b[39m \u001b[39m▁\u001b[39m▁\u001b[39m▂\u001b[39m▂\u001b[39m▂\u001b[39m▁\u001b[39m▂\u001b[39m▁\u001b[39m▁\u001b[39m▁\u001b[39m▁\u001b[39m▁\u001b[39m▁\u001b[39m▁\u001b[39m \u001b[39m \u001b[39m \u001b[39m \u001b[39m \u001b[39m \u001b[39m \u001b[39m \u001b[39m \u001b[39m \u001b[39m \u001b[39m \u001b[39m \u001b[39m \u001b[39m \u001b[39m \u001b[39m \u001b[39m \u001b[39m \u001b[39m▂\n",
       "  \u001b[39m█\u001b[39m█\u001b[34m█\u001b[39m\u001b[39m█\u001b[39m█\u001b[39m█\u001b[39m█\u001b[39m█\u001b[39m█\u001b[39m█\u001b[32m█\u001b[39m\u001b[39m█\u001b[39m█\u001b[39m█\u001b[39m█\u001b[39m▇\u001b[39m█\u001b[39m▇\u001b[39m▇\u001b[39m▇\u001b[39m█\u001b[39m▇\u001b[39m▇\u001b[39m▇\u001b[39m▇\u001b[39m▇\u001b[39m▇\u001b[39m█\u001b[39m█\u001b[39m█\u001b[39m█\u001b[39m█\u001b[39m█\u001b[39m█\u001b[39m█\u001b[39m█\u001b[39m█\u001b[39m█\u001b[39m█\u001b[39m█\u001b[39m█\u001b[39m█\u001b[39m█\u001b[39m█\u001b[39m█\u001b[39m█\u001b[39m█\u001b[39m▆\u001b[39m▇\u001b[39m▇\u001b[39m▅\u001b[39m▆\u001b[39m▆\u001b[39m▆\u001b[39m▅\u001b[39m▅\u001b[39m▅\u001b[39m▅\u001b[39m▅\u001b[39m▅\u001b[39m \u001b[39m█\n",
       "  127 μs\u001b[90m        \u001b[39m\u001b[90mHistogram: \u001b[39m\u001b[90m\u001b[1mlog(\u001b[22m\u001b[39m\u001b[90mfrequency\u001b[39m\u001b[90m\u001b[1m)\u001b[22m\u001b[39m\u001b[90m by time\u001b[39m       301 μs \u001b[0m\u001b[1m<\u001b[22m\n",
       "\n",
       " Memory estimate\u001b[90m: \u001b[39m\u001b[33m43.27 KiB\u001b[39m, allocs estimate\u001b[90m: \u001b[39m\u001b[33m28\u001b[39m."
      ]
     },
     "execution_count": 18,
     "metadata": {},
     "output_type": "execute_result"
    }
   ],
   "source": [
    "@benchmark Conv_backward_v5(input, weights, bias, gradient)"
   ]
  },
  {
   "cell_type": "code",
   "execution_count": 19,
   "id": "a32b4ad5",
   "metadata": {},
   "outputs": [
    {
     "data": {
      "text/plain": [
       "BenchmarkTools.Trial: 10000 samples with 1 evaluation.\n",
       " Range \u001b[90m(\u001b[39m\u001b[36m\u001b[1mmin\u001b[22m\u001b[39m … \u001b[35mmax\u001b[39m\u001b[90m):  \u001b[39m\u001b[36m\u001b[1m127.500 μs\u001b[22m\u001b[39m … \u001b[35m 1.800 ms\u001b[39m  \u001b[90m┊\u001b[39m GC \u001b[90m(\u001b[39mmin … max\u001b[90m): \u001b[39m0.00% … 91.03%\n",
       " Time  \u001b[90m(\u001b[39m\u001b[34m\u001b[1mmedian\u001b[22m\u001b[39m\u001b[90m):     \u001b[39m\u001b[34m\u001b[1m130.700 μs              \u001b[22m\u001b[39m\u001b[90m┊\u001b[39m GC \u001b[90m(\u001b[39mmedian\u001b[90m):    \u001b[39m0.00%\n",
       " Time  \u001b[90m(\u001b[39m\u001b[32m\u001b[1mmean\u001b[22m\u001b[39m ± \u001b[32mσ\u001b[39m\u001b[90m):   \u001b[39m\u001b[32m\u001b[1m136.178 μs\u001b[22m\u001b[39m ± \u001b[32m48.539 μs\u001b[39m  \u001b[90m┊\u001b[39m GC \u001b[90m(\u001b[39mmean ± σ\u001b[90m):  \u001b[39m0.97% ±  2.71%\n",
       "\n",
       "  \u001b[39m█\u001b[39m▇\u001b[34m▇\u001b[39m\u001b[39m▅\u001b[39m▅\u001b[32m▄\u001b[39m\u001b[39m▃\u001b[39m▂\u001b[39m▂\u001b[39m▂\u001b[39m▁\u001b[39m▁\u001b[39m▁\u001b[39m \u001b[39m \u001b[39m \u001b[39m \u001b[39m \u001b[39m \u001b[39m \u001b[39m \u001b[39m \u001b[39m \u001b[39m \u001b[39m \u001b[39m \u001b[39m \u001b[39m \u001b[39m \u001b[39m \u001b[39m \u001b[39m \u001b[39m \u001b[39m \u001b[39m \u001b[39m \u001b[39m \u001b[39m \u001b[39m \u001b[39m \u001b[39m \u001b[39m \u001b[39m \u001b[39m \u001b[39m \u001b[39m \u001b[39m \u001b[39m \u001b[39m \u001b[39m \u001b[39m \u001b[39m \u001b[39m \u001b[39m \u001b[39m \u001b[39m \u001b[39m \u001b[39m \u001b[39m \u001b[39m \u001b[39m \u001b[39m▂\n",
       "  \u001b[39m█\u001b[39m█\u001b[34m█\u001b[39m\u001b[39m█\u001b[39m█\u001b[32m█\u001b[39m\u001b[39m█\u001b[39m█\u001b[39m█\u001b[39m█\u001b[39m█\u001b[39m█\u001b[39m█\u001b[39m█\u001b[39m▇\u001b[39m█\u001b[39m▇\u001b[39m▇\u001b[39m▇\u001b[39m▆\u001b[39m▆\u001b[39m▆\u001b[39m▆\u001b[39m▆\u001b[39m▆\u001b[39m▅\u001b[39m▅\u001b[39m▅\u001b[39m▅\u001b[39m▆\u001b[39m▅\u001b[39m▄\u001b[39m▄\u001b[39m▄\u001b[39m▅\u001b[39m▄\u001b[39m▅\u001b[39m▅\u001b[39m▄\u001b[39m▄\u001b[39m▆\u001b[39m▄\u001b[39m▅\u001b[39m▄\u001b[39m▄\u001b[39m▄\u001b[39m▄\u001b[39m▅\u001b[39m▄\u001b[39m▄\u001b[39m▅\u001b[39m▄\u001b[39m▆\u001b[39m▅\u001b[39m▆\u001b[39m▄\u001b[39m▅\u001b[39m▆\u001b[39m▄\u001b[39m▄\u001b[39m \u001b[39m█\n",
       "  128 μs\u001b[90m        \u001b[39m\u001b[90mHistogram: \u001b[39m\u001b[90m\u001b[1mlog(\u001b[22m\u001b[39m\u001b[90mfrequency\u001b[39m\u001b[90m\u001b[1m)\u001b[22m\u001b[39m\u001b[90m by time\u001b[39m       226 μs \u001b[0m\u001b[1m<\u001b[22m\n",
       "\n",
       " Memory estimate\u001b[90m: \u001b[39m\u001b[33m42.70 KiB\u001b[39m, allocs estimate\u001b[90m: \u001b[39m\u001b[33m22\u001b[39m."
      ]
     },
     "execution_count": 19,
     "metadata": {},
     "output_type": "execute_result"
    }
   ],
   "source": [
    "@benchmark Conv_backward_v6(input, weights, bias, gradient)"
   ]
  },
  {
   "cell_type": "code",
   "execution_count": 20,
   "id": "bd63cbd8",
   "metadata": {},
   "outputs": [
    {
     "data": {
      "text/plain": [
       "BenchmarkTools.Trial: 10000 samples with 1 evaluation.\n",
       " Range \u001b[90m(\u001b[39m\u001b[36m\u001b[1mmin\u001b[22m\u001b[39m … \u001b[35mmax\u001b[39m\u001b[90m):  \u001b[39m\u001b[36m\u001b[1m129.600 μs\u001b[22m\u001b[39m … \u001b[35m 2.407 ms\u001b[39m  \u001b[90m┊\u001b[39m GC \u001b[90m(\u001b[39mmin … max\u001b[90m): \u001b[39m0.00% … 92.93%\n",
       " Time  \u001b[90m(\u001b[39m\u001b[34m\u001b[1mmedian\u001b[22m\u001b[39m\u001b[90m):     \u001b[39m\u001b[34m\u001b[1m132.400 μs              \u001b[22m\u001b[39m\u001b[90m┊\u001b[39m GC \u001b[90m(\u001b[39mmedian\u001b[90m):    \u001b[39m0.00%\n",
       " Time  \u001b[90m(\u001b[39m\u001b[32m\u001b[1mmean\u001b[22m\u001b[39m ± \u001b[32mσ\u001b[39m\u001b[90m):   \u001b[39m\u001b[32m\u001b[1m134.176 μs\u001b[22m\u001b[39m ± \u001b[32m37.438 μs\u001b[39m  \u001b[90m┊\u001b[39m GC \u001b[90m(\u001b[39mmean ± σ\u001b[90m):  \u001b[39m0.46% ±  1.60%\n",
       "\n",
       "  \u001b[39m▆\u001b[39m█\u001b[39m▆\u001b[39m▄\u001b[39m▃\u001b[39m▆\u001b[34m▇\u001b[39m\u001b[39m▆\u001b[39m▅\u001b[32m▄\u001b[39m\u001b[39m▃\u001b[39m▃\u001b[39m▂\u001b[39m▃\u001b[39m▂\u001b[39m▁\u001b[39m▁\u001b[39m▁\u001b[39m \u001b[39m \u001b[39m \u001b[39m▁\u001b[39m▁\u001b[39m \u001b[39m \u001b[39m \u001b[39m \u001b[39m \u001b[39m \u001b[39m \u001b[39m \u001b[39m \u001b[39m \u001b[39m \u001b[39m \u001b[39m \u001b[39m \u001b[39m \u001b[39m \u001b[39m \u001b[39m \u001b[39m \u001b[39m \u001b[39m \u001b[39m \u001b[39m \u001b[39m \u001b[39m \u001b[39m \u001b[39m \u001b[39m \u001b[39m \u001b[39m \u001b[39m \u001b[39m \u001b[39m \u001b[39m \u001b[39m \u001b[39m \u001b[39m \u001b[39m \u001b[39m▂\n",
       "  \u001b[39m█\u001b[39m█\u001b[39m█\u001b[39m█\u001b[39m█\u001b[39m█\u001b[34m█\u001b[39m\u001b[39m█\u001b[39m█\u001b[32m█\u001b[39m\u001b[39m█\u001b[39m█\u001b[39m█\u001b[39m█\u001b[39m█\u001b[39m█\u001b[39m█\u001b[39m█\u001b[39m█\u001b[39m█\u001b[39m█\u001b[39m█\u001b[39m█\u001b[39m▇\u001b[39m█\u001b[39m▇\u001b[39m▇\u001b[39m▇\u001b[39m▇\u001b[39m▆\u001b[39m▅\u001b[39m▇\u001b[39m▇\u001b[39m▆\u001b[39m▇\u001b[39m▇\u001b[39m▆\u001b[39m▆\u001b[39m▇\u001b[39m▇\u001b[39m▆\u001b[39m▆\u001b[39m▄\u001b[39m▄\u001b[39m▅\u001b[39m▆\u001b[39m▄\u001b[39m▄\u001b[39m▅\u001b[39m▅\u001b[39m▅\u001b[39m▅\u001b[39m▅\u001b[39m▅\u001b[39m▃\u001b[39m▄\u001b[39m▄\u001b[39m▅\u001b[39m▃\u001b[39m▅\u001b[39m \u001b[39m█\n",
       "  130 μs\u001b[90m        \u001b[39m\u001b[90mHistogram: \u001b[39m\u001b[90m\u001b[1mlog(\u001b[22m\u001b[39m\u001b[90mfrequency\u001b[39m\u001b[90m\u001b[1m)\u001b[22m\u001b[39m\u001b[90m by time\u001b[39m       159 μs \u001b[0m\u001b[1m<\u001b[22m\n",
       "\n",
       " Memory estimate\u001b[90m: \u001b[39m\u001b[33m13.64 KiB\u001b[39m, allocs estimate\u001b[90m: \u001b[39m\u001b[33m28\u001b[39m."
      ]
     },
     "execution_count": 20,
     "metadata": {},
     "output_type": "execute_result"
    }
   ],
   "source": [
    "@benchmark Conv_backward_v7(input, weights, bias, gradient)"
   ]
  },
  {
   "cell_type": "code",
   "execution_count": 21,
   "id": "29061a4f",
   "metadata": {},
   "outputs": [
    {
     "data": {
      "text/plain": [
       "(Float32[2.4740026 2.6737921 … 2.2692873 1.7888535; 3.1967802 6.0427833 … 5.377192 2.864847; … ; 2.7728949 5.810988 … 6.598092 2.5808516; 1.2643493 3.2989457 … 3.5650449 1.032854;;;], Float32[167.64406 169.15935 167.00087; 167.70038 163.98868 163.67014; 162.34267 163.4832 165.82878;;;; 163.57365 159.92496 164.4841; 161.50903 160.84991 161.48358; 161.07101 162.28337 162.46985;;;; 167.42563 168.78995 171.7227; 169.2116 166.07845 168.47707; 163.76364 163.80411 171.1175;;;; 176.75003 176.45343 177.18245; 170.60622 175.03868 177.14157; 171.02507 176.13356 177.88799;;;; 163.75743 166.89166 163.69728; 166.04156 163.56065 163.95918; 161.5332 162.68594 158.96266;;;; 171.92052 174.48372 173.80414; 171.91307 176.1706 172.15506; 170.91565 172.85698 175.36737], [338.2929296134087, 328.8824437877334, 341.81983651236527, 355.49778988061513, 333.1912336044469, 352.39460710117095])"
      ]
     },
     "execution_count": 21,
     "metadata": {},
     "output_type": "execute_result"
    }
   ],
   "source": [
    "Conv_backward_v4(input, weights, bias, gradient)"
   ]
  },
  {
   "cell_type": "code",
   "execution_count": 22,
   "id": "37a4d68d-9936-402a-8c47-166e1bce721d",
   "metadata": {},
   "outputs": [
    {
     "data": {
      "text/plain": [
       "(Float32[2.4740026 2.673792 … 2.269287 1.7888533; 3.1967802 6.0427833 … 5.377192 2.864847; … ; 2.7728946 5.810988 … 6.5980916 2.5808516; 1.2643493 3.2989457 … 3.5650446 1.032854;;;], Float32[167.64406 169.15935 167.00087; 167.70038 163.98868 163.67014; 162.34267 163.4832 165.82878;;;; 163.57365 159.92496 164.4841; 161.50903 160.84991 161.48358; 161.07101 162.28337 162.46985;;;; 167.42563 168.78995 171.7227; 169.2116 166.07845 168.47707; 163.76364 163.80411 171.1175;;;; 176.75003 176.45343 177.18245; 170.60622 175.03868 177.14157; 171.02507 176.13356 177.88799;;;; 163.75743 166.89166 163.69728; 166.04156 163.56065 163.95918; 161.5332 162.68594 158.96266;;;; 171.92052 174.48372 173.80414; 171.91307 176.1706 172.15506; 170.91565 172.85698 175.36737], [338.2929296134087, 328.8824437877334, 341.81983651236527, 355.49778988061513, 333.1912336044469, 352.39460710117095])"
      ]
     },
     "execution_count": 22,
     "metadata": {},
     "output_type": "execute_result"
    }
   ],
   "source": [
    "Conv_backward_v6(input, weights, bias, gradient)"
   ]
  },
  {
   "cell_type": "code",
   "execution_count": 23,
   "id": "2d00d5a3",
   "metadata": {},
   "outputs": [
    {
     "data": {
      "text/plain": [
       "(Float32[2.4740026 2.673792 … 2.269287 1.7888533; 3.1967802 6.0427833 … 5.377192 2.864847; … ; 2.7728946 5.810988 … 6.5980916 2.5808516; 1.2643493 3.2989457 … 3.5650446 1.032854;;;], Float32[167.64406 169.15935 167.00087; 167.7004 163.9887 163.67015; 162.34265 163.48323 165.82878;;;; 163.57365 159.92496 164.4841; 161.50905 160.8499 161.48358; 161.07101 162.28336 162.46986;;;; 167.42563 168.78995 171.7227; 169.2116 166.07843 168.47705; 163.76366 163.80412 171.1175;;;; 176.75003 176.45345 177.18243; 170.60622 175.03868 177.14159; 171.02505 176.13356 177.88799;;;; 163.75742 166.89165 163.69727; 166.04155 163.56067 163.9592; 161.5332 162.68593 158.96265;;;; 171.92052 174.48372 173.80415; 171.91309 176.1706 172.15506; 170.91565 172.85696 175.36739], [338.2929296134087, 328.8824437877334, 341.81983651236527, 355.49778988061513, 333.1912336044469, 352.39460710117095])"
      ]
     },
     "execution_count": 23,
     "metadata": {},
     "output_type": "execute_result"
    }
   ],
   "source": [
    "Conv_backward_v7(input, weights, bias, gradient)"
   ]
  }
 ],
 "metadata": {
  "kernelspec": {
   "display_name": "Julia 1.10.2",
   "language": "julia",
   "name": "julia-1.10"
  },
  "language_info": {
   "file_extension": ".jl",
   "mimetype": "application/julia",
   "name": "julia",
   "version": "1.10.2"
  }
 },
 "nbformat": 4,
 "nbformat_minor": 5
}
