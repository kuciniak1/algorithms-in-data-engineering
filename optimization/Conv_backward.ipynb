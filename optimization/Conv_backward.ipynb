{
 "cells": [
  {
   "cell_type": "code",
   "execution_count": 31,
   "id": "936e3b17-6e67-4337-b2fd-c439868d402c",
   "metadata": {},
   "outputs": [],
   "source": [
    "using BenchmarkTools"
   ]
  },
  {
   "cell_type": "code",
   "execution_count": 32,
   "id": "0aab672b-d403-4b54-a3e4-82c7f53a110c",
   "metadata": {},
   "outputs": [
    {
     "data": {
      "text/plain": [
       "rotate (generic function with 1 method)"
      ]
     },
     "execution_count": 32,
     "metadata": {},
     "output_type": "execute_result"
    }
   ],
   "source": [
    "function rotate(matrix)\n",
    "    return reverse(reverse(matrix, dims=1), dims=2)\n",
    "end"
   ]
  },
  {
   "cell_type": "code",
   "execution_count": 33,
   "id": "045ac6c2-28fb-442f-935a-afe2124be2f0",
   "metadata": {},
   "outputs": [
    {
     "data": {
      "text/plain": [
       "Convolution_2d_pad (generic function with 1 method)"
      ]
     },
     "execution_count": 33,
     "metadata": {},
     "output_type": "execute_result"
    }
   ],
   "source": [
    "function Convolution_2d_pad(input, kernel; bias=0., padding=false)\n",
    "    input_rows, input_columns = size(input)\n",
    "    kernel_height, kernel_width = size(kernel)\n",
    "\n",
    "    if padding\n",
    "        padded_input = zeros(Float32, input_rows + 2*kernel_height - 2, input_columns + 2*kernel_width - 2)\n",
    "        padded_input[kernel_height:end-kernel_height+1, kernel_width:end-kernel_width+1] .= input\n",
    "        input_rows, input_columns = size(padded_input)\n",
    "        input = padded_input\n",
    "    end\n",
    "\n",
    "    output_rows = input_rows - kernel_height + 1\n",
    "    output_columns = input_columns - kernel_width + 1\n",
    "    output = zeros(Float32, output_rows, output_columns)\n",
    "\n",
    "\n",
    "    for c in 1:output_columns\n",
    "        for r in 1:output_rows\n",
    "            patch = @view input[r:r+kernel_height-1, c:c+kernel_width-1]\n",
    "            output[r, c] = sum(patch .* kernel) + bias\n",
    "        end\n",
    "    end\n",
    "    return output\n",
    "end"
   ]
  },
  {
   "cell_type": "code",
   "execution_count": 34,
   "id": "b4173fe6-711d-4a85-8249-fea33f3b757f",
   "metadata": {},
   "outputs": [
    {
     "data": {
      "text/plain": [
       "Convolution_2d (generic function with 1 method)"
      ]
     },
     "execution_count": 34,
     "metadata": {},
     "output_type": "execute_result"
    }
   ],
   "source": [
    "function Convolution_2d(input, kernel; bias=0.)\n",
    "    input_rows, input_columns = size(input)\n",
    "    kernel_height, kernel_width = size(kernel)\n",
    "\n",
    "    output_rows = input_rows - kernel_height + 1\n",
    "    output_columns = input_columns - kernel_width + 1\n",
    "    output = zeros(Float32, output_rows, output_columns)\n",
    "\n",
    "\n",
    "    for c in 1:output_columns\n",
    "        for r in 1:output_rows\n",
    "            patch = @view input[r:r+kernel_height-1, c:c+kernel_width-1]\n",
    "            output[r, c] = sum(patch .* kernel) + bias\n",
    "        end\n",
    "    end\n",
    "    return output\n",
    "end"
   ]
  },
  {
   "cell_type": "code",
   "execution_count": 35,
   "id": "4809b981-d7a7-4997-a506-5b2c1d3cb704",
   "metadata": {},
   "outputs": [
    {
     "data": {
      "text/plain": [
       "Convolution_2d_v2! (generic function with 1 method)"
      ]
     },
     "execution_count": 35,
     "metadata": {},
     "output_type": "execute_result"
    }
   ],
   "source": [
    "function Convolution_2d!(ret, input, kernel; bias=0., padding=false)\n",
    "    input_rows, input_columns = size(input)\n",
    "    kernel_height, kernel_width = size(kernel)\n",
    "\n",
    "    if padding\n",
    "        padded_input = zeros(Float32, input_rows + 2*kernel_height - 2, input_columns + 2*kernel_width - 2)\n",
    "        padded_input[kernel_height:end-kernel_height+1, kernel_width:end-kernel_width+1] .= input\n",
    "        input_rows, input_columns = size(padded_input)\n",
    "        input = padded_input\n",
    "    end\n",
    "\n",
    "    output_rows = input_rows - kernel_height + 1\n",
    "    output_columns = input_columns - kernel_width + 1\n",
    "    sumret = zeros(size(kernel))\n",
    "    for c in 1:output_columns\n",
    "        for r in 1:output_rows\n",
    "            patch = @view input[r:r+kernel_height-1, c:c+kernel_width-1]\n",
    "            sumret .= patch .* kernel\n",
    "            ret[r, c] = sum(sumret) + bias\n",
    "            sumret .= 0.0\n",
    "        end\n",
    "    end\n",
    "end\n",
    "\n",
    "function Convolution_2d_v2!(ret, sumret, input, kernel; bias=0., padding=false)\n",
    "    input_rows, input_columns = size(input)\n",
    "    kernel_height, kernel_width = size(kernel)\n",
    "\n",
    "    if padding\n",
    "        padded_input = zeros(Float32, input_rows + 2*kernel_height - 2, input_columns + 2*kernel_width - 2)\n",
    "        padded_input[kernel_height:end-kernel_height+1, kernel_width:end-kernel_width+1] .= input\n",
    "        input_rows, input_columns = size(padded_input)\n",
    "        input = padded_input\n",
    "    end\n",
    "\n",
    "    output_rows = input_rows - kernel_height + 1\n",
    "    output_columns = input_columns - kernel_width + 1\n",
    "    for c in 1:output_columns\n",
    "        for r in 1:output_rows\n",
    "            patch = @view input[r:r+kernel_height-1, c:c+kernel_width-1]\n",
    "            sumret .= patch .* kernel\n",
    "            ret[r, c] = sum(sumret) + bias\n",
    "            sumret .= 0.0\n",
    "        end\n",
    "    end\n",
    "end"
   ]
  },
  {
   "cell_type": "code",
   "execution_count": 36,
   "id": "787b5c25-4636-4b63-9fa6-7f43de0b33d1",
   "metadata": {},
   "outputs": [
    {
     "data": {
      "text/plain": [
       "Conv_backward_v1 (generic function with 1 method)"
      ]
     },
     "execution_count": 36,
     "metadata": {},
     "output_type": "execute_result"
    }
   ],
   "source": [
    "function Conv_backward_v1( input, weights, bias, gradient)\n",
    "    input_height, input_width, input_channels = size(input)\n",
    "    output_height, output_width, output_channels = size(gradient)\n",
    "    kernel_height, kernel_width, _, _ = size(weights)\n",
    "    \n",
    "    \n",
    "    grad_input = zeros(Float32, size(input))\n",
    "    for k in 1:input_channels\n",
    "        for c in 1:output_channels\n",
    "            grad_input[:, :, k] += Convolution_2d_pad(weights[:, :, k, c], gradient[:, :, c]; padding=true)\n",
    "        end\n",
    "    end\n",
    "\n",
    "    grad_weights = zeros(Float32, size(weights))\n",
    "    for k in 1:input_channels\n",
    "        for c in 1:output_channels\n",
    "            grad_weights[:, :, k, c] += Convolution_2d(input[:, :, k], gradient[:, :, c])\n",
    "        end\n",
    "    end\n",
    "\n",
    "    grad_bias = reshape(sum(gradient, dims=(1,2,4)), :)\n",
    "    \n",
    "    return grad_input, grad_weights, grad_bias\n",
    "end"
   ]
  },
  {
   "cell_type": "code",
   "execution_count": 37,
   "id": "70169f26-159a-4bcd-906b-e57371b9d210",
   "metadata": {},
   "outputs": [
    {
     "data": {
      "text/plain": [
       "Conv_backward_v2 (generic function with 1 method)"
      ]
     },
     "execution_count": 37,
     "metadata": {},
     "output_type": "execute_result"
    }
   ],
   "source": [
    "function Conv_backward_v2(input, weights, bias, gradient)\n",
    "    input_height, input_width, input_channels = size(input)\n",
    "    output_height, output_width, output_channels = size(gradient)\n",
    "    kernel_height, kernel_width, _, _ = size(weights)\n",
    "    \n",
    "    \n",
    "    grad_input = zeros(Float32, size(input))\n",
    "    grad_weights = zeros(Float32, size(weights))\n",
    "    \n",
    "    tmp_weights = zeros(Float32, kernel_height, kernel_width)\n",
    "    tmp_input = zeros(Float32, input_height, input_width)\n",
    "    tmp_gradient = zeros(Float32, output_height, output_width)\n",
    "    \n",
    "    for k in 1:input_channels\n",
    "        for c in 1:output_channels\n",
    "            tmp_weights .= @views weights[:, :, k, c]\n",
    "            tmp_gradient .= @views gradient[:, :, c]\n",
    "            grad_input[:, :, k] .+= Convolution_2d_pad(tmp_weights, rotate(tmp_gradient); padding=true)\n",
    "        end\n",
    "    end\n",
    "\n",
    "    \n",
    "    for k in 1:input_channels\n",
    "        for c in 1:output_channels\n",
    "            tmp_input .= @views input[:, :, k]\n",
    "            tmp_gradient .= @views gradient[:, :, c]\n",
    "            grad_weights[:, :, k, c] += Convolution_2d(tmp_input, tmp_gradient)\n",
    "        end\n",
    "    end\n",
    "\n",
    "    grad_bias = reshape(sum(gradient, dims=(1,2,4)), :)\n",
    "    \n",
    "    return grad_input, grad_weights, grad_bias\n",
    "end"
   ]
  },
  {
   "cell_type": "code",
   "execution_count": 38,
   "id": "8e572997",
   "metadata": {},
   "outputs": [
    {
     "data": {
      "text/plain": [
       "Conv_backward_v3 (generic function with 1 method)"
      ]
     },
     "execution_count": 38,
     "metadata": {},
     "output_type": "execute_result"
    }
   ],
   "source": [
    "function Conv_backward_v3( input, weights, bias, gradient)\n",
    "    input_height, input_width, input_channels = size(input)\n",
    "    output_height, output_width, output_channels = size(gradient)\n",
    "    kernel_height, kernel_width, _, _ = size(weights)\n",
    "    \n",
    "    grad_input = zeros(Float32, size(input))\n",
    "    grad_weights = zeros(Float32, size(weights))\n",
    "    \n",
    "    tmp_weights = zeros(Float32, kernel_height, kernel_width)\n",
    "    tmp_input = zeros(Float32, input_height, input_width)\n",
    "    tmp_gradient = zeros(Float32, output_height, output_width)\n",
    "    \n",
    "    for k in 1:input_channels\n",
    "        for c in 1:output_channels\n",
    "            tmp_weights .= @views weights[:, :, k, c]\n",
    "            tmp_gradient .= @views gradient[:, :, c]\n",
    "            for i = 1:output_height\n",
    "                for j = 1:output_width\n",
    "                    grad_input[i:i+kernel_height-1, j:j+kernel_width-1, k] .+= (tmp_weights .* tmp_gradient[i,j]);\n",
    "                end\n",
    "            end\n",
    "        end\n",
    "    end\n",
    "    \n",
    "    for k in 1:input_channels\n",
    "        for c in 1:output_channels\n",
    "            tmp_input .= @views input[:, :, k]\n",
    "            tmp_gradient .= @views gradient[:, :, c]\n",
    "            grad_weights[:, :, k, c] += Convolution_2d(tmp_input, tmp_gradient)\n",
    "        end\n",
    "    end\n",
    "\n",
    "    grad_bias = reshape(sum(gradient, dims=(1,2,4)), :)\n",
    "    \n",
    "    return grad_input, grad_weights, grad_bias\n",
    "end"
   ]
  },
  {
   "cell_type": "code",
   "execution_count": 39,
   "id": "b439dd06-6c7e-4292-a54e-b9891e81c93e",
   "metadata": {},
   "outputs": [
    {
     "data": {
      "text/plain": [
       "Conv_backward_v4 (generic function with 1 method)"
      ]
     },
     "execution_count": 39,
     "metadata": {},
     "output_type": "execute_result"
    }
   ],
   "source": [
    "function Conv_backward_v4(input, weights, bias, gradient)\n",
    "    input_height, input_width, input_channels = size(input)\n",
    "    output_height, output_width, output_channels = size(gradient)\n",
    "    kernel_height, kernel_width, _, _ = size(weights)\n",
    "    \n",
    "    grad_input = zeros(Float32, size(input))\n",
    "    grad_weights = zeros(Float32, size(weights))\n",
    "    \n",
    "    tmp_weights = zeros(Float32, kernel_height, kernel_width)\n",
    "    tmp_input = zeros(Float32, input_height, input_width)\n",
    "    tmp_gradient = zeros(Float32, output_height, output_width)\n",
    "    \n",
    "    for k in 1:input_channels\n",
    "        for c in 1:output_channels\n",
    "            tmp_weights .= @views weights[:, :, k, c]\n",
    "            tmp_gradient .= @views gradient[:, :, c]\n",
    "            for i = 1:output_height\n",
    "                for j = 1:output_width\n",
    "                    grad_input[i:i+kernel_height-1, j:j+kernel_width-1, k] .+= (tmp_weights .* tmp_gradient[i,j]);\n",
    "                end\n",
    "            end\n",
    "        end\n",
    "    end\n",
    "    \n",
    "    for k in 1:input_channels\n",
    "        for c in 1:output_channels\n",
    "            tmp_input .= @views input[:, :, k]\n",
    "            tmp_gradient .= @views gradient[:, :, c]\n",
    "            Convolution_2d!(tmp_weights, tmp_input, tmp_gradient)\n",
    "            grad_weights[:, :, k, c] .+= tmp_weights\n",
    "            tmp_weights .= 0\n",
    "        end\n",
    "    end\n",
    "\n",
    "    grad_bias = reshape(sum(gradient, dims=(1,2,4)), :)\n",
    "    \n",
    "    return grad_input, grad_weights, grad_bias\n",
    "end"
   ]
  },
  {
   "cell_type": "code",
   "execution_count": 40,
   "id": "3cd49fed",
   "metadata": {},
   "outputs": [
    {
     "data": {
      "text/plain": [
       "Conv_backward_v5 (generic function with 1 method)"
      ]
     },
     "execution_count": 40,
     "metadata": {},
     "output_type": "execute_result"
    }
   ],
   "source": [
    "function Conv_backward_v5(input, weights, bias, gradient)\n",
    "  input_height, input_width, input_channels = size(input)\n",
    "  output_height, output_width, output_channels = size(gradient)\n",
    "  kernel_height, kernel_width, _, _ = size(weights)\n",
    "  \n",
    "  grad_input = zeros(Float32, size(input))\n",
    "  grad_weights = zeros(Float32, size(weights))\n",
    "  \n",
    "  tmp_weights = zeros(Float32, kernel_height, kernel_width)\n",
    "  tmp_input = zeros(Float32, input_height, input_width)\n",
    "  tmp_gradient = zeros(Float32, output_height, output_width)\n",
    "  tmp_weight_gradient = zeros(Float32, kernel_height, kernel_width)\n",
    "  for k in 1:input_channels\n",
    "      for c in 1:output_channels\n",
    "          for i = 1:output_height\n",
    "              for j = 1:output_width\n",
    "                  @views grad_input[i:i+kernel_height-1, j:j+kernel_width-1, k] .+= (weights[:, :, k, c] .* gradient[i, j, c]);\n",
    "              end\n",
    "          end\n",
    "      end\n",
    "  end\n",
    "  \n",
    "  for k in 1:input_channels\n",
    "      for c in 1:output_channels\n",
    "          tmp_weights .= 0\n",
    "          tmp_input .= @views input[:, :, k]\n",
    "          tmp_gradient .= @views gradient[:, :, c]\n",
    "          Convolution_2d!(tmp_weights, tmp_input, tmp_gradient)\n",
    "          grad_weights[:, :, k, c] .+= tmp_weights\n",
    "      end\n",
    "  end\n",
    "\n",
    "  grad_bias = reshape(sum(gradient, dims=(1,2,4)), :)\n",
    "  \n",
    "  return grad_input, grad_weights, grad_bias\n",
    "end"
   ]
  },
  {
   "cell_type": "code",
   "execution_count": 41,
   "id": "a9b812b7",
   "metadata": {},
   "outputs": [
    {
     "data": {
      "text/plain": [
       "Conv_backward_v6 (generic function with 1 method)"
      ]
     },
     "execution_count": 41,
     "metadata": {},
     "output_type": "execute_result"
    }
   ],
   "source": [
    "function Conv_backward_v6(input, weights, bias, gradient)\n",
    "  input_height, input_width, input_channels = size(input)\n",
    "  output_height, output_width, output_channels = size(gradient)\n",
    "  kernel_height, kernel_width, _, _ = size(weights)\n",
    "  \n",
    "  grad_input = zeros(Float32, size(input))\n",
    "  grad_weights = zeros(Float32, size(weights))\n",
    "  \n",
    "  tmp_weights = zeros(Float32, kernel_height, kernel_width)\n",
    "  tmp_input = zeros(Float32, input_height, input_width)\n",
    "  tmp_gradient = zeros(Float32, output_height, output_width)\n",
    "  tmp_weight_gradient = zeros(Float32, kernel_height, kernel_width)\n",
    "  for k in 1:input_channels\n",
    "      for c in 1:output_channels\n",
    "          for i = 1:output_height\n",
    "              for j = 1:output_width\n",
    "                  @views grad_input[i:i+kernel_height-1, j:j+kernel_width-1, k] .+= (weights[:, :, k, c] .* gradient[i, j, c]);\n",
    "              end\n",
    "          end\n",
    "      end\n",
    "  end\n",
    "  \n",
    "  for k in 1:input_channels\n",
    "      for c in 1:output_channels\n",
    "          tmp_weights .= 0\n",
    "          tmp_input .= @views input[:, :, k]\n",
    "          tmp_gradient .= @views gradient[:, :, c]\n",
    "          Convolution_2d!(tmp_weights, tmp_input, tmp_gradient)\n",
    "          @views grad_weights[:, :, k, c] .+= tmp_weights\n",
    "      end\n",
    "  end\n",
    "\n",
    "  grad_bias = reshape(sum(gradient, dims=(1,2,4)), :)\n",
    "  \n",
    "  return grad_input, grad_weights, grad_bias\n",
    "end"
   ]
  },
  {
   "cell_type": "code",
   "execution_count": 42,
   "id": "1e66406a",
   "metadata": {},
   "outputs": [
    {
     "data": {
      "text/plain": [
       "Conv_backward_v7 (generic function with 1 method)"
      ]
     },
     "execution_count": 42,
     "metadata": {},
     "output_type": "execute_result"
    }
   ],
   "source": [
    "function Conv_backward_v7(input, weights, bias, gradient)\n",
    "  input_height, input_width, input_channels = size(input)\n",
    "  output_height, output_width, output_channels = size(gradient)\n",
    "  kernel_height, kernel_width, _, _ = size(weights)\n",
    "  \n",
    "  grad_input = zeros(Float32, size(input))\n",
    "  grad_weights = zeros(Float32, size(weights))\n",
    "  \n",
    "  tmp_weights = zeros(Float32, kernel_height, kernel_width)\n",
    "  tmp_input = zeros(Float32, input_height, input_width)\n",
    "  tmp_gradient = zeros(Float32, output_height, output_width)\n",
    "  for k in 1:input_channels\n",
    "      for c in 1:output_channels\n",
    "          for i = 1:output_height\n",
    "              for j = 1:output_width\n",
    "                  @views grad_input[i:i+kernel_height-1, j:j+kernel_width-1, k] .+= (weights[:, :, k, c] .* gradient[i, j, c]);\n",
    "              end\n",
    "          end\n",
    "      end\n",
    "  end\n",
    "  sumret = zeros(Float32, output_height, output_width)\n",
    "  for k in 1:input_channels\n",
    "      for c in 1:output_channels\n",
    "          tmp_weights .= 0\n",
    "          tmp_input .= @views input[:, :, k]\n",
    "          tmp_gradient .= @views gradient[:, :, c]\n",
    "          Convolution_2d_v2!(tmp_weights, sumret, tmp_input, tmp_gradient)\n",
    "          @views grad_weights[:, :, k, c] .+= tmp_weights\n",
    "      end\n",
    "  end\n",
    "\n",
    "  grad_bias = reshape(sum(gradient, dims=(1,2,4)), :)\n",
    "  \n",
    "  return grad_input, grad_weights, grad_bias\n",
    "end"
   ]
  },
  {
   "cell_type": "code",
   "execution_count": 43,
   "id": "4a211139-dd26-485b-ba75-21c02c0ad524",
   "metadata": {},
   "outputs": [],
   "source": [
    "input = rand(28, 28, 1);\n",
    "weights = rand(3, 3, 1, 6);\n",
    "bias = rand(Float32, 6);\n",
    "gradient = rand(26, 26, 6);"
   ]
  },
  {
   "cell_type": "code",
   "execution_count": 44,
   "id": "a279f768-4514-4ba9-80a4-13aaace78226",
   "metadata": {},
   "outputs": [
    {
     "data": {
      "text/plain": [
       "BenchmarkTools.Trial: 1196 samples with 1 evaluation.\n",
       " Range \u001b[90m(\u001b[39m\u001b[36m\u001b[1mmin\u001b[22m\u001b[39m … \u001b[35mmax\u001b[39m\u001b[90m):  \u001b[39m\u001b[36m\u001b[1m2.889 ms\u001b[22m\u001b[39m … \u001b[35m35.489 ms\u001b[39m  \u001b[90m┊\u001b[39m GC \u001b[90m(\u001b[39mmin … max\u001b[90m): \u001b[39m 0.00% …  0.00%\n",
       " Time  \u001b[90m(\u001b[39m\u001b[34m\u001b[1mmedian\u001b[22m\u001b[39m\u001b[90m):     \u001b[39m\u001b[34m\u001b[1m4.222 ms              \u001b[22m\u001b[39m\u001b[90m┊\u001b[39m GC \u001b[90m(\u001b[39mmedian\u001b[90m):    \u001b[39m27.21%\n",
       " Time  \u001b[90m(\u001b[39m\u001b[32m\u001b[1mmean\u001b[22m\u001b[39m ± \u001b[32mσ\u001b[39m\u001b[90m):   \u001b[39m\u001b[32m\u001b[1m4.172 ms\u001b[22m\u001b[39m ± \u001b[32m 1.621 ms\u001b[39m  \u001b[90m┊\u001b[39m GC \u001b[90m(\u001b[39mmean ± σ\u001b[90m):  \u001b[39m18.55% ± 14.22%\n",
       "\n",
       "  \u001b[39m \u001b[39m█\u001b[39m \u001b[39m \u001b[39m \u001b[39m \u001b[39m \u001b[39m \u001b[39m \u001b[34m▆\u001b[39m\u001b[39m▃\u001b[39m \u001b[39m \u001b[39m \u001b[39m \u001b[39m \u001b[39m \u001b[39m \u001b[39m \u001b[39m \u001b[39m \u001b[39m \u001b[39m \u001b[39m \u001b[39m \u001b[39m \u001b[39m \u001b[39m \u001b[39m \u001b[39m \u001b[39m \u001b[39m \u001b[39m \u001b[39m \u001b[39m \u001b[39m \u001b[39m \u001b[39m \u001b[39m \u001b[39m \u001b[39m \u001b[39m \u001b[39m \u001b[39m \u001b[39m \u001b[39m \u001b[39m \u001b[39m \u001b[39m \u001b[39m \u001b[39m \u001b[39m \u001b[39m \u001b[39m \u001b[39m \u001b[39m \u001b[39m \u001b[39m \u001b[39m \u001b[39m \n",
       "  \u001b[39m▅\u001b[39m█\u001b[39m▆\u001b[39m▄\u001b[39m▄\u001b[39m▃\u001b[39m▃\u001b[39m▂\u001b[39m▅\u001b[34m█\u001b[39m\u001b[39m█\u001b[39m▇\u001b[39m▇\u001b[39m▅\u001b[39m▄\u001b[39m▃\u001b[39m▃\u001b[39m▃\u001b[39m▂\u001b[39m▂\u001b[39m▂\u001b[39m▁\u001b[39m▂\u001b[39m▂\u001b[39m▁\u001b[39m▂\u001b[39m▁\u001b[39m▂\u001b[39m▂\u001b[39m▂\u001b[39m▁\u001b[39m▁\u001b[39m▁\u001b[39m▁\u001b[39m▁\u001b[39m▂\u001b[39m▂\u001b[39m▁\u001b[39m▂\u001b[39m▂\u001b[39m▁\u001b[39m▁\u001b[39m▂\u001b[39m▁\u001b[39m▂\u001b[39m▂\u001b[39m▁\u001b[39m▁\u001b[39m▁\u001b[39m▂\u001b[39m▂\u001b[39m▁\u001b[39m▂\u001b[39m▁\u001b[39m▂\u001b[39m▂\u001b[39m▂\u001b[39m▂\u001b[39m \u001b[39m▃\n",
       "  2.89 ms\u001b[90m        Histogram: frequency by time\u001b[39m        11.1 ms \u001b[0m\u001b[1m<\u001b[22m\n",
       "\n",
       " Memory estimate\u001b[90m: \u001b[39m\u001b[33m25.49 MiB\u001b[39m, allocs estimate\u001b[90m: \u001b[39m\u001b[33m4842\u001b[39m."
      ]
     },
     "execution_count": 44,
     "metadata": {},
     "output_type": "execute_result"
    }
   ],
   "source": [
    "@benchmark Conv_backward_v1(input, weights, bias, gradient)"
   ]
  },
  {
   "cell_type": "code",
   "execution_count": 45,
   "id": "17651caf-f1c5-46c0-b074-53f96ddd1df3",
   "metadata": {},
   "outputs": [
    {
     "data": {
      "text/plain": [
       "BenchmarkTools.Trial: 1393 samples with 1 evaluation.\n",
       " Range \u001b[90m(\u001b[39m\u001b[36m\u001b[1mmin\u001b[22m\u001b[39m … \u001b[35mmax\u001b[39m\u001b[90m):  \u001b[39m\u001b[36m\u001b[1m2.754 ms\u001b[22m\u001b[39m … \u001b[35m 10.249 ms\u001b[39m  \u001b[90m┊\u001b[39m GC \u001b[90m(\u001b[39mmin … max\u001b[90m): \u001b[39m 0.00% … 53.57%\n",
       " Time  \u001b[90m(\u001b[39m\u001b[34m\u001b[1mmedian\u001b[22m\u001b[39m\u001b[90m):     \u001b[39m\u001b[34m\u001b[1m2.955 ms               \u001b[22m\u001b[39m\u001b[90m┊\u001b[39m GC \u001b[90m(\u001b[39mmedian\u001b[90m):    \u001b[39m 0.00%\n",
       " Time  \u001b[90m(\u001b[39m\u001b[32m\u001b[1mmean\u001b[22m\u001b[39m ± \u001b[32mσ\u001b[39m\u001b[90m):   \u001b[39m\u001b[32m\u001b[1m3.581 ms\u001b[22m\u001b[39m ± \u001b[32m999.375 μs\u001b[39m  \u001b[90m┊\u001b[39m GC \u001b[90m(\u001b[39mmean ± σ\u001b[90m):  \u001b[39m16.31% ± 18.18%\n",
       "\n",
       "  \u001b[39m▃\u001b[39m▇\u001b[39m█\u001b[34m▅\u001b[39m\u001b[39m▄\u001b[39m▂\u001b[39m▁\u001b[39m▁\u001b[39m▁\u001b[39m \u001b[39m \u001b[39m \u001b[39m \u001b[32m \u001b[39m\u001b[39m \u001b[39m \u001b[39m \u001b[39m \u001b[39m \u001b[39m \u001b[39m \u001b[39m \u001b[39m \u001b[39m \u001b[39m \u001b[39m \u001b[39m \u001b[39m \u001b[39m▁\u001b[39m▅\u001b[39m▄\u001b[39m▄\u001b[39m▃\u001b[39m▂\u001b[39m▁\u001b[39m▂\u001b[39m \u001b[39m \u001b[39m \u001b[39m \u001b[39m \u001b[39m \u001b[39m \u001b[39m \u001b[39m \u001b[39m \u001b[39m \u001b[39m \u001b[39m \u001b[39m \u001b[39m \u001b[39m \u001b[39m \u001b[39m \u001b[39m \u001b[39m \u001b[39m \u001b[39m \u001b[39m \u001b[39m \u001b[39m \n",
       "  \u001b[39m█\u001b[39m█\u001b[39m█\u001b[34m█\u001b[39m\u001b[39m█\u001b[39m█\u001b[39m█\u001b[39m█\u001b[39m█\u001b[39m▇\u001b[39m▇\u001b[39m▇\u001b[39m▆\u001b[32m▆\u001b[39m\u001b[39m▆\u001b[39m▄\u001b[39m▆\u001b[39m▆\u001b[39m▄\u001b[39m▅\u001b[39m▄\u001b[39m▄\u001b[39m▄\u001b[39m▁\u001b[39m▁\u001b[39m▄\u001b[39m▁\u001b[39m▄\u001b[39m█\u001b[39m█\u001b[39m█\u001b[39m█\u001b[39m█\u001b[39m█\u001b[39m█\u001b[39m█\u001b[39m█\u001b[39m█\u001b[39m█\u001b[39m▇\u001b[39m▇\u001b[39m▆\u001b[39m▆\u001b[39m▅\u001b[39m▄\u001b[39m▄\u001b[39m▄\u001b[39m▅\u001b[39m▄\u001b[39m▁\u001b[39m▅\u001b[39m▁\u001b[39m▄\u001b[39m▁\u001b[39m▁\u001b[39m▁\u001b[39m▅\u001b[39m▁\u001b[39m▅\u001b[39m \u001b[39m█\n",
       "  2.75 ms\u001b[90m      \u001b[39m\u001b[90mHistogram: \u001b[39m\u001b[90m\u001b[1mlog(\u001b[22m\u001b[39m\u001b[90mfrequency\u001b[39m\u001b[90m\u001b[1m)\u001b[22m\u001b[39m\u001b[90m by time\u001b[39m       6.5 ms \u001b[0m\u001b[1m<\u001b[22m\n",
       "\n",
       " Memory estimate\u001b[90m: \u001b[39m\u001b[33m13.22 MiB\u001b[39m, allocs estimate\u001b[90m: \u001b[39m\u001b[33m4827\u001b[39m."
      ]
     },
     "execution_count": 45,
     "metadata": {},
     "output_type": "execute_result"
    }
   ],
   "source": [
    "@benchmark Conv_backward_v2(input, weights, bias, gradient)"
   ]
  },
  {
   "cell_type": "code",
   "execution_count": 46,
   "id": "4bcbb4f8",
   "metadata": {},
   "outputs": [
    {
     "data": {
      "text/plain": [
       "BenchmarkTools.Trial: 10000 samples with 1 evaluation.\n",
       " Range \u001b[90m(\u001b[39m\u001b[36m\u001b[1mmin\u001b[22m\u001b[39m … \u001b[35mmax\u001b[39m\u001b[90m):  \u001b[39m\u001b[36m\u001b[1m305.900 μs\u001b[22m\u001b[39m … \u001b[35m  1.825 ms\u001b[39m  \u001b[90m┊\u001b[39m GC \u001b[90m(\u001b[39mmin … max\u001b[90m): \u001b[39m0.00% … 78.25%\n",
       " Time  \u001b[90m(\u001b[39m\u001b[34m\u001b[1mmedian\u001b[22m\u001b[39m\u001b[90m):     \u001b[39m\u001b[34m\u001b[1m315.600 μs               \u001b[22m\u001b[39m\u001b[90m┊\u001b[39m GC \u001b[90m(\u001b[39mmedian\u001b[90m):    \u001b[39m0.00%\n",
       " Time  \u001b[90m(\u001b[39m\u001b[32m\u001b[1mmean\u001b[22m\u001b[39m ± \u001b[32mσ\u001b[39m\u001b[90m):   \u001b[39m\u001b[32m\u001b[1m334.767 μs\u001b[22m\u001b[39m ± \u001b[32m116.240 μs\u001b[39m  \u001b[90m┊\u001b[39m GC \u001b[90m(\u001b[39mmean ± σ\u001b[90m):  \u001b[39m3.53% ±  8.05%\n",
       "\n",
       "  \u001b[39m█\u001b[34m▅\u001b[39m\u001b[32m▂\u001b[39m\u001b[39m▂\u001b[39m▁\u001b[39m \u001b[39m \u001b[39m \u001b[39m \u001b[39m \u001b[39m \u001b[39m \u001b[39m \u001b[39m \u001b[39m \u001b[39m \u001b[39m \u001b[39m \u001b[39m \u001b[39m \u001b[39m \u001b[39m \u001b[39m \u001b[39m \u001b[39m \u001b[39m \u001b[39m \u001b[39m \u001b[39m \u001b[39m \u001b[39m \u001b[39m \u001b[39m \u001b[39m \u001b[39m \u001b[39m \u001b[39m \u001b[39m \u001b[39m \u001b[39m \u001b[39m \u001b[39m \u001b[39m \u001b[39m \u001b[39m \u001b[39m \u001b[39m \u001b[39m \u001b[39m \u001b[39m \u001b[39m \u001b[39m \u001b[39m \u001b[39m \u001b[39m \u001b[39m \u001b[39m \u001b[39m \u001b[39m \u001b[39m \u001b[39m \u001b[39m \u001b[39m▁\n",
       "  \u001b[39m█\u001b[34m█\u001b[39m\u001b[32m█\u001b[39m\u001b[39m█\u001b[39m█\u001b[39m█\u001b[39m▇\u001b[39m▇\u001b[39m▆\u001b[39m▇\u001b[39m█\u001b[39m▆\u001b[39m▆\u001b[39m▆\u001b[39m▆\u001b[39m▆\u001b[39m▆\u001b[39m▆\u001b[39m▆\u001b[39m▅\u001b[39m▄\u001b[39m▄\u001b[39m▅\u001b[39m▃\u001b[39m▁\u001b[39m▁\u001b[39m▃\u001b[39m▁\u001b[39m▃\u001b[39m▃\u001b[39m▃\u001b[39m▁\u001b[39m▁\u001b[39m▃\u001b[39m▄\u001b[39m▁\u001b[39m▁\u001b[39m▁\u001b[39m▁\u001b[39m▁\u001b[39m▁\u001b[39m▁\u001b[39m▁\u001b[39m▁\u001b[39m▁\u001b[39m▁\u001b[39m▁\u001b[39m▁\u001b[39m▁\u001b[39m▁\u001b[39m▁\u001b[39m▁\u001b[39m▁\u001b[39m▁\u001b[39m▁\u001b[39m▁\u001b[39m▁\u001b[39m▁\u001b[39m▁\u001b[39m▄\u001b[39m▆\u001b[39m \u001b[39m█\n",
       "  306 μs\u001b[90m        \u001b[39m\u001b[90mHistogram: \u001b[39m\u001b[90m\u001b[1mlog(\u001b[22m\u001b[39m\u001b[90mfrequency\u001b[39m\u001b[90m\u001b[1m)\u001b[22m\u001b[39m\u001b[90m by time\u001b[39m       1.28 ms \u001b[0m\u001b[1m<\u001b[22m\n",
       "\n",
       " Memory estimate\u001b[90m: \u001b[39m\u001b[33m544.08 KiB\u001b[39m, allocs estimate\u001b[90m: \u001b[39m\u001b[33m4149\u001b[39m."
      ]
     },
     "execution_count": 46,
     "metadata": {},
     "output_type": "execute_result"
    }
   ],
   "source": [
    "@benchmark Conv_backward_v3(input, weights, bias, gradient)"
   ]
  },
  {
   "cell_type": "code",
   "execution_count": 47,
   "id": "cdb067e2-2701-476e-b629-f194cd2f4dc3",
   "metadata": {},
   "outputs": [
    {
     "data": {
      "text/plain": [
       "BenchmarkTools.Trial: 10000 samples with 1 evaluation.\n",
       " Range \u001b[90m(\u001b[39m\u001b[36m\u001b[1mmin\u001b[22m\u001b[39m … \u001b[35mmax\u001b[39m\u001b[90m):  \u001b[39m\u001b[36m\u001b[1m307.700 μs\u001b[22m\u001b[39m … \u001b[35m 1.611 ms\u001b[39m  \u001b[90m┊\u001b[39m GC \u001b[90m(\u001b[39mmin … max\u001b[90m): \u001b[39m0.00% … 50.33%\n",
       " Time  \u001b[90m(\u001b[39m\u001b[34m\u001b[1mmedian\u001b[22m\u001b[39m\u001b[90m):     \u001b[39m\u001b[34m\u001b[1m313.800 μs              \u001b[22m\u001b[39m\u001b[90m┊\u001b[39m GC \u001b[90m(\u001b[39mmedian\u001b[90m):    \u001b[39m0.00%\n",
       " Time  \u001b[90m(\u001b[39m\u001b[32m\u001b[1mmean\u001b[22m\u001b[39m ± \u001b[32mσ\u001b[39m\u001b[90m):   \u001b[39m\u001b[32m\u001b[1m328.996 μs\u001b[22m\u001b[39m ± \u001b[32m77.544 μs\u001b[39m  \u001b[90m┊\u001b[39m GC \u001b[90m(\u001b[39mmean ± σ\u001b[90m):  \u001b[39m1.80% ±  6.17%\n",
       "\n",
       "  \u001b[39m█\u001b[34m▆\u001b[39m\u001b[39m▄\u001b[32m▂\u001b[39m\u001b[39m▁\u001b[39m \u001b[39m \u001b[39m \u001b[39m \u001b[39m \u001b[39m \u001b[39m \u001b[39m \u001b[39m \u001b[39m \u001b[39m \u001b[39m \u001b[39m \u001b[39m \u001b[39m \u001b[39m \u001b[39m \u001b[39m \u001b[39m \u001b[39m \u001b[39m \u001b[39m \u001b[39m \u001b[39m \u001b[39m \u001b[39m \u001b[39m \u001b[39m \u001b[39m \u001b[39m \u001b[39m \u001b[39m \u001b[39m \u001b[39m \u001b[39m \u001b[39m \u001b[39m \u001b[39m \u001b[39m \u001b[39m \u001b[39m \u001b[39m \u001b[39m \u001b[39m \u001b[39m \u001b[39m \u001b[39m \u001b[39m \u001b[39m \u001b[39m \u001b[39m \u001b[39m \u001b[39m \u001b[39m \u001b[39m \u001b[39m \u001b[39m▁\n",
       "  \u001b[39m█\u001b[34m█\u001b[39m\u001b[39m█\u001b[32m█\u001b[39m\u001b[39m█\u001b[39m█\u001b[39m█\u001b[39m█\u001b[39m▇\u001b[39m▆\u001b[39m▇\u001b[39m▆\u001b[39m▆\u001b[39m▆\u001b[39m▅\u001b[39m▄\u001b[39m▄\u001b[39m▅\u001b[39m▅\u001b[39m▆\u001b[39m▇\u001b[39m▅\u001b[39m▅\u001b[39m▆\u001b[39m▆\u001b[39m▆\u001b[39m▇\u001b[39m▆\u001b[39m▆\u001b[39m▅\u001b[39m▆\u001b[39m▇\u001b[39m▆\u001b[39m▃\u001b[39m▄\u001b[39m▄\u001b[39m▃\u001b[39m▄\u001b[39m▅\u001b[39m▅\u001b[39m▄\u001b[39m▅\u001b[39m▃\u001b[39m▄\u001b[39m▄\u001b[39m▁\u001b[39m▁\u001b[39m▁\u001b[39m▁\u001b[39m▁\u001b[39m▁\u001b[39m▁\u001b[39m▁\u001b[39m▁\u001b[39m▃\u001b[39m▁\u001b[39m▁\u001b[39m▃\u001b[39m▆\u001b[39m▇\u001b[39m \u001b[39m█\n",
       "  308 μs\u001b[90m        \u001b[39m\u001b[90mHistogram: \u001b[39m\u001b[90m\u001b[1mlog(\u001b[22m\u001b[39m\u001b[90mfrequency\u001b[39m\u001b[90m\u001b[1m)\u001b[22m\u001b[39m\u001b[90m by time\u001b[39m       772 μs \u001b[0m\u001b[1m<\u001b[22m\n",
       "\n",
       " Memory estimate\u001b[90m: \u001b[39m\u001b[33m423.42 KiB\u001b[39m, allocs estimate\u001b[90m: \u001b[39m\u001b[33m4083\u001b[39m."
      ]
     },
     "execution_count": 47,
     "metadata": {},
     "output_type": "execute_result"
    }
   ],
   "source": [
    "@benchmark Conv_backward_v4(input, weights, bias, gradient)"
   ]
  },
  {
   "cell_type": "code",
   "execution_count": 48,
   "id": "8ddc272c-9ddd-46f3-a879-e3aa8cdce315",
   "metadata": {},
   "outputs": [
    {
     "data": {
      "text/plain": [
       "BenchmarkTools.Trial: 10000 samples with 1 evaluation.\n",
       " Range \u001b[90m(\u001b[39m\u001b[36m\u001b[1mmin\u001b[22m\u001b[39m … \u001b[35mmax\u001b[39m\u001b[90m):  \u001b[39m\u001b[36m\u001b[1m126.900 μs\u001b[22m\u001b[39m … \u001b[35m 1.879 ms\u001b[39m  \u001b[90m┊\u001b[39m GC \u001b[90m(\u001b[39mmin … max\u001b[90m): \u001b[39m0.00% … 91.05%\n",
       " Time  \u001b[90m(\u001b[39m\u001b[34m\u001b[1mmedian\u001b[22m\u001b[39m\u001b[90m):     \u001b[39m\u001b[34m\u001b[1m130.000 μs              \u001b[22m\u001b[39m\u001b[90m┊\u001b[39m GC \u001b[90m(\u001b[39mmedian\u001b[90m):    \u001b[39m0.00%\n",
       " Time  \u001b[90m(\u001b[39m\u001b[32m\u001b[1mmean\u001b[22m\u001b[39m ± \u001b[32mσ\u001b[39m\u001b[90m):   \u001b[39m\u001b[32m\u001b[1m133.977 μs\u001b[22m\u001b[39m ± \u001b[32m49.088 μs\u001b[39m  \u001b[90m┊\u001b[39m GC \u001b[90m(\u001b[39mmean ± σ\u001b[90m):  \u001b[39m1.05% ±  2.72%\n",
       "\n",
       "  \u001b[39m█\u001b[39m▆\u001b[39m▇\u001b[34m▇\u001b[39m\u001b[39m▅\u001b[39m▅\u001b[32m▅\u001b[39m\u001b[39m▄\u001b[39m▄\u001b[39m▃\u001b[39m▂\u001b[39m▂\u001b[39m▂\u001b[39m▁\u001b[39m▂\u001b[39m▁\u001b[39m▁\u001b[39m▁\u001b[39m \u001b[39m \u001b[39m \u001b[39m \u001b[39m \u001b[39m \u001b[39m \u001b[39m \u001b[39m \u001b[39m \u001b[39m \u001b[39m \u001b[39m \u001b[39m \u001b[39m \u001b[39m \u001b[39m \u001b[39m \u001b[39m \u001b[39m \u001b[39m \u001b[39m \u001b[39m \u001b[39m \u001b[39m \u001b[39m \u001b[39m \u001b[39m \u001b[39m \u001b[39m \u001b[39m \u001b[39m \u001b[39m \u001b[39m \u001b[39m \u001b[39m \u001b[39m \u001b[39m \u001b[39m \u001b[39m \u001b[39m \u001b[39m \u001b[39m \u001b[39m▂\n",
       "  \u001b[39m█\u001b[39m█\u001b[39m█\u001b[34m█\u001b[39m\u001b[39m█\u001b[39m█\u001b[32m█\u001b[39m\u001b[39m█\u001b[39m█\u001b[39m█\u001b[39m█\u001b[39m█\u001b[39m█\u001b[39m█\u001b[39m█\u001b[39m█\u001b[39m█\u001b[39m█\u001b[39m█\u001b[39m▇\u001b[39m█\u001b[39m▇\u001b[39m▇\u001b[39m▇\u001b[39m▇\u001b[39m▆\u001b[39m▆\u001b[39m▇\u001b[39m▆\u001b[39m▆\u001b[39m▆\u001b[39m▅\u001b[39m▅\u001b[39m▄\u001b[39m▅\u001b[39m▆\u001b[39m▆\u001b[39m▅\u001b[39m▄\u001b[39m▃\u001b[39m▃\u001b[39m▆\u001b[39m▄\u001b[39m▅\u001b[39m▄\u001b[39m▄\u001b[39m▅\u001b[39m▅\u001b[39m▃\u001b[39m▃\u001b[39m▃\u001b[39m▁\u001b[39m▄\u001b[39m▄\u001b[39m▁\u001b[39m▄\u001b[39m▁\u001b[39m▁\u001b[39m▄\u001b[39m▃\u001b[39m \u001b[39m█\n",
       "  127 μs\u001b[90m        \u001b[39m\u001b[90mHistogram: \u001b[39m\u001b[90m\u001b[1mlog(\u001b[22m\u001b[39m\u001b[90mfrequency\u001b[39m\u001b[90m\u001b[1m)\u001b[22m\u001b[39m\u001b[90m by time\u001b[39m       193 μs \u001b[0m\u001b[1m<\u001b[22m\n",
       "\n",
       " Memory estimate\u001b[90m: \u001b[39m\u001b[33m43.27 KiB\u001b[39m, allocs estimate\u001b[90m: \u001b[39m\u001b[33m28\u001b[39m."
      ]
     },
     "execution_count": 48,
     "metadata": {},
     "output_type": "execute_result"
    }
   ],
   "source": [
    "@benchmark Conv_backward_v5(input, weights, bias, gradient)"
   ]
  },
  {
   "cell_type": "code",
   "execution_count": 49,
   "id": "a32b4ad5",
   "metadata": {},
   "outputs": [
    {
     "data": {
      "text/plain": [
       "BenchmarkTools.Trial: 10000 samples with 1 evaluation.\n",
       " Range \u001b[90m(\u001b[39m\u001b[36m\u001b[1mmin\u001b[22m\u001b[39m … \u001b[35mmax\u001b[39m\u001b[90m):  \u001b[39m\u001b[36m\u001b[1m128.000 μs\u001b[22m\u001b[39m … \u001b[35m 1.807 ms\u001b[39m  \u001b[90m┊\u001b[39m GC \u001b[90m(\u001b[39mmin … max\u001b[90m): \u001b[39m0.00% … 90.71%\n",
       " Time  \u001b[90m(\u001b[39m\u001b[34m\u001b[1mmedian\u001b[22m\u001b[39m\u001b[90m):     \u001b[39m\u001b[34m\u001b[1m131.200 μs              \u001b[22m\u001b[39m\u001b[90m┊\u001b[39m GC \u001b[90m(\u001b[39mmedian\u001b[90m):    \u001b[39m0.00%\n",
       " Time  \u001b[90m(\u001b[39m\u001b[32m\u001b[1mmean\u001b[22m\u001b[39m ± \u001b[32mσ\u001b[39m\u001b[90m):   \u001b[39m\u001b[32m\u001b[1m135.974 μs\u001b[22m\u001b[39m ± \u001b[32m48.436 μs\u001b[39m  \u001b[90m┊\u001b[39m GC \u001b[90m(\u001b[39mmean ± σ\u001b[90m):  \u001b[39m1.00% ±  2.71%\n",
       "\n",
       "  \u001b[39m█\u001b[39m▆\u001b[34m█\u001b[39m\u001b[39m▅\u001b[39m▅\u001b[39m▅\u001b[32m▄\u001b[39m\u001b[39m▃\u001b[39m▂\u001b[39m▂\u001b[39m▁\u001b[39m▁\u001b[39m▁\u001b[39m▁\u001b[39m \u001b[39m \u001b[39m \u001b[39m \u001b[39m \u001b[39m \u001b[39m \u001b[39m \u001b[39m \u001b[39m \u001b[39m \u001b[39m \u001b[39m \u001b[39m \u001b[39m \u001b[39m \u001b[39m \u001b[39m \u001b[39m \u001b[39m \u001b[39m \u001b[39m \u001b[39m \u001b[39m \u001b[39m \u001b[39m \u001b[39m \u001b[39m \u001b[39m \u001b[39m \u001b[39m \u001b[39m \u001b[39m \u001b[39m \u001b[39m \u001b[39m \u001b[39m \u001b[39m \u001b[39m \u001b[39m \u001b[39m \u001b[39m \u001b[39m \u001b[39m \u001b[39m \u001b[39m \u001b[39m \u001b[39m▂\n",
       "  \u001b[39m█\u001b[39m█\u001b[34m█\u001b[39m\u001b[39m█\u001b[39m█\u001b[39m█\u001b[32m█\u001b[39m\u001b[39m█\u001b[39m█\u001b[39m█\u001b[39m█\u001b[39m█\u001b[39m█\u001b[39m█\u001b[39m█\u001b[39m█\u001b[39m█\u001b[39m█\u001b[39m█\u001b[39m▇\u001b[39m▆\u001b[39m▇\u001b[39m▆\u001b[39m▇\u001b[39m▇\u001b[39m▆\u001b[39m▅\u001b[39m▅\u001b[39m▆\u001b[39m▄\u001b[39m▅\u001b[39m▅\u001b[39m▅\u001b[39m▅\u001b[39m▄\u001b[39m▄\u001b[39m▅\u001b[39m▃\u001b[39m▅\u001b[39m▅\u001b[39m▅\u001b[39m▄\u001b[39m▄\u001b[39m▄\u001b[39m▂\u001b[39m▃\u001b[39m▂\u001b[39m▄\u001b[39m▅\u001b[39m▂\u001b[39m▃\u001b[39m▄\u001b[39m▄\u001b[39m▄\u001b[39m▄\u001b[39m▄\u001b[39m▃\u001b[39m▄\u001b[39m▃\u001b[39m▄\u001b[39m \u001b[39m█\n",
       "  128 μs\u001b[90m        \u001b[39m\u001b[90mHistogram: \u001b[39m\u001b[90m\u001b[1mlog(\u001b[22m\u001b[39m\u001b[90mfrequency\u001b[39m\u001b[90m\u001b[1m)\u001b[22m\u001b[39m\u001b[90m by time\u001b[39m       212 μs \u001b[0m\u001b[1m<\u001b[22m\n",
       "\n",
       " Memory estimate\u001b[90m: \u001b[39m\u001b[33m42.70 KiB\u001b[39m, allocs estimate\u001b[90m: \u001b[39m\u001b[33m22\u001b[39m."
      ]
     },
     "execution_count": 49,
     "metadata": {},
     "output_type": "execute_result"
    }
   ],
   "source": [
    "@benchmark Conv_backward_v6(input, weights, bias, gradient)"
   ]
  },
  {
   "cell_type": "code",
   "execution_count": 50,
   "id": "bd63cbd8",
   "metadata": {},
   "outputs": [
    {
     "data": {
      "text/plain": [
       "BenchmarkTools.Trial: 10000 samples with 1 evaluation.\n",
       " Range \u001b[90m(\u001b[39m\u001b[36m\u001b[1mmin\u001b[22m\u001b[39m … \u001b[35mmax\u001b[39m\u001b[90m):  \u001b[39m\u001b[36m\u001b[1m133.900 μs\u001b[22m\u001b[39m … \u001b[35m 2.233 ms\u001b[39m  \u001b[90m┊\u001b[39m GC \u001b[90m(\u001b[39mmin … max\u001b[90m): \u001b[39m0.00% … 92.61%\n",
       " Time  \u001b[90m(\u001b[39m\u001b[34m\u001b[1mmedian\u001b[22m\u001b[39m\u001b[90m):     \u001b[39m\u001b[34m\u001b[1m136.700 μs              \u001b[22m\u001b[39m\u001b[90m┊\u001b[39m GC \u001b[90m(\u001b[39mmedian\u001b[90m):    \u001b[39m0.00%\n",
       " Time  \u001b[90m(\u001b[39m\u001b[32m\u001b[1mmean\u001b[22m\u001b[39m ± \u001b[32mσ\u001b[39m\u001b[90m):   \u001b[39m\u001b[32m\u001b[1m138.903 μs\u001b[22m\u001b[39m ± \u001b[32m30.510 μs\u001b[39m  \u001b[90m┊\u001b[39m GC \u001b[90m(\u001b[39mmean ± σ\u001b[90m):  \u001b[39m0.29% ±  1.31%\n",
       "\n",
       "  \u001b[39m█\u001b[39m▇\u001b[39m▅\u001b[39m▇\u001b[34m█\u001b[39m\u001b[39m▇\u001b[39m▅\u001b[32m▄\u001b[39m\u001b[39m▄\u001b[39m▅\u001b[39m▄\u001b[39m▃\u001b[39m▂\u001b[39m▂\u001b[39m▂\u001b[39m▁\u001b[39m▁\u001b[39m▁\u001b[39m▁\u001b[39m▁\u001b[39m \u001b[39m▁\u001b[39m \u001b[39m \u001b[39m \u001b[39m \u001b[39m \u001b[39m \u001b[39m \u001b[39m \u001b[39m \u001b[39m \u001b[39m \u001b[39m \u001b[39m \u001b[39m \u001b[39m \u001b[39m \u001b[39m \u001b[39m \u001b[39m \u001b[39m \u001b[39m \u001b[39m \u001b[39m \u001b[39m \u001b[39m \u001b[39m \u001b[39m \u001b[39m \u001b[39m \u001b[39m \u001b[39m \u001b[39m \u001b[39m \u001b[39m \u001b[39m \u001b[39m \u001b[39m \u001b[39m \u001b[39m \u001b[39m▂\n",
       "  \u001b[39m█\u001b[39m█\u001b[39m█\u001b[39m█\u001b[34m█\u001b[39m\u001b[39m█\u001b[39m█\u001b[32m█\u001b[39m\u001b[39m█\u001b[39m█\u001b[39m█\u001b[39m█\u001b[39m█\u001b[39m█\u001b[39m█\u001b[39m█\u001b[39m█\u001b[39m█\u001b[39m█\u001b[39m█\u001b[39m█\u001b[39m█\u001b[39m█\u001b[39m█\u001b[39m█\u001b[39m▇\u001b[39m█\u001b[39m█\u001b[39m▇\u001b[39m▇\u001b[39m▇\u001b[39m▆\u001b[39m▆\u001b[39m▆\u001b[39m▅\u001b[39m▆\u001b[39m▆\u001b[39m▆\u001b[39m▅\u001b[39m▆\u001b[39m▅\u001b[39m▆\u001b[39m▅\u001b[39m▃\u001b[39m▄\u001b[39m▄\u001b[39m▅\u001b[39m▅\u001b[39m▅\u001b[39m▅\u001b[39m▄\u001b[39m▃\u001b[39m▄\u001b[39m▄\u001b[39m▃\u001b[39m▅\u001b[39m▄\u001b[39m▅\u001b[39m▄\u001b[39m▄\u001b[39m \u001b[39m█\n",
       "  134 μs\u001b[90m        \u001b[39m\u001b[90mHistogram: \u001b[39m\u001b[90m\u001b[1mlog(\u001b[22m\u001b[39m\u001b[90mfrequency\u001b[39m\u001b[90m\u001b[1m)\u001b[22m\u001b[39m\u001b[90m by time\u001b[39m       175 μs \u001b[0m\u001b[1m<\u001b[22m\n",
       "\n",
       " Memory estimate\u001b[90m: \u001b[39m\u001b[33m12.80 KiB\u001b[39m, allocs estimate\u001b[90m: \u001b[39m\u001b[33m16\u001b[39m."
      ]
     },
     "execution_count": 50,
     "metadata": {},
     "output_type": "execute_result"
    }
   ],
   "source": [
    "@benchmark Conv_backward_v7(input, weights, bias, gradient)"
   ]
  },
  {
   "cell_type": "code",
   "execution_count": 51,
   "id": "29061a4f",
   "metadata": {},
   "outputs": [
    {
     "data": {
      "text/plain": [
       "(Float32[0.8128891 2.9091341 … 3.4959154 1.6244532; 1.7896742 5.67576 … 5.367323 2.2714581; … ; 2.5396886 3.932515 … 3.4926639 0.986063; 1.2906618 1.6006047 … 2.1973867 0.78863555;;;], Float32[170.1107 170.64433 174.66379; 172.65263 174.50587 172.66826; 175.52145 175.46959 176.91377;;;; 171.09254 176.68437 169.5569; 177.13745 171.16148 175.49277; 172.89124 173.16795 174.92757;;;; 172.16434 169.14175 167.6081; 173.81488 169.10178 172.93605; 168.32927 168.30878 168.49715;;;; 170.10854 167.15915 166.1391; 170.58748 173.52782 173.94142; 173.79782 171.90703 170.21892;;;; 161.61462 163.38979 166.72002; 170.20479 166.30374 166.9147; 163.77975 168.74579 163.94263;;;; 166.20746 164.30222 159.97626; 167.78616 165.36838 166.24463; 168.38484 170.07202 167.06648], [342.34181983324476, 342.3148264043288, 336.72381260122995, 337.30530966477767, 325.6651151038503, 328.1599197854253])"
      ]
     },
     "execution_count": 51,
     "metadata": {},
     "output_type": "execute_result"
    }
   ],
   "source": [
    "Conv_backward_v4(input, weights, bias, gradient)"
   ]
  },
  {
   "cell_type": "code",
   "execution_count": 52,
   "id": "37a4d68d-9936-402a-8c47-166e1bce721d",
   "metadata": {},
   "outputs": [
    {
     "data": {
      "text/plain": [
       "(Float32[0.81288904 2.9091341 … 3.4959154 1.6244532; 1.7896742 5.67576 … 5.3673234 2.2714584; … ; 2.5396883 3.932515 … 3.492664 0.98606294; 1.2906618 1.6006047 … 2.1973867 0.7886355;;;], Float32[170.1107 170.64433 174.66379; 172.65263 174.50587 172.66826; 175.52145 175.46959 176.91377;;;; 171.09254 176.68437 169.5569; 177.13745 171.16148 175.49277; 172.89124 173.16795 174.92757;;;; 172.16434 169.14175 167.6081; 173.81488 169.10178 172.93605; 168.32927 168.30878 168.49715;;;; 170.10854 167.15915 166.1391; 170.58748 173.52782 173.94142; 173.79782 171.90703 170.21892;;;; 161.61462 163.38979 166.72002; 170.20479 166.30374 166.9147; 163.77975 168.74579 163.94263;;;; 166.20746 164.30222 159.97626; 167.78616 165.36838 166.24463; 168.38484 170.07202 167.06648], [342.34181983324476, 342.3148264043288, 336.72381260122995, 337.30530966477767, 325.6651151038503, 328.1599197854253])"
      ]
     },
     "execution_count": 52,
     "metadata": {},
     "output_type": "execute_result"
    }
   ],
   "source": [
    "Conv_backward_v6(input, weights, bias, gradient)"
   ]
  },
  {
   "cell_type": "code",
   "execution_count": 53,
   "id": "2d00d5a3",
   "metadata": {},
   "outputs": [
    {
     "data": {
      "text/plain": [
       "(Float32[0.81288904 2.9091341 … 3.4959154 1.6244532; 1.7896742 5.67576 … 5.3673234 2.2714584; … ; 2.5396883 3.932515 … 3.492664 0.98606294; 1.2906618 1.6006047 … 2.1973867 0.7886355;;;], Float32[170.1107 170.64433 174.66379; 172.65263 174.50586 172.66827; 175.52144 175.4696 176.91376;;;; 171.09254 176.68437 169.55692; 177.13745 171.16148 175.49277; 172.89124 173.16797 174.92757;;;; 172.16434 169.14175 167.6081; 173.81487 169.10179 172.93605; 168.32927 168.30878 168.49712;;;; 170.10854 167.15912 166.13911; 170.58748 173.52782 173.94142; 173.79782 171.90703 170.21892;;;; 161.61462 163.38979 166.72002; 170.20479 166.30374 166.9147; 163.77975 168.74579 163.94261;;;; 166.20744 164.30222 159.97624; 167.78618 165.36838 166.24461; 168.38486 170.07202 167.06647], [342.34181983324476, 342.3148264043288, 336.72381260122995, 337.30530966477767, 325.6651151038503, 328.1599197854253])"
      ]
     },
     "execution_count": 53,
     "metadata": {},
     "output_type": "execute_result"
    }
   ],
   "source": [
    "Conv_backward_v7(input, weights, bias, gradient)"
   ]
  }
 ],
 "metadata": {
  "kernelspec": {
   "display_name": "Julia 1.10.2",
   "language": "julia",
   "name": "julia-1.10"
  },
  "language_info": {
   "file_extension": ".jl",
   "mimetype": "application/julia",
   "name": "julia",
   "version": "1.10.2"
  }
 },
 "nbformat": 4,
 "nbformat_minor": 5
}
