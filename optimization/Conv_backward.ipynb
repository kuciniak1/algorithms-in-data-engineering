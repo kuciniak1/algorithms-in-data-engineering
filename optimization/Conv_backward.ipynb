{
 "cells": [
  {
   "cell_type": "code",
   "execution_count": 1,
   "id": "936e3b17-6e67-4337-b2fd-c439868d402c",
   "metadata": {},
   "outputs": [],
   "source": [
    "using BenchmarkTools"
   ]
  },
  {
   "cell_type": "code",
   "execution_count": 2,
   "id": "0aab672b-d403-4b54-a3e4-82c7f53a110c",
   "metadata": {},
   "outputs": [
    {
     "data": {
      "text/plain": [
       "rotate (generic function with 1 method)"
      ]
     },
     "execution_count": 2,
     "metadata": {},
     "output_type": "execute_result"
    }
   ],
   "source": [
    "function rotate(matrix)\n",
    "    return reverse(reverse(matrix, dims=1), dims=2)\n",
    "end"
   ]
  },
  {
   "cell_type": "code",
   "execution_count": 3,
   "id": "045ac6c2-28fb-442f-935a-afe2124be2f0",
   "metadata": {},
   "outputs": [
    {
     "data": {
      "text/plain": [
       "Convolution_2d_pad (generic function with 1 method)"
      ]
     },
     "execution_count": 3,
     "metadata": {},
     "output_type": "execute_result"
    }
   ],
   "source": [
    "function Convolution_2d_pad(input, kernel; bias=0., padding=false)\n",
    "    input_rows, input_columns = size(input)\n",
    "    kernel_height, kernel_width = size(kernel)\n",
    "\n",
    "    if padding\n",
    "        padded_input = zeros(Float32, input_rows + 2*kernel_height - 2, input_columns + 2*kernel_width - 2)\n",
    "        padded_input[kernel_height:end-kernel_height+1, kernel_width:end-kernel_width+1] .= input\n",
    "        input_rows, input_columns = size(padded_input)\n",
    "        input = padded_input\n",
    "    end\n",
    "\n",
    "    output_rows = input_rows - kernel_height + 1\n",
    "    output_columns = input_columns - kernel_width + 1\n",
    "    output = zeros(Float32, output_rows, output_columns)\n",
    "\n",
    "\n",
    "    for c in 1:output_columns\n",
    "        for r in 1:output_rows\n",
    "            patch = @view input[r:r+kernel_height-1, c:c+kernel_width-1]\n",
    "            output[r, c] = sum(patch .* kernel) + bias\n",
    "        end\n",
    "    end\n",
    "    return output\n",
    "end"
   ]
  },
  {
   "cell_type": "code",
   "execution_count": 4,
   "id": "b4173fe6-711d-4a85-8249-fea33f3b757f",
   "metadata": {},
   "outputs": [
    {
     "data": {
      "text/plain": [
       "Convolution_2d (generic function with 1 method)"
      ]
     },
     "execution_count": 4,
     "metadata": {},
     "output_type": "execute_result"
    }
   ],
   "source": [
    "function Convolution_2d(input, kernel; bias=0.)\n",
    "    input_rows, input_columns = size(input)\n",
    "    kernel_height, kernel_width = size(kernel)\n",
    "\n",
    "    output_rows = input_rows - kernel_height + 1\n",
    "    output_columns = input_columns - kernel_width + 1\n",
    "    output = zeros(Float32, output_rows, output_columns)\n",
    "\n",
    "\n",
    "    for c in 1:output_columns\n",
    "        for r in 1:output_rows\n",
    "            patch = @view input[r:r+kernel_height-1, c:c+kernel_width-1]\n",
    "            output[r, c] = sum(patch .* kernel) + bias\n",
    "        end\n",
    "    end\n",
    "    return output\n",
    "end"
   ]
  },
  {
   "cell_type": "code",
   "execution_count": 5,
   "id": "4809b981-d7a7-4997-a506-5b2c1d3cb704",
   "metadata": {},
   "outputs": [
    {
     "data": {
      "text/plain": [
       "Convolution_2d! (generic function with 1 method)"
      ]
     },
     "execution_count": 5,
     "metadata": {},
     "output_type": "execute_result"
    }
   ],
   "source": [
    "function Convolution_2d!(ret, input, kernel; bias=0., padding=false)\n",
    "    input_rows, input_columns = size(input)\n",
    "    kernel_height, kernel_width = size(kernel)\n",
    "\n",
    "    if padding\n",
    "        padded_input = zeros(Float32, input_rows + 2*kernel_height - 2, input_columns + 2*kernel_width - 2)\n",
    "        padded_input[kernel_height:end-kernel_height+1, kernel_width:end-kernel_width+1] .= input\n",
    "        input_rows, input_columns = size(padded_input)\n",
    "        input = padded_input\n",
    "    end\n",
    "\n",
    "    output_rows = input_rows - kernel_height + 1\n",
    "    output_columns = input_columns - kernel_width + 1\n",
    "    sumret = zeros(size(kernel))\n",
    "    for c in 1:output_columns\n",
    "        for r in 1:output_rows\n",
    "            patch = @view input[r:r+kernel_height-1, c:c+kernel_width-1]\n",
    "            sumret .= patch .* kernel\n",
    "            ret[r, c] = sum(sumret) + bias\n",
    "            sumret .= 0.0\n",
    "        end\n",
    "    end\n",
    "end"
   ]
  },
  {
   "cell_type": "code",
   "execution_count": 6,
   "id": "787b5c25-4636-4b63-9fa6-7f43de0b33d1",
   "metadata": {},
   "outputs": [
    {
     "data": {
      "text/plain": [
       "Conv_backward_v1 (generic function with 1 method)"
      ]
     },
     "execution_count": 6,
     "metadata": {},
     "output_type": "execute_result"
    }
   ],
   "source": [
    "function Conv_backward_v1( input, weights, bias, gradient)\n",
    "    input_height, input_width, input_channels = size(input)\n",
    "    output_height, output_width, output_channels = size(gradient)\n",
    "    kernel_height, kernel_width, _, _ = size(weights)\n",
    "    \n",
    "    \n",
    "    grad_input = zeros(Float32, size(input))\n",
    "    for k in 1:input_channels\n",
    "        for c in 1:output_channels\n",
    "            grad_input[:, :, k] += Convolution_2d_pad(weights[:, :, k, c], gradient[:, :, c]; padding=true)\n",
    "        end\n",
    "    end\n",
    "\n",
    "    grad_weights = zeros(Float32, size(weights))\n",
    "    for k in 1:input_channels\n",
    "        for c in 1:output_channels\n",
    "            grad_weights[:, :, k, c] += Convolution_2d(input[:, :, k], gradient[:, :, c])\n",
    "        end\n",
    "    end\n",
    "\n",
    "    grad_bias = reshape(sum(gradient, dims=(1,2,4)), :)\n",
    "    \n",
    "    return grad_input, grad_weights, grad_bias\n",
    "end"
   ]
  },
  {
   "cell_type": "code",
   "execution_count": 7,
   "id": "70169f26-159a-4bcd-906b-e57371b9d210",
   "metadata": {},
   "outputs": [
    {
     "data": {
      "text/plain": [
       "Conv_backward_v2 (generic function with 1 method)"
      ]
     },
     "execution_count": 7,
     "metadata": {},
     "output_type": "execute_result"
    }
   ],
   "source": [
    "function Conv_backward_v2(input, weights, bias, gradient)\n",
    "    input_height, input_width, input_channels = size(input)\n",
    "    output_height, output_width, output_channels = size(gradient)\n",
    "    kernel_height, kernel_width, _, _ = size(weights)\n",
    "    \n",
    "    \n",
    "    grad_input = zeros(Float32, size(input))\n",
    "    grad_weights = zeros(Float32, size(weights))\n",
    "    \n",
    "    tmp_weights = zeros(Float32, kernel_height, kernel_width)\n",
    "    tmp_input = zeros(Float32, input_height, input_width)\n",
    "    tmp_gradient = zeros(Float32, output_height, output_width)\n",
    "    \n",
    "    for k in 1:input_channels\n",
    "        for c in 1:output_channels\n",
    "            tmp_weights .= @views weights[:, :, k, c]\n",
    "            tmp_gradient .= @views gradient[:, :, c]\n",
    "            grad_input[:, :, k] .+= Convolution_2d_pad(tmp_weights, rotate(tmp_gradient); padding=true)\n",
    "        end\n",
    "    end\n",
    "\n",
    "    \n",
    "    for k in 1:input_channels\n",
    "        for c in 1:output_channels\n",
    "            tmp_input .= @views input[:, :, k]\n",
    "            tmp_gradient .= @views gradient[:, :, c]\n",
    "            grad_weights[:, :, k, c] += Convolution_2d(tmp_input, tmp_gradient)\n",
    "        end\n",
    "    end\n",
    "\n",
    "    grad_bias = reshape(sum(gradient, dims=(1,2,4)), :)\n",
    "    \n",
    "    return grad_input, grad_weights, grad_bias\n",
    "end"
   ]
  },
  {
   "cell_type": "code",
   "execution_count": 8,
   "id": "8e572997",
   "metadata": {},
   "outputs": [
    {
     "data": {
      "text/plain": [
       "Conv_backward_v3 (generic function with 1 method)"
      ]
     },
     "execution_count": 8,
     "metadata": {},
     "output_type": "execute_result"
    }
   ],
   "source": [
    "function Conv_backward_v3( input, weights, bias, gradient)\n",
    "    input_height, input_width, input_channels = size(input)\n",
    "    output_height, output_width, output_channels = size(gradient)\n",
    "    kernel_height, kernel_width, _, _ = size(weights)\n",
    "    \n",
    "    grad_input = zeros(Float32, size(input))\n",
    "    grad_weights = zeros(Float32, size(weights))\n",
    "    \n",
    "    tmp_weights = zeros(Float32, kernel_height, kernel_width)\n",
    "    tmp_input = zeros(Float32, input_height, input_width)\n",
    "    tmp_gradient = zeros(Float32, output_height, output_width)\n",
    "    \n",
    "    for k in 1:input_channels\n",
    "        for c in 1:output_channels\n",
    "            tmp_weights .= @views weights[:, :, k, c]\n",
    "            tmp_gradient .= @views gradient[:, :, c]\n",
    "            for i = 1:output_height\n",
    "                for j = 1:output_width\n",
    "                    grad_input[i:i+kernel_height-1, j:j+kernel_width-1, k] .+= (tmp_weights .* tmp_gradient[i,j]);\n",
    "                end\n",
    "            end\n",
    "        end\n",
    "    end\n",
    "    \n",
    "    for k in 1:input_channels\n",
    "        for c in 1:output_channels\n",
    "            tmp_input .= @views input[:, :, k]\n",
    "            tmp_gradient .= @views gradient[:, :, c]\n",
    "            grad_weights[:, :, k, c] += Convolution_2d(tmp_input, tmp_gradient)\n",
    "        end\n",
    "    end\n",
    "\n",
    "    grad_bias = reshape(sum(gradient, dims=(1,2,4)), :)\n",
    "    \n",
    "    return grad_input, grad_weights, grad_bias\n",
    "end"
   ]
  },
  {
   "cell_type": "code",
   "execution_count": 9,
   "id": "b439dd06-6c7e-4292-a54e-b9891e81c93e",
   "metadata": {},
   "outputs": [
    {
     "data": {
      "text/plain": [
       "Conv_backward_v4 (generic function with 1 method)"
      ]
     },
     "execution_count": 9,
     "metadata": {},
     "output_type": "execute_result"
    }
   ],
   "source": [
    "function Conv_backward_v4(input, weights, bias, gradient)\n",
    "    input_height, input_width, input_channels = size(input)\n",
    "    output_height, output_width, output_channels = size(gradient)\n",
    "    kernel_height, kernel_width, _, _ = size(weights)\n",
    "    \n",
    "    grad_input = zeros(Float32, size(input))\n",
    "    grad_weights = zeros(Float32, size(weights))\n",
    "    \n",
    "    tmp_weights = zeros(Float32, kernel_height, kernel_width)\n",
    "    tmp_input = zeros(Float32, input_height, input_width)\n",
    "    tmp_gradient = zeros(Float32, output_height, output_width)\n",
    "    \n",
    "    for k in 1:input_channels\n",
    "        for c in 1:output_channels\n",
    "            tmp_weights .= @views weights[:, :, k, c]\n",
    "            tmp_gradient .= @views gradient[:, :, c]\n",
    "            for i = 1:output_height\n",
    "                for j = 1:output_width\n",
    "                    grad_input[i:i+kernel_height-1, j:j+kernel_width-1, k] .+= (tmp_weights .* tmp_gradient[i,j]);\n",
    "                end\n",
    "            end\n",
    "        end\n",
    "    end\n",
    "    \n",
    "    for k in 1:input_channels\n",
    "        for c in 1:output_channels\n",
    "            tmp_input .= @views input[:, :, k]\n",
    "            tmp_gradient .= @views gradient[:, :, c]\n",
    "            Convolution_2d!(tmp_weights, tmp_input, tmp_gradient)\n",
    "            grad_weights[:, :, k, c] .+= tmp_weights\n",
    "            tmp_weights .= 0\n",
    "        end\n",
    "    end\n",
    "\n",
    "    grad_bias = reshape(sum(gradient, dims=(1,2,4)), :)\n",
    "    \n",
    "    return grad_input, grad_weights, grad_bias\n",
    "end"
   ]
  },
  {
   "cell_type": "code",
   "execution_count": 26,
   "id": "3cd49fed",
   "metadata": {},
   "outputs": [
    {
     "data": {
      "text/plain": [
       "Conv_backward_v5 (generic function with 1 method)"
      ]
     },
     "execution_count": 26,
     "metadata": {},
     "output_type": "execute_result"
    }
   ],
   "source": [
    "function Conv_backward_v5(input, weights, bias, gradient)\n",
    "  input_height, input_width, input_channels = size(input)\n",
    "  output_height, output_width, output_channels = size(gradient)\n",
    "  kernel_height, kernel_width, _, _ = size(weights)\n",
    "  \n",
    "  grad_input = zeros(Float32, size(input))\n",
    "  grad_weights = zeros(Float32, size(weights))\n",
    "  \n",
    "  tmp_weights = zeros(Float32, kernel_height, kernel_width)\n",
    "  tmp_input = zeros(Float32, input_height, input_width)\n",
    "  tmp_gradient = zeros(Float32, output_height, output_width)\n",
    "  tmp_weight_gradient = zeros(Float32, kernel_height, kernel_width)\n",
    "  for k in 1:input_channels\n",
    "      for c in 1:output_channels\n",
    "          for i = 1:output_height\n",
    "              for j = 1:output_width\n",
    "                  @views grad_input[i:i+kernel_height-1, j:j+kernel_width-1, k] .+= (weights[:, :, k, c] .* gradient[i, j, c]);\n",
    "              end\n",
    "          end\n",
    "      end\n",
    "  end\n",
    "  \n",
    "  for k in 1:input_channels\n",
    "      for c in 1:output_channels\n",
    "          tmp_weights .= 0\n",
    "          tmp_input .= @views input[:, :, k]\n",
    "          tmp_gradient .= @views gradient[:, :, c]\n",
    "          Convolution_2d!(tmp_weights, tmp_input, tmp_gradient)\n",
    "          grad_weights[:, :, k, c] .+= tmp_weights\n",
    "      end\n",
    "  end\n",
    "\n",
    "  grad_bias = reshape(sum(gradient, dims=(1,2,4)), :)\n",
    "  \n",
    "  return grad_input, grad_weights, grad_bias\n",
    "end"
   ]
  },
  {
   "cell_type": "code",
   "execution_count": 11,
   "id": "4a211139-dd26-485b-ba75-21c02c0ad524",
   "metadata": {},
   "outputs": [],
   "source": [
    "input = rand(28, 28, 1);\n",
    "weights = rand(3, 3, 1, 6);\n",
    "bias = rand(Float32, 6);\n",
    "gradient = rand(26, 26, 6);"
   ]
  },
  {
   "cell_type": "code",
   "execution_count": 12,
   "id": "a279f768-4514-4ba9-80a4-13aaace78226",
   "metadata": {},
   "outputs": [
    {
     "data": {
      "text/plain": [
       "BenchmarkTools.Trial: 507 samples with 1 evaluation.\n",
       " Range \u001b[90m(\u001b[39m\u001b[36m\u001b[1mmin\u001b[22m\u001b[39m … \u001b[35mmax\u001b[39m\u001b[90m):  \u001b[39m\u001b[36m\u001b[1m3.044 ms\u001b[22m\u001b[39m … \u001b[35m34.869 ms\u001b[39m  \u001b[90m┊\u001b[39m GC \u001b[90m(\u001b[39mmin … max\u001b[90m): \u001b[39m 0.00% … 28.90%\n",
       " Time  \u001b[90m(\u001b[39m\u001b[34m\u001b[1mmedian\u001b[22m\u001b[39m\u001b[90m):     \u001b[39m\u001b[34m\u001b[1m8.282 ms              \u001b[22m\u001b[39m\u001b[90m┊\u001b[39m GC \u001b[90m(\u001b[39mmedian\u001b[90m):    \u001b[39m16.70%\n",
       " Time  \u001b[90m(\u001b[39m\u001b[32m\u001b[1mmean\u001b[22m\u001b[39m ± \u001b[32mσ\u001b[39m\u001b[90m):   \u001b[39m\u001b[32m\u001b[1m9.846 ms\u001b[22m\u001b[39m ± \u001b[32m 5.656 ms\u001b[39m  \u001b[90m┊\u001b[39m GC \u001b[90m(\u001b[39mmean ± σ\u001b[90m):  \u001b[39m17.33% ± 14.87%\n",
       "\n",
       "  \u001b[39m█\u001b[39m▂\u001b[39m \u001b[39m▃\u001b[39m▅\u001b[39m▄\u001b[39m█\u001b[39m▃\u001b[39m▂\u001b[39m▂\u001b[39m▃\u001b[34m▂\u001b[39m\u001b[39m \u001b[39m \u001b[32m \u001b[39m\u001b[39m \u001b[39m \u001b[39m▁\u001b[39m \u001b[39m \u001b[39m \u001b[39m \u001b[39m \u001b[39m \u001b[39m \u001b[39m \u001b[39m \u001b[39m \u001b[39m \u001b[39m \u001b[39m \u001b[39m \u001b[39m \u001b[39m \u001b[39m \u001b[39m \u001b[39m \u001b[39m \u001b[39m \u001b[39m \u001b[39m \u001b[39m \u001b[39m \u001b[39m \u001b[39m \u001b[39m \u001b[39m \u001b[39m \u001b[39m \u001b[39m \u001b[39m \u001b[39m \u001b[39m \u001b[39m \u001b[39m \u001b[39m \u001b[39m \u001b[39m \u001b[39m \u001b[39m \n",
       "  \u001b[39m█\u001b[39m█\u001b[39m▅\u001b[39m█\u001b[39m█\u001b[39m█\u001b[39m█\u001b[39m█\u001b[39m█\u001b[39m█\u001b[39m█\u001b[34m█\u001b[39m\u001b[39m█\u001b[39m█\u001b[32m▆\u001b[39m\u001b[39m▅\u001b[39m▆\u001b[39m█\u001b[39m▇\u001b[39m█\u001b[39m█\u001b[39m▅\u001b[39m▅\u001b[39m▇\u001b[39m▇\u001b[39m▆\u001b[39m▄\u001b[39m▄\u001b[39m▃\u001b[39m▃\u001b[39m▃\u001b[39m▃\u001b[39m▅\u001b[39m▄\u001b[39m▃\u001b[39m▄\u001b[39m▂\u001b[39m▁\u001b[39m▃\u001b[39m▄\u001b[39m▂\u001b[39m▁\u001b[39m▁\u001b[39m▂\u001b[39m▂\u001b[39m▃\u001b[39m▂\u001b[39m▃\u001b[39m▁\u001b[39m▁\u001b[39m▁\u001b[39m▂\u001b[39m▂\u001b[39m▁\u001b[39m▁\u001b[39m▁\u001b[39m▁\u001b[39m▂\u001b[39m \u001b[39m▄\n",
       "  3.04 ms\u001b[90m        Histogram: frequency by time\u001b[39m        31.2 ms \u001b[0m\u001b[1m<\u001b[22m\n",
       "\n",
       " Memory estimate\u001b[90m: \u001b[39m\u001b[33m25.49 MiB\u001b[39m, allocs estimate\u001b[90m: \u001b[39m\u001b[33m4842\u001b[39m."
      ]
     },
     "execution_count": 12,
     "metadata": {},
     "output_type": "execute_result"
    }
   ],
   "source": [
    "@benchmark Conv_backward_v1(input, weights, bias, gradient)"
   ]
  },
  {
   "cell_type": "code",
   "execution_count": 13,
   "id": "17651caf-f1c5-46c0-b074-53f96ddd1df3",
   "metadata": {},
   "outputs": [
    {
     "data": {
      "text/plain": [
       "BenchmarkTools.Trial: 936 samples with 1 evaluation.\n",
       " Range \u001b[90m(\u001b[39m\u001b[36m\u001b[1mmin\u001b[22m\u001b[39m … \u001b[35mmax\u001b[39m\u001b[90m):  \u001b[39m\u001b[36m\u001b[1m2.839 ms\u001b[22m\u001b[39m … \u001b[35m20.211 ms\u001b[39m  \u001b[90m┊\u001b[39m GC \u001b[90m(\u001b[39mmin … max\u001b[90m): \u001b[39m 0.00% … 57.36%\n",
       " Time  \u001b[90m(\u001b[39m\u001b[34m\u001b[1mmedian\u001b[22m\u001b[39m\u001b[90m):     \u001b[39m\u001b[34m\u001b[1m4.895 ms              \u001b[22m\u001b[39m\u001b[90m┊\u001b[39m GC \u001b[90m(\u001b[39mmedian\u001b[90m):    \u001b[39m 0.00%\n",
       " Time  \u001b[90m(\u001b[39m\u001b[32m\u001b[1mmean\u001b[22m\u001b[39m ± \u001b[32mσ\u001b[39m\u001b[90m):   \u001b[39m\u001b[32m\u001b[1m5.327 ms\u001b[22m\u001b[39m ± \u001b[32m 2.384 ms\u001b[39m  \u001b[90m┊\u001b[39m GC \u001b[90m(\u001b[39mmean ± σ\u001b[90m):  \u001b[39m16.69% ± 18.38%\n",
       "\n",
       "  \u001b[39m█\u001b[39m▂\u001b[39m \u001b[39m \u001b[39m \u001b[39m \u001b[39m \u001b[39m \u001b[39m \u001b[39m \u001b[39m \u001b[39m \u001b[34m \u001b[39m\u001b[39m \u001b[32m \u001b[39m\u001b[39m \u001b[39m \u001b[39m \u001b[39m \u001b[39m \u001b[39m \u001b[39m \u001b[39m \u001b[39m \u001b[39m \u001b[39m \u001b[39m \u001b[39m \u001b[39m \u001b[39m \u001b[39m \u001b[39m \u001b[39m \u001b[39m \u001b[39m \u001b[39m \u001b[39m \u001b[39m \u001b[39m \u001b[39m \u001b[39m \u001b[39m \u001b[39m \u001b[39m \u001b[39m \u001b[39m \u001b[39m \u001b[39m \u001b[39m \u001b[39m \u001b[39m \u001b[39m \u001b[39m \u001b[39m \u001b[39m \u001b[39m \u001b[39m \u001b[39m \u001b[39m \u001b[39m \n",
       "  \u001b[39m█\u001b[39m█\u001b[39m▅\u001b[39m▅\u001b[39m▅\u001b[39m▄\u001b[39m▄\u001b[39m▅\u001b[39m▄\u001b[39m▄\u001b[39m▄\u001b[39m▅\u001b[34m▆\u001b[39m\u001b[39m▆\u001b[32m▄\u001b[39m\u001b[39m▄\u001b[39m▅\u001b[39m▄\u001b[39m▄\u001b[39m▄\u001b[39m▄\u001b[39m▃\u001b[39m▃\u001b[39m▃\u001b[39m▃\u001b[39m▃\u001b[39m▄\u001b[39m▄\u001b[39m▃\u001b[39m▃\u001b[39m▃\u001b[39m▃\u001b[39m▃\u001b[39m▃\u001b[39m▂\u001b[39m▂\u001b[39m▂\u001b[39m▂\u001b[39m▂\u001b[39m▃\u001b[39m▃\u001b[39m▂\u001b[39m▂\u001b[39m▂\u001b[39m▂\u001b[39m▂\u001b[39m▂\u001b[39m▂\u001b[39m▂\u001b[39m▂\u001b[39m▁\u001b[39m▂\u001b[39m▁\u001b[39m▁\u001b[39m▂\u001b[39m▁\u001b[39m▂\u001b[39m▂\u001b[39m \u001b[39m▃\n",
       "  2.84 ms\u001b[90m        Histogram: frequency by time\u001b[39m        13.1 ms \u001b[0m\u001b[1m<\u001b[22m\n",
       "\n",
       " Memory estimate\u001b[90m: \u001b[39m\u001b[33m13.22 MiB\u001b[39m, allocs estimate\u001b[90m: \u001b[39m\u001b[33m4827\u001b[39m."
      ]
     },
     "execution_count": 13,
     "metadata": {},
     "output_type": "execute_result"
    }
   ],
   "source": [
    "@benchmark Conv_backward_v2(input, weights, bias, gradient)"
   ]
  },
  {
   "cell_type": "code",
   "execution_count": 14,
   "id": "4bcbb4f8",
   "metadata": {},
   "outputs": [
    {
     "data": {
      "text/plain": [
       "BenchmarkTools.Trial: 9511 samples with 1 evaluation.\n",
       " Range \u001b[90m(\u001b[39m\u001b[36m\u001b[1mmin\u001b[22m\u001b[39m … \u001b[35mmax\u001b[39m\u001b[90m):  \u001b[39m\u001b[36m\u001b[1m300.200 μs\u001b[22m\u001b[39m … \u001b[35m  9.706 ms\u001b[39m  \u001b[90m┊\u001b[39m GC \u001b[90m(\u001b[39mmin … max\u001b[90m): \u001b[39m0.00% … 96.35%\n",
       " Time  \u001b[90m(\u001b[39m\u001b[34m\u001b[1mmedian\u001b[22m\u001b[39m\u001b[90m):     \u001b[39m\u001b[34m\u001b[1m364.400 μs               \u001b[22m\u001b[39m\u001b[90m┊\u001b[39m GC \u001b[90m(\u001b[39mmedian\u001b[90m):    \u001b[39m0.00%\n",
       " Time  \u001b[90m(\u001b[39m\u001b[32m\u001b[1mmean\u001b[22m\u001b[39m ± \u001b[32mσ\u001b[39m\u001b[90m):   \u001b[39m\u001b[32m\u001b[1m516.184 μs\u001b[22m\u001b[39m ± \u001b[32m402.558 μs\u001b[39m  \u001b[90m┊\u001b[39m GC \u001b[90m(\u001b[39mmean ± σ\u001b[90m):  \u001b[39m3.43% ±  7.95%\n",
       "\n",
       "  \u001b[39m█\u001b[39m▆\u001b[34m▅\u001b[39m\u001b[39m▅\u001b[39m▄\u001b[39m▃\u001b[39m▃\u001b[32m▂\u001b[39m\u001b[39m▂\u001b[39m▃\u001b[39m▃\u001b[39m▃\u001b[39m▃\u001b[39m▂\u001b[39m▂\u001b[39m▂\u001b[39m▁\u001b[39m▂\u001b[39m▁\u001b[39m▁\u001b[39m▁\u001b[39m▁\u001b[39m \u001b[39m \u001b[39m \u001b[39m \u001b[39m \u001b[39m \u001b[39m \u001b[39m \u001b[39m \u001b[39m \u001b[39m \u001b[39m \u001b[39m \u001b[39m \u001b[39m \u001b[39m \u001b[39m \u001b[39m \u001b[39m \u001b[39m \u001b[39m \u001b[39m \u001b[39m \u001b[39m \u001b[39m \u001b[39m \u001b[39m \u001b[39m \u001b[39m \u001b[39m \u001b[39m \u001b[39m \u001b[39m \u001b[39m \u001b[39m \u001b[39m \u001b[39m \u001b[39m \u001b[39m \u001b[39m \u001b[39m▁\n",
       "  \u001b[39m█\u001b[39m█\u001b[34m█\u001b[39m\u001b[39m█\u001b[39m█\u001b[39m█\u001b[39m█\u001b[32m█\u001b[39m\u001b[39m█\u001b[39m█\u001b[39m█\u001b[39m█\u001b[39m█\u001b[39m█\u001b[39m█\u001b[39m█\u001b[39m█\u001b[39m█\u001b[39m█\u001b[39m█\u001b[39m█\u001b[39m█\u001b[39m█\u001b[39m█\u001b[39m█\u001b[39m█\u001b[39m█\u001b[39m█\u001b[39m▇\u001b[39m▇\u001b[39m▆\u001b[39m▆\u001b[39m█\u001b[39m▆\u001b[39m▆\u001b[39m▅\u001b[39m▅\u001b[39m▆\u001b[39m▅\u001b[39m▆\u001b[39m▆\u001b[39m▅\u001b[39m▄\u001b[39m▆\u001b[39m▅\u001b[39m▅\u001b[39m▅\u001b[39m▄\u001b[39m▅\u001b[39m▄\u001b[39m▄\u001b[39m▅\u001b[39m▄\u001b[39m▄\u001b[39m▄\u001b[39m▅\u001b[39m▄\u001b[39m▄\u001b[39m▃\u001b[39m▄\u001b[39m▄\u001b[39m \u001b[39m█\n",
       "  300 μs\u001b[90m        \u001b[39m\u001b[90mHistogram: \u001b[39m\u001b[90m\u001b[1mlog(\u001b[22m\u001b[39m\u001b[90mfrequency\u001b[39m\u001b[90m\u001b[1m)\u001b[22m\u001b[39m\u001b[90m by time\u001b[39m       2.18 ms \u001b[0m\u001b[1m<\u001b[22m\n",
       "\n",
       " Memory estimate\u001b[90m: \u001b[39m\u001b[33m544.08 KiB\u001b[39m, allocs estimate\u001b[90m: \u001b[39m\u001b[33m4149\u001b[39m."
      ]
     },
     "execution_count": 14,
     "metadata": {},
     "output_type": "execute_result"
    }
   ],
   "source": [
    "@benchmark Conv_backward_v3(input, weights, bias, gradient)"
   ]
  },
  {
   "cell_type": "code",
   "execution_count": 15,
   "id": "cdb067e2-2701-476e-b629-f194cd2f4dc3",
   "metadata": {},
   "outputs": [
    {
     "data": {
      "text/plain": [
       "BenchmarkTools.Trial: 10000 samples with 1 evaluation.\n",
       " Range \u001b[90m(\u001b[39m\u001b[36m\u001b[1mmin\u001b[22m\u001b[39m … \u001b[35mmax\u001b[39m\u001b[90m):  \u001b[39m\u001b[36m\u001b[1m304.000 μs\u001b[22m\u001b[39m … \u001b[35m 38.811 ms\u001b[39m  \u001b[90m┊\u001b[39m GC \u001b[90m(\u001b[39mmin … max\u001b[90m): \u001b[39m0.00% … 0.00%\n",
       " Time  \u001b[90m(\u001b[39m\u001b[34m\u001b[1mmedian\u001b[22m\u001b[39m\u001b[90m):     \u001b[39m\u001b[34m\u001b[1m347.150 μs               \u001b[22m\u001b[39m\u001b[90m┊\u001b[39m GC \u001b[90m(\u001b[39mmedian\u001b[90m):    \u001b[39m0.00%\n",
       " Time  \u001b[90m(\u001b[39m\u001b[32m\u001b[1mmean\u001b[22m\u001b[39m ± \u001b[32mσ\u001b[39m\u001b[90m):   \u001b[39m\u001b[32m\u001b[1m455.687 μs\u001b[22m\u001b[39m ± \u001b[32m473.135 μs\u001b[39m  \u001b[90m┊\u001b[39m GC \u001b[90m(\u001b[39mmean ± σ\u001b[90m):  \u001b[39m2.09% ± 6.42%\n",
       "\n",
       "  \u001b[39m█\u001b[39m▆\u001b[34m▅\u001b[39m\u001b[39m▅\u001b[39m▄\u001b[39m▄\u001b[39m▃\u001b[32m▂\u001b[39m\u001b[39m▂\u001b[39m▁\u001b[39m▂\u001b[39m▂\u001b[39m▂\u001b[39m▂\u001b[39m▃\u001b[39m▂\u001b[39m▂\u001b[39m▂\u001b[39m▂\u001b[39m▂\u001b[39m▁\u001b[39m▁\u001b[39m▁\u001b[39m▁\u001b[39m▁\u001b[39m \u001b[39m \u001b[39m \u001b[39m \u001b[39m \u001b[39m \u001b[39m \u001b[39m \u001b[39m \u001b[39m \u001b[39m \u001b[39m \u001b[39m \u001b[39m \u001b[39m \u001b[39m \u001b[39m \u001b[39m \u001b[39m \u001b[39m \u001b[39m \u001b[39m \u001b[39m \u001b[39m \u001b[39m \u001b[39m \u001b[39m \u001b[39m \u001b[39m \u001b[39m \u001b[39m \u001b[39m \u001b[39m \u001b[39m \u001b[39m \u001b[39m \u001b[39m \u001b[39m▁\n",
       "  \u001b[39m█\u001b[39m█\u001b[34m█\u001b[39m\u001b[39m█\u001b[39m█\u001b[39m█\u001b[39m█\u001b[32m█\u001b[39m\u001b[39m█\u001b[39m█\u001b[39m█\u001b[39m█\u001b[39m█\u001b[39m█\u001b[39m█\u001b[39m█\u001b[39m█\u001b[39m█\u001b[39m█\u001b[39m█\u001b[39m█\u001b[39m█\u001b[39m█\u001b[39m█\u001b[39m█\u001b[39m█\u001b[39m█\u001b[39m█\u001b[39m█\u001b[39m█\u001b[39m█\u001b[39m▇\u001b[39m▇\u001b[39m▆\u001b[39m▆\u001b[39m▆\u001b[39m▆\u001b[39m▆\u001b[39m▅\u001b[39m▆\u001b[39m▄\u001b[39m▅\u001b[39m▅\u001b[39m▅\u001b[39m▅\u001b[39m▄\u001b[39m▄\u001b[39m▄\u001b[39m▃\u001b[39m▄\u001b[39m▄\u001b[39m▃\u001b[39m▄\u001b[39m▄\u001b[39m▄\u001b[39m▄\u001b[39m▄\u001b[39m▃\u001b[39m▂\u001b[39m▅\u001b[39m▅\u001b[39m \u001b[39m█\n",
       "  304 μs\u001b[90m        \u001b[39m\u001b[90mHistogram: \u001b[39m\u001b[90m\u001b[1mlog(\u001b[22m\u001b[39m\u001b[90mfrequency\u001b[39m\u001b[90m\u001b[1m)\u001b[22m\u001b[39m\u001b[90m by time\u001b[39m       1.55 ms \u001b[0m\u001b[1m<\u001b[22m\n",
       "\n",
       " Memory estimate\u001b[90m: \u001b[39m\u001b[33m423.42 KiB\u001b[39m, allocs estimate\u001b[90m: \u001b[39m\u001b[33m4083\u001b[39m."
      ]
     },
     "execution_count": 15,
     "metadata": {},
     "output_type": "execute_result"
    }
   ],
   "source": [
    "@benchmark Conv_backward_v4(input, weights, bias, gradient)"
   ]
  },
  {
   "cell_type": "code",
   "execution_count": 27,
   "id": "8ddc272c-9ddd-46f3-a879-e3aa8cdce315",
   "metadata": {},
   "outputs": [
    {
     "data": {
      "text/plain": [
       "BenchmarkTools.Trial: 10000 samples with 1 evaluation.\n",
       " Range \u001b[90m(\u001b[39m\u001b[36m\u001b[1mmin\u001b[22m\u001b[39m … \u001b[35mmax\u001b[39m\u001b[90m):  \u001b[39m\u001b[36m\u001b[1m127.000 μs\u001b[22m\u001b[39m … \u001b[35m 2.742 ms\u001b[39m  \u001b[90m┊\u001b[39m GC \u001b[90m(\u001b[39mmin … max\u001b[90m): \u001b[39m0.00% … 91.59%\n",
       " Time  \u001b[90m(\u001b[39m\u001b[34m\u001b[1mmedian\u001b[22m\u001b[39m\u001b[90m):     \u001b[39m\u001b[34m\u001b[1m133.200 μs              \u001b[22m\u001b[39m\u001b[90m┊\u001b[39m GC \u001b[90m(\u001b[39mmedian\u001b[90m):    \u001b[39m0.00%\n",
       " Time  \u001b[90m(\u001b[39m\u001b[32m\u001b[1mmean\u001b[22m\u001b[39m ± \u001b[32mσ\u001b[39m\u001b[90m):   \u001b[39m\u001b[32m\u001b[1m153.003 μs\u001b[22m\u001b[39m ± \u001b[32m71.569 μs\u001b[39m  \u001b[90m┊\u001b[39m GC \u001b[90m(\u001b[39mmean ± σ\u001b[90m):  \u001b[39m1.10% ±  2.74%\n",
       "\n",
       "  \u001b[39m█\u001b[39m█\u001b[34m▆\u001b[39m\u001b[39m▅\u001b[39m▄\u001b[39m▄\u001b[39m▄\u001b[39m▃\u001b[39m▃\u001b[39m▃\u001b[32m▂\u001b[39m\u001b[39m▂\u001b[39m▂\u001b[39m▁\u001b[39m▁\u001b[39m▁\u001b[39m▁\u001b[39m \u001b[39m \u001b[39m \u001b[39m \u001b[39m \u001b[39m \u001b[39m \u001b[39m \u001b[39m \u001b[39m \u001b[39m \u001b[39m \u001b[39m \u001b[39m \u001b[39m \u001b[39m \u001b[39m \u001b[39m \u001b[39m \u001b[39m \u001b[39m \u001b[39m \u001b[39m \u001b[39m \u001b[39m \u001b[39m \u001b[39m▁\u001b[39m▁\u001b[39m▂\u001b[39m▂\u001b[39m▂\u001b[39m▁\u001b[39m▁\u001b[39m \u001b[39m \u001b[39m \u001b[39m \u001b[39m \u001b[39m \u001b[39m \u001b[39m \u001b[39m \u001b[39m \u001b[39m \u001b[39m▂\n",
       "  \u001b[39m█\u001b[39m█\u001b[34m█\u001b[39m\u001b[39m█\u001b[39m█\u001b[39m█\u001b[39m█\u001b[39m█\u001b[39m█\u001b[39m█\u001b[32m█\u001b[39m\u001b[39m█\u001b[39m█\u001b[39m█\u001b[39m█\u001b[39m█\u001b[39m█\u001b[39m█\u001b[39m█\u001b[39m█\u001b[39m█\u001b[39m▇\u001b[39m▇\u001b[39m▆\u001b[39m▇\u001b[39m▇\u001b[39m▇\u001b[39m▇\u001b[39m▇\u001b[39m▆\u001b[39m▇\u001b[39m▇\u001b[39m▆\u001b[39m▇\u001b[39m▇\u001b[39m▇\u001b[39m▆\u001b[39m▇\u001b[39m▇\u001b[39m▇\u001b[39m▇\u001b[39m█\u001b[39m█\u001b[39m█\u001b[39m█\u001b[39m█\u001b[39m█\u001b[39m█\u001b[39m█\u001b[39m█\u001b[39m█\u001b[39m█\u001b[39m█\u001b[39m▇\u001b[39m▇\u001b[39m▇\u001b[39m▇\u001b[39m▅\u001b[39m▆\u001b[39m▆\u001b[39m \u001b[39m█\n",
       "  127 μs\u001b[90m        \u001b[39m\u001b[90mHistogram: \u001b[39m\u001b[90m\u001b[1mlog(\u001b[22m\u001b[39m\u001b[90mfrequency\u001b[39m\u001b[90m\u001b[1m)\u001b[22m\u001b[39m\u001b[90m by time\u001b[39m       289 μs \u001b[0m\u001b[1m<\u001b[22m\n",
       "\n",
       " Memory estimate\u001b[90m: \u001b[39m\u001b[33m43.27 KiB\u001b[39m, allocs estimate\u001b[90m: \u001b[39m\u001b[33m28\u001b[39m."
      ]
     },
     "execution_count": 27,
     "metadata": {},
     "output_type": "execute_result"
    }
   ],
   "source": [
    "@benchmark Conv_backward_v5(input, weights, bias, gradient)"
   ]
  },
  {
   "cell_type": "code",
   "execution_count": 23,
   "id": "29061a4f",
   "metadata": {},
   "outputs": [
    {
     "data": {
      "text/plain": [
       "(Float32[1.0270078 2.6579611 … 3.7924967 1.8244433; 2.597403 5.3894105 … 6.0019026 4.2386637; … ; 2.756383 5.254015 … 5.7856393 3.91924; 1.7586558 3.7111154 … 3.766919 2.8490338;;;], Float32[164.96873 172.18361 170.53923; 170.70602 169.33534 168.48164; 175.28775 170.91432 169.54118;;;; 170.53622 165.45215 168.81535; 171.62535 171.87164 168.82399; 174.88133 171.7694 171.18498;;;; 166.93677 168.05923 167.06853; 167.62666 167.41205 169.69621; 170.73174 168.36333 169.48141;;;; 161.80113 155.83371 156.12274; 162.93762 157.15332 157.87662; 161.28285 163.23285 162.17902;;;; 167.1234 168.40689 166.27711; 168.05473 168.79185 167.55911; 170.86842 170.41064 175.09317;;;; 164.01128 162.60814 159.25778; 157.55978 158.29161 166.03732; 160.68312 161.62408 166.63004], [348.5285866686615, 350.60216179457456, 343.41925508530653, 327.5206907433597, 346.788425115532, 332.3772648887847])"
      ]
     },
     "execution_count": 23,
     "metadata": {},
     "output_type": "execute_result"
    }
   ],
   "source": [
    "Conv_backward_v4(input, weights, bias, gradient)"
   ]
  },
  {
   "cell_type": "code",
   "execution_count": 22,
   "id": "37a4d68d-9936-402a-8c47-166e1bce721d",
   "metadata": {},
   "outputs": [
    {
     "data": {
      "text/plain": [
       "(Float32[1.0270078 2.6579611 … 3.7924964 1.8244432; 2.5974026 5.3894105 … 6.001902 4.2386637; … ; 2.7563832 5.254015 … 5.7856393 3.9192402; 1.7586558 3.7111154 … 3.7669184 2.849034;;;], Float32[164.96873 172.18361 170.53923; 170.70602 169.33534 168.48164; 175.28775 170.91432 169.54118;;;; 170.53622 165.45215 168.81535; 171.62535 171.87164 168.82399; 174.88133 171.7694 171.18498;;;; 166.93677 168.05923 167.06853; 167.62666 167.41205 169.69621; 170.73174 168.36333 169.48141;;;; 161.80113 155.83371 156.12274; 162.93762 157.15332 157.87662; 161.28285 163.23285 162.17902;;;; 167.1234 168.40689 166.27711; 168.05473 168.79185 167.55911; 170.86842 170.41064 175.09317;;;; 164.01128 162.60814 159.25778; 157.55978 158.29161 166.03732; 160.68312 161.62408 166.63004], [348.5285866686615, 350.60216179457456, 343.41925508530653, 327.5206907433597, 346.788425115532, 332.3772648887847])"
      ]
     },
     "execution_count": 22,
     "metadata": {},
     "output_type": "execute_result"
    }
   ],
   "source": [
    "Conv_backward_v5(input, weights, bias, gradient)"
   ]
  }
 ],
 "metadata": {
  "kernelspec": {
   "display_name": "Julia 1.10.2",
   "language": "julia",
   "name": "julia-1.10"
  },
  "language_info": {
   "file_extension": ".jl",
   "mimetype": "application/julia",
   "name": "julia",
   "version": "1.10.2"
  }
 },
 "nbformat": 4,
 "nbformat_minor": 5
}
