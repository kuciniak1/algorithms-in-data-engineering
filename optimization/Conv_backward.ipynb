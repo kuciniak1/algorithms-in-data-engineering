{
 "cells": [
  {
   "cell_type": "code",
   "execution_count": 1,
   "id": "936e3b17-6e67-4337-b2fd-c439868d402c",
   "metadata": {},
   "outputs": [],
   "source": [
    "using BenchmarkTools"
   ]
  },
  {
   "cell_type": "code",
   "execution_count": 2,
   "id": "0aab672b-d403-4b54-a3e4-82c7f53a110c",
   "metadata": {},
   "outputs": [
    {
     "data": {
      "text/plain": [
       "rotate (generic function with 1 method)"
      ]
     },
     "execution_count": 2,
     "metadata": {},
     "output_type": "execute_result"
    }
   ],
   "source": [
    "function rotate(matrix)\n",
    "    return reverse(reverse(matrix, dims=1), dims=2)\n",
    "end"
   ]
  },
  {
   "cell_type": "code",
   "execution_count": 3,
   "id": "045ac6c2-28fb-442f-935a-afe2124be2f0",
   "metadata": {},
   "outputs": [
    {
     "data": {
      "text/plain": [
       "Convolution_2d_pad (generic function with 1 method)"
      ]
     },
     "execution_count": 3,
     "metadata": {},
     "output_type": "execute_result"
    }
   ],
   "source": [
    "function Convolution_2d_pad(input, kernel; bias=0., padding=false)\n",
    "    input_rows, input_columns = size(input)\n",
    "    kernel_height, kernel_width = size(kernel)\n",
    "\n",
    "    if padding\n",
    "        padded_input = zeros(Float32, input_rows + 2*kernel_height - 2, input_columns + 2*kernel_width - 2)\n",
    "        padded_input[kernel_height:end-kernel_height+1, kernel_width:end-kernel_width+1] .= input\n",
    "        input_rows, input_columns = size(padded_input)\n",
    "        input = padded_input\n",
    "    end\n",
    "\n",
    "    output_rows = input_rows - kernel_height + 1\n",
    "    output_columns = input_columns - kernel_width + 1\n",
    "    output = zeros(Float32, output_rows, output_columns)\n",
    "\n",
    "\n",
    "    for c in 1:output_columns\n",
    "        for r in 1:output_rows\n",
    "            patch = @view input[r:r+kernel_height-1, c:c+kernel_width-1]\n",
    "            output[r, c] = sum(patch .* kernel) + bias\n",
    "        end\n",
    "    end\n",
    "    return output\n",
    "end"
   ]
  },
  {
   "cell_type": "code",
   "execution_count": 4,
   "id": "b4173fe6-711d-4a85-8249-fea33f3b757f",
   "metadata": {},
   "outputs": [
    {
     "data": {
      "text/plain": [
       "Convolution_2d (generic function with 1 method)"
      ]
     },
     "execution_count": 4,
     "metadata": {},
     "output_type": "execute_result"
    }
   ],
   "source": [
    "function Convolution_2d(input, kernel; bias=0.)\n",
    "    input_rows, input_columns = size(input)\n",
    "    kernel_height, kernel_width = size(kernel)\n",
    "\n",
    "    output_rows = input_rows - kernel_height + 1\n",
    "    output_columns = input_columns - kernel_width + 1\n",
    "    output = zeros(Float32, output_rows, output_columns)\n",
    "\n",
    "\n",
    "    for c in 1:output_columns\n",
    "        for r in 1:output_rows\n",
    "            patch = @view input[r:r+kernel_height-1, c:c+kernel_width-1]\n",
    "            output[r, c] = sum(patch .* kernel) + bias\n",
    "        end\n",
    "    end\n",
    "    return output\n",
    "end"
   ]
  },
  {
   "cell_type": "code",
   "execution_count": 13,
   "id": "4809b981-d7a7-4997-a506-5b2c1d3cb704",
   "metadata": {},
   "outputs": [
    {
     "data": {
      "text/plain": [
       "Convolution_2d! (generic function with 1 method)"
      ]
     },
     "execution_count": 13,
     "metadata": {},
     "output_type": "execute_result"
    }
   ],
   "source": [
    "function Convolution_2d!(ret, input, kernel; bias=0., padding=false)\n",
    "    input_rows, input_columns = size(input)\n",
    "    kernel_height, kernel_width = size(kernel)\n",
    "\n",
    "    if padding\n",
    "        padded_input = zeros(Float32, input_rows + 2*kernel_height - 2, input_columns + 2*kernel_width - 2)\n",
    "        padded_input[kernel_height:end-kernel_height+1, kernel_width:end-kernel_width+1] .= input\n",
    "        input_rows, input_columns = size(padded_input)\n",
    "        input = padded_input\n",
    "    end\n",
    "\n",
    "    output_rows = input_rows - kernel_height + 1\n",
    "    output_columns = input_columns - kernel_width + 1\n",
    "    sumret = zeros(size(kernel))\n",
    "    for c in 1:output_columns\n",
    "        for r in 1:output_rows\n",
    "            patch = @view input[r:r+kernel_height-1, c:c+kernel_width-1]\n",
    "            sumret .= patch .* kernel\n",
    "            ret[r, c] = sum(sumret) + bias\n",
    "            sumret .= 0.0\n",
    "        end\n",
    "    end\n",
    "end"
   ]
  },
  {
   "cell_type": "code",
   "execution_count": 5,
   "id": "787b5c25-4636-4b63-9fa6-7f43de0b33d1",
   "metadata": {},
   "outputs": [
    {
     "data": {
      "text/plain": [
       "Conv_backward_v1 (generic function with 1 method)"
      ]
     },
     "execution_count": 5,
     "metadata": {},
     "output_type": "execute_result"
    }
   ],
   "source": [
    "function Conv_backward_v1( input, weights, bias, gradient)\n",
    "    input_height, input_width, input_channels = size(input)\n",
    "    output_height, output_width, output_channels = size(gradient)\n",
    "    kernel_height, kernel_width, _, _ = size(weights)\n",
    "    \n",
    "    \n",
    "    grad_input = zeros(Float32, size(input))\n",
    "    for k in 1:input_channels\n",
    "        for c in 1:output_channels\n",
    "            grad_input[:, :, k] += Convolution_2d_pad(weights[:, :, k, c], gradient[:, :, c]; padding=true)\n",
    "        end\n",
    "    end\n",
    "\n",
    "    grad_weights = zeros(Float32, size(weights))\n",
    "    for k in 1:input_channels\n",
    "        for c in 1:output_channels\n",
    "            grad_weights[:, :, k, c] += Convolution_2d(input[:, :, k], gradient[:, :, c])\n",
    "        end\n",
    "    end\n",
    "\n",
    "    grad_bias = reshape(sum(gradient, dims=(1,2,4)), :)\n",
    "    \n",
    "    return grad_input, grad_weights, grad_bias\n",
    "end"
   ]
  },
  {
   "cell_type": "code",
   "execution_count": 6,
   "id": "70169f26-159a-4bcd-906b-e57371b9d210",
   "metadata": {},
   "outputs": [
    {
     "data": {
      "text/plain": [
       "Conv_backward_v2 (generic function with 1 method)"
      ]
     },
     "execution_count": 6,
     "metadata": {},
     "output_type": "execute_result"
    }
   ],
   "source": [
    "function Conv_backward_v2(input, weights, bias, gradient)\n",
    "    input_height, input_width, input_channels = size(input)\n",
    "    output_height, output_width, output_channels = size(gradient)\n",
    "    kernel_height, kernel_width, _, _ = size(weights)\n",
    "    \n",
    "    \n",
    "    grad_input = zeros(Float32, size(input))\n",
    "    grad_weights = zeros(Float32, size(weights))\n",
    "    \n",
    "    tmp_weights = zeros(Float32, kernel_height, kernel_width)\n",
    "    tmp_input = zeros(Float32, input_height, input_width)\n",
    "    tmp_gradient = zeros(Float32, output_height, output_width)\n",
    "    \n",
    "    for k in 1:input_channels\n",
    "        for c in 1:output_channels\n",
    "            tmp_weights .= @views weights[:, :, k, c]\n",
    "            tmp_gradient .= @views gradient[:, :, c]\n",
    "            grad_input[:, :, k] .+= Convolution_2d_pad(tmp_weights, rotate(tmp_gradient); padding=true)\n",
    "        end\n",
    "    end\n",
    "\n",
    "    \n",
    "    for k in 1:input_channels\n",
    "        for c in 1:output_channels\n",
    "            tmp_input .= @views input[:, :, k]\n",
    "            tmp_gradient .= @views gradient[:, :, c]\n",
    "            grad_weights[:, :, k, c] += Convolution_2d(tmp_input, tmp_gradient)\n",
    "        end\n",
    "    end\n",
    "\n",
    "    grad_bias = reshape(sum(gradient, dims=(1,2,4)), :)\n",
    "    \n",
    "    return grad_input, grad_weights, grad_bias\n",
    "end"
   ]
  },
  {
   "cell_type": "code",
   "execution_count": 7,
   "id": "8e572997",
   "metadata": {},
   "outputs": [
    {
     "data": {
      "text/plain": [
       "Conv_backward_v3 (generic function with 1 method)"
      ]
     },
     "execution_count": 7,
     "metadata": {},
     "output_type": "execute_result"
    }
   ],
   "source": [
    "function Conv_backward_v3( input, weights, bias, gradient)\n",
    "    input_height, input_width, input_channels = size(input)\n",
    "    output_height, output_width, output_channels = size(gradient)\n",
    "    kernel_height, kernel_width, _, _ = size(weights)\n",
    "    \n",
    "    grad_input = zeros(Float32, size(input))\n",
    "    grad_weights = zeros(Float32, size(weights))\n",
    "    \n",
    "    tmp_weights = zeros(Float32, kernel_height, kernel_width)\n",
    "    tmp_input = zeros(Float32, input_height, input_width)\n",
    "    tmp_gradient = zeros(Float32, output_height, output_width)\n",
    "    \n",
    "    for k in 1:input_channels\n",
    "        for c in 1:output_channels\n",
    "            tmp_weights .= @views weights[:, :, k, c]\n",
    "            tmp_gradient .= @views gradient[:, :, c]\n",
    "            for i = 1:output_height\n",
    "                for j = 1:output_width\n",
    "                    grad_input[i:i+kernel_height-1, j:j+kernel_width-1, k] .+= (tmp_weights .* tmp_gradient[i,j]);\n",
    "                end\n",
    "            end\n",
    "        end\n",
    "    end\n",
    "    \n",
    "    for k in 1:input_channels\n",
    "        for c in 1:output_channels\n",
    "            tmp_input .= @views input[:, :, k]\n",
    "            tmp_gradient .= @views gradient[:, :, c]\n",
    "            grad_weights[:, :, k, c] += Convolution_2d(tmp_input, tmp_gradient)\n",
    "        end\n",
    "    end\n",
    "\n",
    "    grad_bias = reshape(sum(gradient, dims=(1,2,4)), :)\n",
    "    \n",
    "    return grad_input, grad_weights, grad_bias\n",
    "end"
   ]
  },
  {
   "cell_type": "code",
   "execution_count": 18,
   "id": "b439dd06-6c7e-4292-a54e-b9891e81c93e",
   "metadata": {},
   "outputs": [
    {
     "data": {
      "text/plain": [
       "Conv_backward_v4 (generic function with 1 method)"
      ]
     },
     "execution_count": 18,
     "metadata": {},
     "output_type": "execute_result"
    }
   ],
   "source": [
    "function Conv_backward_v4(input, weights, bias, gradient)\n",
    "    input_height, input_width, input_channels = size(input)\n",
    "    output_height, output_width, output_channels = size(gradient)\n",
    "    kernel_height, kernel_width, _, _ = size(weights)\n",
    "    \n",
    "    grad_input = zeros(Float32, size(input))\n",
    "    grad_weights = zeros(Float32, size(weights))\n",
    "    \n",
    "    tmp_weights = zeros(Float32, kernel_height, kernel_width)\n",
    "    tmp_input = zeros(Float32, input_height, input_width)\n",
    "    tmp_gradient = zeros(Float32, output_height, output_width)\n",
    "    \n",
    "    for k in 1:input_channels\n",
    "        for c in 1:output_channels\n",
    "            tmp_weights .= @views weights[:, :, k, c]\n",
    "            tmp_gradient .= @views gradient[:, :, c]\n",
    "            for i = 1:output_height\n",
    "                for j = 1:output_width\n",
    "                    grad_input[i:i+kernel_height-1, j:j+kernel_width-1, k] .+= (tmp_weights .* tmp_gradient[i,j]);\n",
    "                end\n",
    "            end\n",
    "        end\n",
    "    end\n",
    "    \n",
    "    for k in 1:input_channels\n",
    "        for c in 1:output_channels\n",
    "            tmp_input .= @views input[:, :, k]\n",
    "            tmp_gradient .= @views gradient[:, :, c]\n",
    "            Convolution_2d!(tmp_weights, tmp_input, tmp_gradient)\n",
    "            grad_weights[:, :, k, c] .+= tmp_weights\n",
    "            tmp_weights .= 0\n",
    "        end\n",
    "    end\n",
    "\n",
    "    grad_bias = reshape(sum(gradient, dims=(1,2,4)), :)\n",
    "    \n",
    "    return grad_input, grad_weights, grad_bias\n",
    "end"
   ]
  },
  {
   "cell_type": "code",
   "execution_count": 8,
   "id": "4a211139-dd26-485b-ba75-21c02c0ad524",
   "metadata": {},
   "outputs": [],
   "source": [
    "input = rand(28, 28, 1);\n",
    "weights = rand(3, 3, 1, 6);\n",
    "bias = rand(Float32, 6);\n",
    "gradient = rand(26, 26, 6);"
   ]
  },
  {
   "cell_type": "code",
   "execution_count": 9,
   "id": "a279f768-4514-4ba9-80a4-13aaace78226",
   "metadata": {},
   "outputs": [
    {
     "data": {
      "text/plain": [
       "BenchmarkTools.Trial: 747 samples with 1 evaluation.\n",
       " Range \u001b[90m(\u001b[39m\u001b[36m\u001b[1mmin\u001b[22m\u001b[39m … \u001b[35mmax\u001b[39m\u001b[90m):  \u001b[39m\u001b[36m\u001b[1m4.477 ms\u001b[22m\u001b[39m … \u001b[35m11.788 ms\u001b[39m  \u001b[90m┊\u001b[39m GC \u001b[90m(\u001b[39mmin … max\u001b[90m): \u001b[39m 0.00% … 51.55%\n",
       " Time  \u001b[90m(\u001b[39m\u001b[34m\u001b[1mmedian\u001b[22m\u001b[39m\u001b[90m):     \u001b[39m\u001b[34m\u001b[1m7.479 ms              \u001b[22m\u001b[39m\u001b[90m┊\u001b[39m GC \u001b[90m(\u001b[39mmedian\u001b[90m):    \u001b[39m35.12%\n",
       " Time  \u001b[90m(\u001b[39m\u001b[32m\u001b[1mmean\u001b[22m\u001b[39m ± \u001b[32mσ\u001b[39m\u001b[90m):   \u001b[39m\u001b[32m\u001b[1m6.688 ms\u001b[22m\u001b[39m ± \u001b[32m 1.377 ms\u001b[39m  \u001b[90m┊\u001b[39m GC \u001b[90m(\u001b[39mmean ± σ\u001b[90m):  \u001b[39m24.83% ± 17.82%\n",
       "\n",
       "  \u001b[39m \u001b[39m \u001b[39m \u001b[39m \u001b[39m \u001b[39m▁\u001b[39m█\u001b[39m█\u001b[39m▄\u001b[39m \u001b[39m \u001b[39m \u001b[39m \u001b[39m \u001b[39m \u001b[39m \u001b[39m \u001b[39m \u001b[39m \u001b[39m \u001b[39m \u001b[39m \u001b[39m \u001b[39m \u001b[39m \u001b[39m \u001b[39m \u001b[39m \u001b[32m \u001b[39m\u001b[39m \u001b[39m \u001b[39m \u001b[39m \u001b[39m \u001b[39m \u001b[39m \u001b[39m \u001b[39m \u001b[34m▆\u001b[39m\u001b[39m▃\u001b[39m▇\u001b[39m▅\u001b[39m▂\u001b[39m \u001b[39m \u001b[39m \u001b[39m \u001b[39m \u001b[39m \u001b[39m \u001b[39m \u001b[39m \u001b[39m \u001b[39m \u001b[39m \u001b[39m \u001b[39m \u001b[39m \u001b[39m \u001b[39m \n",
       "  \u001b[39m▂\u001b[39m▂\u001b[39m▃\u001b[39m▃\u001b[39m▅\u001b[39m█\u001b[39m█\u001b[39m█\u001b[39m█\u001b[39m█\u001b[39m▄\u001b[39m▅\u001b[39m▃\u001b[39m▂\u001b[39m▃\u001b[39m▂\u001b[39m▂\u001b[39m▃\u001b[39m▂\u001b[39m▁\u001b[39m▂\u001b[39m▁\u001b[39m▁\u001b[39m▁\u001b[39m▁\u001b[39m▁\u001b[39m▁\u001b[39m▁\u001b[32m▁\u001b[39m\u001b[39m▁\u001b[39m▁\u001b[39m▁\u001b[39m▂\u001b[39m▃\u001b[39m▄\u001b[39m▅\u001b[39m▆\u001b[39m█\u001b[34m█\u001b[39m\u001b[39m█\u001b[39m█\u001b[39m█\u001b[39m█\u001b[39m▇\u001b[39m▇\u001b[39m▄\u001b[39m▅\u001b[39m▃\u001b[39m▃\u001b[39m▃\u001b[39m▃\u001b[39m▂\u001b[39m▂\u001b[39m▂\u001b[39m▂\u001b[39m▂\u001b[39m▂\u001b[39m▃\u001b[39m \u001b[39m▃\n",
       "  4.48 ms\u001b[90m        Histogram: frequency by time\u001b[39m        9.11 ms \u001b[0m\u001b[1m<\u001b[22m\n",
       "\n",
       " Memory estimate\u001b[90m: \u001b[39m\u001b[33m25.79 MiB\u001b[39m, allocs estimate\u001b[90m: \u001b[39m\u001b[33m4842\u001b[39m."
      ]
     },
     "execution_count": 9,
     "metadata": {},
     "output_type": "execute_result"
    }
   ],
   "source": [
    "@benchmark Conv_backward_v1(input, weights, bias, gradient)"
   ]
  },
  {
   "cell_type": "code",
   "execution_count": 10,
   "id": "17651caf-f1c5-46c0-b074-53f96ddd1df3",
   "metadata": {},
   "outputs": [
    {
     "data": {
      "text/plain": [
       "BenchmarkTools.Trial: 1242 samples with 1 evaluation.\n",
       " Range \u001b[90m(\u001b[39m\u001b[36m\u001b[1mmin\u001b[22m\u001b[39m … \u001b[35mmax\u001b[39m\u001b[90m):  \u001b[39m\u001b[36m\u001b[1m2.093 ms\u001b[22m\u001b[39m … \u001b[35m8.485 ms\u001b[39m  \u001b[90m┊\u001b[39m GC \u001b[90m(\u001b[39mmin … max\u001b[90m): \u001b[39m 0.00% … 59.58%\n",
       " Time  \u001b[90m(\u001b[39m\u001b[34m\u001b[1mmedian\u001b[22m\u001b[39m\u001b[90m):     \u001b[39m\u001b[34m\u001b[1m3.148 ms             \u001b[22m\u001b[39m\u001b[90m┊\u001b[39m GC \u001b[90m(\u001b[39mmedian\u001b[90m):    \u001b[39m 0.00%\n",
       " Time  \u001b[90m(\u001b[39m\u001b[32m\u001b[1mmean\u001b[22m\u001b[39m ± \u001b[32mσ\u001b[39m\u001b[90m):   \u001b[39m\u001b[32m\u001b[1m4.024 ms\u001b[22m\u001b[39m ± \u001b[32m1.613 ms\u001b[39m  \u001b[90m┊\u001b[39m GC \u001b[90m(\u001b[39mmean ± σ\u001b[90m):  \u001b[39m28.83% ± 27.29%\n",
       "\n",
       "  \u001b[39m \u001b[39m \u001b[39m \u001b[39m \u001b[39m \u001b[39m \u001b[39m \u001b[39m \u001b[39m \u001b[39m▆\u001b[39m█\u001b[39m▅\u001b[34m▇\u001b[39m\u001b[39m \u001b[39m \u001b[39m \u001b[39m \u001b[39m \u001b[39m \u001b[39m \u001b[39m \u001b[39m \u001b[32m \u001b[39m\u001b[39m \u001b[39m \u001b[39m \u001b[39m \u001b[39m \u001b[39m \u001b[39m \u001b[39m \u001b[39m \u001b[39m \u001b[39m \u001b[39m \u001b[39m \u001b[39m \u001b[39m \u001b[39m \u001b[39m \u001b[39m \u001b[39m \u001b[39m \u001b[39m \u001b[39m \u001b[39m \u001b[39m \u001b[39m \u001b[39m \u001b[39m \u001b[39m \u001b[39m \u001b[39m \u001b[39m \u001b[39m \u001b[39m \u001b[39m \u001b[39m \u001b[39m \n",
       "  \u001b[39m▂\u001b[39m▃\u001b[39m▄\u001b[39m▄\u001b[39m▅\u001b[39m▅\u001b[39m▅\u001b[39m▅\u001b[39m▅\u001b[39m█\u001b[39m█\u001b[39m█\u001b[34m█\u001b[39m\u001b[39m▇\u001b[39m▄\u001b[39m▃\u001b[39m▂\u001b[39m▂\u001b[39m▂\u001b[39m▁\u001b[39m▁\u001b[39m▁\u001b[32m▂\u001b[39m\u001b[39m▂\u001b[39m▁\u001b[39m▁\u001b[39m▁\u001b[39m▁\u001b[39m▁\u001b[39m▁\u001b[39m▁\u001b[39m▁\u001b[39m▁\u001b[39m▁\u001b[39m▁\u001b[39m▁\u001b[39m▁\u001b[39m▁\u001b[39m▁\u001b[39m▂\u001b[39m▂\u001b[39m▂\u001b[39m▃\u001b[39m▄\u001b[39m▅\u001b[39m▅\u001b[39m▆\u001b[39m▆\u001b[39m▅\u001b[39m▅\u001b[39m▄\u001b[39m▅\u001b[39m▄\u001b[39m▄\u001b[39m▃\u001b[39m▃\u001b[39m▃\u001b[39m \u001b[39m▃\n",
       "  2.09 ms\u001b[90m        Histogram: frequency by time\u001b[39m       7.11 ms \u001b[0m\u001b[1m<\u001b[22m\n",
       "\n",
       " Memory estimate\u001b[90m: \u001b[39m\u001b[33m13.51 MiB\u001b[39m, allocs estimate\u001b[90m: \u001b[39m\u001b[33m4827\u001b[39m."
      ]
     },
     "execution_count": 10,
     "metadata": {},
     "output_type": "execute_result"
    }
   ],
   "source": [
    "@benchmark Conv_backward_v2(input, weights, bias, gradient)"
   ]
  },
  {
   "cell_type": "code",
   "execution_count": 11,
   "id": "4bcbb4f8",
   "metadata": {},
   "outputs": [
    {
     "data": {
      "text/plain": [
       "BenchmarkTools.Trial: 10000 samples with 1 evaluation.\n",
       " Range \u001b[90m(\u001b[39m\u001b[36m\u001b[1mmin\u001b[22m\u001b[39m … \u001b[35mmax\u001b[39m\u001b[90m):  \u001b[39m\u001b[36m\u001b[1m243.333 μs\u001b[22m\u001b[39m … \u001b[35m 2.325 ms\u001b[39m  \u001b[90m┊\u001b[39m GC \u001b[90m(\u001b[39mmin … max\u001b[90m): \u001b[39m0.00% … 85.95%\n",
       " Time  \u001b[90m(\u001b[39m\u001b[34m\u001b[1mmedian\u001b[22m\u001b[39m\u001b[90m):     \u001b[39m\u001b[34m\u001b[1m256.250 μs              \u001b[22m\u001b[39m\u001b[90m┊\u001b[39m GC \u001b[90m(\u001b[39mmedian\u001b[90m):    \u001b[39m0.00%\n",
       " Time  \u001b[90m(\u001b[39m\u001b[32m\u001b[1mmean\u001b[22m\u001b[39m ± \u001b[32mσ\u001b[39m\u001b[90m):   \u001b[39m\u001b[32m\u001b[1m267.152 μs\u001b[22m\u001b[39m ± \u001b[32m96.733 μs\u001b[39m  \u001b[90m┊\u001b[39m GC \u001b[90m(\u001b[39mmean ± σ\u001b[90m):  \u001b[39m3.80% ±  8.23%\n",
       "\n",
       "  \u001b[39m█\u001b[34m█\u001b[39m\u001b[32m▅\u001b[39m\u001b[39m▂\u001b[39m▁\u001b[39m \u001b[39m \u001b[39m \u001b[39m \u001b[39m \u001b[39m \u001b[39m \u001b[39m \u001b[39m \u001b[39m \u001b[39m \u001b[39m \u001b[39m \u001b[39m \u001b[39m \u001b[39m \u001b[39m \u001b[39m \u001b[39m \u001b[39m \u001b[39m \u001b[39m \u001b[39m \u001b[39m \u001b[39m \u001b[39m \u001b[39m \u001b[39m \u001b[39m \u001b[39m \u001b[39m \u001b[39m \u001b[39m \u001b[39m \u001b[39m \u001b[39m \u001b[39m \u001b[39m \u001b[39m \u001b[39m \u001b[39m \u001b[39m \u001b[39m \u001b[39m \u001b[39m \u001b[39m \u001b[39m \u001b[39m \u001b[39m \u001b[39m \u001b[39m \u001b[39m \u001b[39m \u001b[39m \u001b[39m \u001b[39m \u001b[39m▂\n",
       "  \u001b[39m█\u001b[34m█\u001b[39m\u001b[32m█\u001b[39m\u001b[39m█\u001b[39m█\u001b[39m▇\u001b[39m█\u001b[39m▅\u001b[39m▄\u001b[39m▄\u001b[39m▃\u001b[39m▁\u001b[39m▁\u001b[39m▁\u001b[39m▁\u001b[39m▁\u001b[39m▁\u001b[39m▁\u001b[39m▁\u001b[39m▁\u001b[39m▁\u001b[39m▁\u001b[39m▁\u001b[39m▁\u001b[39m▁\u001b[39m▁\u001b[39m▁\u001b[39m▁\u001b[39m▁\u001b[39m▁\u001b[39m▁\u001b[39m▁\u001b[39m▁\u001b[39m▁\u001b[39m▁\u001b[39m▁\u001b[39m▁\u001b[39m▁\u001b[39m▁\u001b[39m▁\u001b[39m▁\u001b[39m▁\u001b[39m▁\u001b[39m▁\u001b[39m▁\u001b[39m▁\u001b[39m▁\u001b[39m▁\u001b[39m▁\u001b[39m▁\u001b[39m▁\u001b[39m▁\u001b[39m▁\u001b[39m▄\u001b[39m▄\u001b[39m▄\u001b[39m▃\u001b[39m▄\u001b[39m▅\u001b[39m▅\u001b[39m \u001b[39m█\n",
       "  243 μs\u001b[90m        \u001b[39m\u001b[90mHistogram: \u001b[39m\u001b[90m\u001b[1mlog(\u001b[22m\u001b[39m\u001b[90mfrequency\u001b[39m\u001b[90m\u001b[1m)\u001b[22m\u001b[39m\u001b[90m by time\u001b[39m       986 μs \u001b[0m\u001b[1m<\u001b[22m\n",
       "\n",
       " Memory estimate\u001b[90m: \u001b[39m\u001b[33m547.64 KiB\u001b[39m, allocs estimate\u001b[90m: \u001b[39m\u001b[33m4149\u001b[39m."
      ]
     },
     "execution_count": 11,
     "metadata": {},
     "output_type": "execute_result"
    }
   ],
   "source": [
    "@benchmark Conv_backward_v3(input, weights, bias, gradient)"
   ]
  },
  {
   "cell_type": "code",
   "execution_count": 12,
   "id": "cdb067e2-2701-476e-b629-f194cd2f4dc3",
   "metadata": {},
   "outputs": [
    {
     "data": {
      "text/plain": [
       "BenchmarkTools.Trial: 10000 samples with 1 evaluation.\n",
       " Range \u001b[90m(\u001b[39m\u001b[36m\u001b[1mmin\u001b[22m\u001b[39m … \u001b[35mmax\u001b[39m\u001b[90m):  \u001b[39m\u001b[36m\u001b[1m243.417 μs\u001b[22m\u001b[39m … \u001b[35m 2.349 ms\u001b[39m  \u001b[90m┊\u001b[39m GC \u001b[90m(\u001b[39mmin … max\u001b[90m): \u001b[39m0.00% … 86.14%\n",
       " Time  \u001b[90m(\u001b[39m\u001b[34m\u001b[1mmedian\u001b[22m\u001b[39m\u001b[90m):     \u001b[39m\u001b[34m\u001b[1m256.083 μs              \u001b[22m\u001b[39m\u001b[90m┊\u001b[39m GC \u001b[90m(\u001b[39mmedian\u001b[90m):    \u001b[39m0.00%\n",
       " Time  \u001b[90m(\u001b[39m\u001b[32m\u001b[1mmean\u001b[22m\u001b[39m ± \u001b[32mσ\u001b[39m\u001b[90m):   \u001b[39m\u001b[32m\u001b[1m266.551 μs\u001b[22m\u001b[39m ± \u001b[32m91.225 μs\u001b[39m  \u001b[90m┊\u001b[39m GC \u001b[90m(\u001b[39mmean ± σ\u001b[90m):  \u001b[39m3.59% ±  8.10%\n",
       "\n",
       "  \u001b[39m█\u001b[34m█\u001b[39m\u001b[32m▅\u001b[39m\u001b[39m▃\u001b[39m▁\u001b[39m \u001b[39m \u001b[39m \u001b[39m \u001b[39m \u001b[39m \u001b[39m \u001b[39m \u001b[39m \u001b[39m \u001b[39m \u001b[39m \u001b[39m \u001b[39m \u001b[39m \u001b[39m \u001b[39m \u001b[39m \u001b[39m \u001b[39m \u001b[39m \u001b[39m \u001b[39m \u001b[39m \u001b[39m \u001b[39m \u001b[39m \u001b[39m \u001b[39m \u001b[39m \u001b[39m \u001b[39m \u001b[39m \u001b[39m \u001b[39m \u001b[39m \u001b[39m \u001b[39m \u001b[39m \u001b[39m \u001b[39m \u001b[39m \u001b[39m \u001b[39m \u001b[39m \u001b[39m \u001b[39m \u001b[39m \u001b[39m \u001b[39m \u001b[39m \u001b[39m \u001b[39m \u001b[39m \u001b[39m \u001b[39m \u001b[39m▂\n",
       "  \u001b[39m█\u001b[34m█\u001b[39m\u001b[32m█\u001b[39m\u001b[39m█\u001b[39m█\u001b[39m▇\u001b[39m▄\u001b[39m▃\u001b[39m▁\u001b[39m▁\u001b[39m▁\u001b[39m▁\u001b[39m▁\u001b[39m▁\u001b[39m▁\u001b[39m▁\u001b[39m▁\u001b[39m▁\u001b[39m▁\u001b[39m▁\u001b[39m▁\u001b[39m▁\u001b[39m▁\u001b[39m▁\u001b[39m▁\u001b[39m▁\u001b[39m▁\u001b[39m▁\u001b[39m▁\u001b[39m▁\u001b[39m▁\u001b[39m▁\u001b[39m▁\u001b[39m▁\u001b[39m▁\u001b[39m▁\u001b[39m▁\u001b[39m▁\u001b[39m▁\u001b[39m▁\u001b[39m▁\u001b[39m▁\u001b[39m▁\u001b[39m▁\u001b[39m▁\u001b[39m▁\u001b[39m▃\u001b[39m▁\u001b[39m▁\u001b[39m▁\u001b[39m▁\u001b[39m▁\u001b[39m▁\u001b[39m▁\u001b[39m▄\u001b[39m▅\u001b[39m▃\u001b[39m▅\u001b[39m▅\u001b[39m▄\u001b[39m \u001b[39m█\n",
       "  243 μs\u001b[90m        \u001b[39m\u001b[90mHistogram: \u001b[39m\u001b[90m\u001b[1mlog(\u001b[22m\u001b[39m\u001b[90mfrequency\u001b[39m\u001b[90m\u001b[1m)\u001b[22m\u001b[39m\u001b[90m by time\u001b[39m       938 μs \u001b[0m\u001b[1m<\u001b[22m\n",
       "\n",
       " Memory estimate\u001b[90m: \u001b[39m\u001b[33m547.64 KiB\u001b[39m, allocs estimate\u001b[90m: \u001b[39m\u001b[33m4149\u001b[39m."
      ]
     },
     "execution_count": 12,
     "metadata": {},
     "output_type": "execute_result"
    }
   ],
   "source": [
    "@benchmark Conv_backward_v3(input, weights, bias, gradient)"
   ]
  },
  {
   "cell_type": "code",
   "execution_count": 19,
   "id": "8ddc272c-9ddd-46f3-a879-e3aa8cdce315",
   "metadata": {},
   "outputs": [
    {
     "data": {
      "text/plain": [
       "BenchmarkTools.Trial: 10000 samples with 1 evaluation.\n",
       " Range \u001b[90m(\u001b[39m\u001b[36m\u001b[1mmin\u001b[22m\u001b[39m … \u001b[35mmax\u001b[39m\u001b[90m):  \u001b[39m\u001b[36m\u001b[1m250.250 μs\u001b[22m\u001b[39m … \u001b[35m 1.009 ms\u001b[39m  \u001b[90m┊\u001b[39m GC \u001b[90m(\u001b[39mmin … max\u001b[90m): \u001b[39m0.00% … 68.54%\n",
       " Time  \u001b[90m(\u001b[39m\u001b[34m\u001b[1mmedian\u001b[22m\u001b[39m\u001b[90m):     \u001b[39m\u001b[34m\u001b[1m257.417 μs              \u001b[22m\u001b[39m\u001b[90m┊\u001b[39m GC \u001b[90m(\u001b[39mmedian\u001b[90m):    \u001b[39m0.00%\n",
       " Time  \u001b[90m(\u001b[39m\u001b[32m\u001b[1mmean\u001b[22m\u001b[39m ± \u001b[32mσ\u001b[39m\u001b[90m):   \u001b[39m\u001b[32m\u001b[1m261.891 μs\u001b[22m\u001b[39m ± \u001b[32m28.938 μs\u001b[39m  \u001b[90m┊\u001b[39m GC \u001b[90m(\u001b[39mmean ± σ\u001b[90m):  \u001b[39m0.96% ±  4.74%\n",
       "\n",
       "  \u001b[39m \u001b[39m \u001b[39m \u001b[39m \u001b[39m▁\u001b[39m▇\u001b[39m█\u001b[39m▄\u001b[34m▂\u001b[39m\u001b[39m \u001b[39m \u001b[39m \u001b[32m \u001b[39m\u001b[39m \u001b[39m \u001b[39m \u001b[39m \u001b[39m \u001b[39m \u001b[39m \u001b[39m \u001b[39m \u001b[39m \u001b[39m \u001b[39m \u001b[39m \u001b[39m \u001b[39m \u001b[39m \u001b[39m \u001b[39m \u001b[39m \u001b[39m \u001b[39m \u001b[39m \u001b[39m \u001b[39m \u001b[39m \u001b[39m \u001b[39m \u001b[39m \u001b[39m \u001b[39m \u001b[39m \u001b[39m \u001b[39m \u001b[39m \u001b[39m \u001b[39m \u001b[39m \u001b[39m \u001b[39m \u001b[39m \u001b[39m \u001b[39m \u001b[39m \u001b[39m \u001b[39m \u001b[39m \u001b[39m \u001b[39m \u001b[39m \n",
       "  \u001b[39m▂\u001b[39m▂\u001b[39m▃\u001b[39m▄\u001b[39m█\u001b[39m█\u001b[39m█\u001b[39m█\u001b[34m█\u001b[39m\u001b[39m█\u001b[39m▆\u001b[39m▅\u001b[32m▅\u001b[39m\u001b[39m▄\u001b[39m▄\u001b[39m▄\u001b[39m▃\u001b[39m▃\u001b[39m▃\u001b[39m▃\u001b[39m▃\u001b[39m▃\u001b[39m▃\u001b[39m▂\u001b[39m▂\u001b[39m▂\u001b[39m▂\u001b[39m▂\u001b[39m▂\u001b[39m▂\u001b[39m▂\u001b[39m▂\u001b[39m▂\u001b[39m▂\u001b[39m▂\u001b[39m▂\u001b[39m▂\u001b[39m▂\u001b[39m▂\u001b[39m▂\u001b[39m▂\u001b[39m▂\u001b[39m▂\u001b[39m▂\u001b[39m▂\u001b[39m▂\u001b[39m▂\u001b[39m▁\u001b[39m▂\u001b[39m▂\u001b[39m▂\u001b[39m▁\u001b[39m▂\u001b[39m▁\u001b[39m▂\u001b[39m▁\u001b[39m▂\u001b[39m▂\u001b[39m▁\u001b[39m▂\u001b[39m \u001b[39m▃\n",
       "  250 μs\u001b[90m          Histogram: frequency by time\u001b[39m          307 μs \u001b[0m\u001b[1m<\u001b[22m\n",
       "\n",
       " Memory estimate\u001b[90m: \u001b[39m\u001b[33m423.98 KiB\u001b[39m, allocs estimate\u001b[90m: \u001b[39m\u001b[33m4083\u001b[39m."
      ]
     },
     "execution_count": 19,
     "metadata": {},
     "output_type": "execute_result"
    }
   ],
   "source": [
    "@benchmark Conv_backward_v4(input, weights, bias, gradient)"
   ]
  },
  {
   "cell_type": "code",
   "execution_count": null,
   "id": "37a4d68d-9936-402a-8c47-166e1bce721d",
   "metadata": {},
   "outputs": [],
   "source": []
  }
 ],
 "metadata": {
  "kernelspec": {
   "display_name": "Julia 1.10.2",
   "language": "julia",
   "name": "julia-1.10"
  },
  "language_info": {
   "file_extension": ".jl",
   "mimetype": "application/julia",
   "name": "julia",
   "version": "1.10.3"
  }
 },
 "nbformat": 4,
 "nbformat_minor": 5
}
