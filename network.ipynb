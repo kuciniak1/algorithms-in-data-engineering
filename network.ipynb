{
 "cells": [
  {
   "cell_type": "code",
   "execution_count": 1,
   "id": "b30ce09b-a442-42b3-a916-b23e9b2c2c69",
   "metadata": {},
   "outputs": [],
   "source": [
    "include(\"graph.jl\")\n",
    "include(\"base_operators.jl\")\n",
    "\n",
    "include(\"Convolution.jl\")\n",
    "include(\"Dense.jl\")\n",
    "include(\"Flatten.jl\")\n",
    "include(\"MaxPool.jl\")\n",
    "include(\"ReLu.jl\")\n",
    "\n",
    "include(\"misc.jl\")\n",
    "include(\"DataLoader.jl\")"
   ]
  },
  {
   "cell_type": "code",
   "execution_count": 2,
   "id": "4adfa7d9-0af1-431f-9774-6b342344ed8b",
   "metadata": {},
   "outputs": [
    {
     "name": "stderr",
     "output_type": "stream",
     "text": [
      "WARNING: using ProgressMeter.update! in module Main conflicts with an existing identifier.\n"
     ]
    }
   ],
   "source": [
    "using MLDatasets;\n",
    "using BenchmarkTools;\n",
    "using Random;\n",
    "using ProgressMeter;"
   ]
  },
  {
   "cell_type": "code",
   "execution_count": 3,
   "id": "100f0408-51ec-4354-9238-87d559775dee",
   "metadata": {},
   "outputs": [],
   "source": [
    "# Settings\n",
    "eta = Float32(1e-2);\n",
    "epochs = 3;\n",
    "batchsize = 100;"
   ]
  },
  {
   "cell_type": "code",
   "execution_count": 4,
   "id": "2f624453-65cd-4101-9198-90fdb671b46c",
   "metadata": {},
   "outputs": [],
   "source": [
    "train_dataset = MNIST(:train);\n",
    "train_samples = size(train_dataset.features)[3];\n",
    "test_dataset = MNIST(:test);\n",
    "test_samples = size(test_dataset.features)[3];"
   ]
  },
  {
   "cell_type": "code",
   "execution_count": 5,
   "id": "3888b872-a7bc-4df7-92fa-a2b6f7547d99",
   "metadata": {},
   "outputs": [
    {
     "data": {
      "text/plain": [
       "loader (generic function with 1 method)"
      ]
     },
     "execution_count": 5,
     "metadata": {},
     "output_type": "execute_result"
    }
   ],
   "source": [
    "function loader(data, batchsize, shuffle)\n",
    "    x = reshape(data.features, 28, 28, 1, :)\n",
    "    yhot = onehotbatch(data.targets, 0:9)\n",
    "    DataLoader((x, yhot), batchsize, shuffle)\n",
    "end"
   ]
  },
  {
   "cell_type": "code",
   "execution_count": 6,
   "id": "59198f5f-6b21-4ae9-ae4a-9218e7c9e12c",
   "metadata": {},
   "outputs": [
    {
     "data": {
      "text/plain": [
       "var actual_class\n",
       " ┣━ value:    Int64\n",
       " ┗━ gradient: Nothing"
      ]
     },
     "execution_count": 6,
     "metadata": {},
     "output_type": "execute_result"
    }
   ],
   "source": [
    "# obraz wejściowy i rzeczywista wartość\n",
    "img = Variable(train_dataset[1].features, name=\"img\")\n",
    "actual_class = Variable(train_dataset[1].targets, name=\"actual_class\")"
   ]
  },
  {
   "cell_type": "code",
   "execution_count": 7,
   "id": "3dc44dc2-87d3-4ee8-a1d0-e0ab8d8cbe36",
   "metadata": {},
   "outputs": [
    {
     "data": {
      "text/plain": [
       "(Any[var actual_class\n",
       " ┣━ value:    Int64\n",
       " ┗━ gradient: Nothing, op ?(typeof(-)), var w4\n",
       " ┣━ value:    10×84 Matrix{Float32}\n",
       " ┗━ gradient: Nothing, var w3\n",
       " ┣━ value:    84×400 Matrix{Float32}\n",
       " ┗━ gradient: Nothing, var img\n",
       " ┣━ value:    28×28 Matrix{Float32}\n",
       " ┗━ gradient: Nothing, var w1\n",
       " ┣━ value:    3×3×1×6 Array{Float32, 4}\n",
       " ┗━ gradient: Nothing, var b1\n",
       " ┣━ value:    6-element Vector{Float32}\n",
       " ┗━ gradient: Nothing, op.?(typeof(Convolution)), op.?(typeof(ReLu)), const (2, 2)  …  var b3\n",
       " ┣━ value:    84-element Vector{Float32}\n",
       " ┗━ gradient: Nothing, op.?(typeof(+)), op.?(typeof(ReLu)), op.?(typeof(mul!)), var b4\n",
       " ┣━ value:    10-element Vector{Float32}\n",
       " ┗━ gradient: Nothing, op.?(typeof(+)), op.?(typeof(Softmax)), op.?(typeof(log)), op.?(typeof(*)), op.?(typeof(sum))], op.?(typeof(Softmax)))"
      ]
     },
     "execution_count": 7,
     "metadata": {},
     "output_type": "execute_result"
    }
   ],
   "source": [
    "function net_hard(x, w1, w2, w3, w4, b1, b2, b3, b4, y)\n",
    "    o1 = Conv(x, w1, b1, ReLu)\n",
    "    o2 = MaxPool(o1, Constant((2,2)))\n",
    "    o3 = Conv(o2, w2, b2, ReLu)\n",
    "    o4 = MaxPool(o3, Constant((2,2)))\n",
    "    o5 = Flatten(o4)\n",
    "    o6 = Dense(w3, b3, o5, ReLu)\n",
    "    o7 = Dense(w4, b4, o6, Softmax)\n",
    "    E = cross_entropy_loss(o7, y)\n",
    "    return topological_sort(E), o7\n",
    "end\n",
    "\n",
    "w1 = Variable(glorot_uniform((3,3,1,6)), name=\"w1\")\n",
    "b1 = Variable(zeros(Float32, 6), name=\"b1\")\n",
    "\n",
    "w2 = Variable(glorot_uniform((3,3,6,16)), name=\"w2\")\n",
    "b2 = Variable(zeros(Float32, 16), name=\"b2\")\n",
    "\n",
    "w3 = Variable(glorot_uniform((84, 400)), name = \"w3\")\n",
    "b3 = Variable(zeros(Float32, 84), name=\"b3\")\n",
    "\n",
    "w4 = Variable(glorot_uniform((10, 84)), name = \"w4\")\n",
    "b4 = Variable(zeros(Float32, 10), name=\"b4\")\n",
    "\n",
    "graph, y_output = net_hard(img, w1, w2, w3, w4, b1, b2, b3, b4, actual_class)"
   ]
  },
  {
   "cell_type": "code",
   "execution_count": 8,
   "id": "d6292115-a21b-467a-8661-93aaa934b96e",
   "metadata": {},
   "outputs": [],
   "source": [
    "# function net_easy(x, w1, w2, w3, y)\n",
    "#     o1 = Conv(x, w1, ReLu)\n",
    "#     o2 = MaxPool(o1, Constant((2,2)))\n",
    "#     o3 = Flatten(o2)\n",
    "#     o4 = Dense(w2, o3, ReLu)\n",
    "#     o5 = Dense(w3, o4, Softmax)\n",
    "#     E = cross_entropy_loss(o5, y)\n",
    "\n",
    "#     return topological_sort(E), o5\n",
    "# end\n",
    "\n",
    "# w1 = Variable(glorot_uniform((3,3,1,6)), name=\"w1\")\n",
    "# w2 = Variable(glorot_uniform((84, 1014)), name=\"w2\")   \n",
    "# w3 = Variable(glorot_uniform((10, 84)), name=\"w3\") \n",
    "\n",
    "# graph, y_output = net_easy(img, w1, w2, w3, actual_class)"
   ]
  },
  {
   "cell_type": "code",
   "execution_count": 9,
   "id": "b8103374-b656-43bd-bcc3-5a958ed46db2",
   "metadata": {},
   "outputs": [
    {
     "name": "stdout",
     "output_type": "stream",
     "text": [
      " 68.751935 seconds (56.65 M allocations: 25.927 GiB, 1.45% gc time, 6.98% compilation time)\n"
     ]
    },
    {
     "name": "stderr",
     "output_type": "stream",
     "text": [
      "\u001b[36m\u001b[1m┌ \u001b[22m\u001b[39m\u001b[36m\u001b[1mInfo: \u001b[22m\u001b[39mTrain results\n",
      "\u001b[36m\u001b[1m│ \u001b[22m\u001b[39m  epoch = 1\n",
      "\u001b[36m\u001b[1m│ \u001b[22m\u001b[39m  avg_loss = 0.6794872f0\n",
      "\u001b[36m\u001b[1m└ \u001b[22m\u001b[39m  train_acc = 79.26666666666667\n"
     ]
    },
    {
     "name": "stdout",
     "output_type": "stream",
     "text": [
      " 64.050208 seconds (46.47 M allocations: 25.250 GiB, 1.43% gc time)\n"
     ]
    },
    {
     "name": "stderr",
     "output_type": "stream",
     "text": [
      "\u001b[36m\u001b[1m┌ \u001b[22m\u001b[39m\u001b[36m\u001b[1mInfo: \u001b[22m\u001b[39mTrain results\n",
      "\u001b[36m\u001b[1m│ \u001b[22m\u001b[39m  epoch = 2\n",
      "\u001b[36m\u001b[1m│ \u001b[22m\u001b[39m  avg_loss = 0.26918536f0\n",
      "\u001b[36m\u001b[1m└ \u001b[22m\u001b[39m  train_acc = 91.86666666666666\n"
     ]
    },
    {
     "name": "stdout",
     "output_type": "stream",
     "text": [
      " 63.945918 seconds (46.47 M allocations: 25.250 GiB, 1.46% gc time)\n"
     ]
    },
    {
     "name": "stderr",
     "output_type": "stream",
     "text": [
      "\u001b[36m\u001b[1m┌ \u001b[22m\u001b[39m\u001b[36m\u001b[1mInfo: \u001b[22m\u001b[39mTrain results\n",
      "\u001b[36m\u001b[1m│ \u001b[22m\u001b[39m  epoch = 3\n",
      "\u001b[36m\u001b[1m│ \u001b[22m\u001b[39m  avg_loss = 0.20540917f0\n",
      "\u001b[36m\u001b[1m└ \u001b[22m\u001b[39m  train_acc = 93.82666666666667\n"
     ]
    }
   ],
   "source": [
    "w1_grad = zeros(Float32, 3,3,1,6)\n",
    "w2_grad = zeros(Float32, 3,3,6,16)\n",
    "w3_grad = zeros(Float32, 84,400)\n",
    "w4_grad = zeros(Float32, 10, 84)\n",
    "\n",
    "b1_grad = zeros(Float32, 6)\n",
    "b2_grad = zeros(Float32, 16)\n",
    "b3_grad = zeros(Float32, 84)\n",
    "b4_grad = zeros(Float32, 10)\n",
    "\n",
    "# w1_grad = zeros(Float32, 3,3,1,6)\n",
    "# w2_grad = zeros(Float32, 84, 1014)\n",
    "# w3_grad = zeros(Float32, 10, 84)\n",
    "i = 0\n",
    "for epoch in 1:epochs\n",
    "    train_loss = 0\n",
    "    train_acc = 0\n",
    "    #@time @showprogress dt=1 barglyphs=BarGlyphs('|','█', ['▁' ,'▂' ,'▃' ,'▄' ,'▅' ,'▆', '▇'],' ','|',) desc=\"Training...\" for i in 1:train_samples\n",
    "    @time for (input, target) in loader(train_dataset, batchsize, true)\n",
    "            for i in 1:batchsize\n",
    "                @views img.output = input[i]\n",
    "                @views actual_class.output = target[i]\n",
    "                train_loss += forward!(graph)\n",
    "    \t\t\tbackward!(graph)\n",
    "        \n",
    "                onecold(y_output.output, 0:9) == onecold(target[i], 0:9) ? train_acc+=1 : nothing\n",
    "            \n",
    "                w1_grad .+= w1.gradient\n",
    "                w2_grad .+= w2.gradient\n",
    "                w3_grad .+= w3.gradient\n",
    "                w4_grad .+= w4.gradient\n",
    "\n",
    "                b1_grad .+= b1.gradient\n",
    "                b2_grad .+= b2.gradient\n",
    "                b3_grad .+= b3.gradient\n",
    "                b4_grad .+= b4.gradient\n",
    "            end\n",
    "            w1.output .-= ((w1_grad/batchsize)*eta)\n",
    "            w2.output .-= ((w2_grad/batchsize)*eta)\n",
    "            w3.output .-= ((w3_grad/batchsize)*eta)\n",
    "            w4.output .-= ((w4_grad/batchsize)*eta)\n",
    "            b1.output .-= ((b1_grad/batchsize)*eta)\n",
    "            b2.output .-= ((b2_grad/batchsize)*eta)\n",
    "            b3.output .-= ((b3_grad/batchsize)*eta)\n",
    "            b4.output .-= ((b4_grad/batchsize)*eta)\n",
    "\n",
    "            \n",
    "            w1_grad .= 0\n",
    "            w2_grad .= 0\n",
    "            w3_grad .= 0\n",
    "            w4_grad .= 0\n",
    "            \n",
    "            b1_grad .= 0\n",
    "            b2_grad .= 0\n",
    "            b3_grad .= 0\n",
    "            b4_grad .= 0\n",
    "\n",
    "        end\n",
    "    avg_loss = train_loss/train_samples\n",
    "    train_acc = train_acc/train_samples * 100\n",
    "    \n",
    "    @info \"Train results\" epoch avg_loss train_acc\n",
    "end"
   ]
  },
  {
   "cell_type": "code",
   "execution_count": 10,
   "id": "aa4dada5-2c91-4d26-a051-52688920cc4d",
   "metadata": {},
   "outputs": [
    {
     "name": "stderr",
     "output_type": "stream",
     "text": [
      "\u001b[32mTesting... 100%|█████████████████████████████████████████| Time: 0:00:06\u001b[39m\n"
     ]
    },
    {
     "name": "stdout",
     "output_type": "stream",
     "text": [
      "  6.321893 seconds (4.96 M allocations: 1.019 GiB, 0.97% gc time, 17.75% compilation time)\n"
     ]
    },
    {
     "name": "stderr",
     "output_type": "stream",
     "text": [
      "\u001b[36m\u001b[1m┌ \u001b[22m\u001b[39m\u001b[36m\u001b[1mInfo: \u001b[22m\u001b[39mTest results\n",
      "\u001b[36m\u001b[1m│ \u001b[22m\u001b[39m  avg_loss = 0.1717206465383466\n",
      "\u001b[36m\u001b[1m└ \u001b[22m\u001b[39m  test_acc = 95.1\n"
     ]
    }
   ],
   "source": [
    "test_acc = 0;\n",
    "test_losses = zeros(test_samples);\n",
    "\n",
    "@time @showprogress dt=1 barglyphs=BarGlyphs('|','█', ['▁' ,'▂' ,'▃' ,'▄' ,'▅' ,'▆', '▇'],' ','|',) desc=\"Testing...\" for i in 1:test_samples\n",
    "    img.output = reshape(test_dataset[i].features, 28,28,1)\n",
    "    actual_class.output = onehot(test_dataset[i].targets, 0:9)\n",
    "    loss_value = forward!(graph)\n",
    "    test_losses[i] = loss_value\n",
    "    onecold(y_output.output, 0:9) == test_dataset[i].targets ? test_acc+=1 : nothing\n",
    "end\n",
    "test_acc = test_acc/test_samples * 100\n",
    "avg_loss = mean(test_losses)\n",
    "\n",
    "@info \"Test results\" avg_loss test_acc"
   ]
  }
 ],
 "metadata": {
  "kernelspec": {
   "display_name": "Julia 1.10.2",
   "language": "julia",
   "name": "julia-1.10"
  },
  "language_info": {
   "file_extension": ".jl",
   "mimetype": "application/julia",
   "name": "julia",
   "version": "1.10.3"
  }
 },
 "nbformat": 4,
 "nbformat_minor": 5
}
