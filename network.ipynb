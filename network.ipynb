{
 "cells": [
  {
   "cell_type": "code",
   "execution_count": 1,
   "id": "b30ce09b-a442-42b3-a916-b23e9b2c2c69",
   "metadata": {},
   "outputs": [],
   "source": [
    "include(\"graph.jl\")\n",
    "include(\"base_operators.jl\")\n",
    "\n",
    "include(\"Convolution.jl\")\n",
    "include(\"Dense.jl\")\n",
    "include(\"Flatten.jl\")\n",
    "include(\"MaxPool.jl\")\n",
    "include(\"ReLu.jl\")\n",
    "\n",
    "include(\"misc.jl\")\n",
    "include(\"DataLoader.jl\")"
   ]
  },
  {
   "cell_type": "code",
   "execution_count": 2,
   "id": "4adfa7d9-0af1-431f-9774-6b342344ed8b",
   "metadata": {},
   "outputs": [
    {
     "name": "stderr",
     "output_type": "stream",
     "text": [
      "WARNING: using ProgressMeter.update! in module Main conflicts with an existing identifier.\n"
     ]
    }
   ],
   "source": [
    "using MLDatasets;\n",
    "using BenchmarkTools;\n",
    "using Random;\n",
    "using ProgressMeter;"
   ]
  },
  {
   "cell_type": "code",
   "execution_count": 3,
   "id": "100f0408-51ec-4354-9238-87d559775dee",
   "metadata": {},
   "outputs": [],
   "source": [
    "# Settings\n",
    "eta = Float32(1e-2);\n",
    "epochs = 3;\n",
    "batchsize = 100;"
   ]
  },
  {
   "cell_type": "code",
   "execution_count": 4,
   "id": "2f624453-65cd-4101-9198-90fdb671b46c",
   "metadata": {},
   "outputs": [],
   "source": [
    "train_dataset = MNIST(:train);\n",
    "train_samples = size(train_dataset.features)[3];\n",
    "test_dataset = MNIST(:test);\n",
    "test_samples = size(test_dataset.features)[3];"
   ]
  },
  {
   "cell_type": "code",
   "execution_count": 5,
   "id": "3888b872-a7bc-4df7-92fa-a2b6f7547d99",
   "metadata": {},
   "outputs": [
    {
     "data": {
      "text/plain": [
       "loader (generic function with 1 method)"
      ]
     },
     "execution_count": 5,
     "metadata": {},
     "output_type": "execute_result"
    }
   ],
   "source": [
    "function loader(data, batchsize, shuffle)\n",
    "    x = reshape(data.features, 28, 28, 1, :)\n",
    "    yhot = onehotbatch(data.targets, 0:9)\n",
    "    DataLoader((x, yhot), batchsize, shuffle)\n",
    "end"
   ]
  },
  {
   "cell_type": "code",
   "execution_count": 6,
   "id": "59198f5f-6b21-4ae9-ae4a-9218e7c9e12c",
   "metadata": {},
   "outputs": [
    {
     "data": {
      "text/plain": [
       "var actual_class\n",
       " ┣━ value:    Int64\n",
       " ┗━ gradient: Nothing"
      ]
     },
     "execution_count": 6,
     "metadata": {},
     "output_type": "execute_result"
    }
   ],
   "source": [
    "# obraz wejściowy i rzeczywista wartość\n",
    "img = Variable(reshape(train_dataset[1].features, 28, 28, 1), name=\"img\")\n",
    "actual_class = Variable(train_dataset[1].targets, name=\"actual_class\")"
   ]
  },
  {
   "cell_type": "code",
   "execution_count": 7,
   "id": "d855dba7-dace-478d-8787-e88e684dd4a5",
   "metadata": {},
   "outputs": [
    {
     "data": {
      "text/plain": [
       "var b4\n",
       " ┣━ value:    10-element Vector{Float32}\n",
       " ┗━ gradient: Nothing"
      ]
     },
     "execution_count": 7,
     "metadata": {},
     "output_type": "execute_result"
    }
   ],
   "source": [
    "w1 = Variable(glorot_uniform((3,3,1,6)), name=\"w1\")\n",
    "b1 = Variable(zeros(Float32, 6), name=\"b1\")\n",
    "w2 = Variable(glorot_uniform((3,3,6,16)), name=\"w2\")\n",
    "b2 = Variable(zeros(Float32, 16), name=\"b2\")\n",
    "w3 = Variable(glorot_uniform((84, 400)), name = \"w3\")\n",
    "b3 = Variable(zeros(Float32, 84), name=\"b3\")\n",
    "w4 = Variable(glorot_uniform((10, 84)), name = \"w4\")\n",
    "b4 = Variable(zeros(Float32, 10), name=\"b4\")"
   ]
  },
  {
   "cell_type": "code",
   "execution_count": 8,
   "id": "3dc44dc2-87d3-4ee8-a1d0-e0ab8d8cbe36",
   "metadata": {},
   "outputs": [],
   "source": [
    "function net_hard(x, w1, w2, w3, w4, b1, b2, b3, b4, y)\n",
    "    o1 = Conv(x, w1, b1)\n",
    "    o2 = ReLu(o1)\n",
    "    o3 = MaxPool(o2, Constant((2,2)))\n",
    "    o4 = Conv(o3, w2, b2)\n",
    "    o5 = ReLu(o4)\n",
    "    o6 = MaxPool(o5, Constant((2,2)))\n",
    "    o7 = Flatten(o6)\n",
    "    o8 = Dense(w3, b3, o7)\n",
    "    o9 = ReLu(o8)\n",
    "    o10 = Dense(w4, b4, o9)\n",
    "    o11 = Softmax(o10)\n",
    "    E = cross_entropy_loss(o11, y)\n",
    "    return topological_sort(E), o11\n",
    "end\n",
    "\n",
    "graph, y_output = net_hard(img, w1, w2, w3, w4, b1, b2, b3, b4, actual_class);"
   ]
  },
  {
   "cell_type": "code",
   "execution_count": 9,
   "id": "d6292115-a21b-467a-8661-93aaa934b96e",
   "metadata": {},
   "outputs": [],
   "source": [
    "# function net_easy(x, w1, w2, w3, y)\n",
    "#     o1 = Conv(x, w1, ReLu)\n",
    "#     o2 = MaxPool(o1, Constant((2,2)))\n",
    "#     o3 = Flatten(o2)\n",
    "#     o4 = Dense(w2, o3, ReLu)\n",
    "#     o5 = Dense(w3, o4, Softmax)\n",
    "#     E = cross_entropy_loss(o5, y)\n",
    "\n",
    "#     return topological_sort(E), o5\n",
    "# end\n",
    "\n",
    "# w1 = Variable(glorot_uniform((3,3,1,6)), name=\"w1\")\n",
    "# w2 = Variable(glorot_uniform((84, 1014)), name=\"w2\")   \n",
    "# w3 = Variable(glorot_uniform((10, 84)), name=\"w3\") \n",
    "\n",
    "# graph, y_output = net_easy(img, w1, w2, w3, actual_class)"
   ]
  },
  {
   "cell_type": "code",
   "execution_count": 10,
   "id": "b8103374-b656-43bd-bcc3-5a958ed46db2",
   "metadata": {},
   "outputs": [
    {
     "name": "stdout",
     "output_type": "stream",
     "text": [
      " 66.292455 seconds (47.06 M allocations: 15.554 GiB, 1.61% gc time, 8.18% compilation time)\n"
     ]
    },
    {
     "name": "stderr",
     "output_type": "stream",
     "text": [
      "\u001b[36m\u001b[1m┌ \u001b[22m\u001b[39m\u001b[36m\u001b[1mInfo: \u001b[22m\u001b[39mTrain results\n",
      "\u001b[36m\u001b[1m│ \u001b[22m\u001b[39m  epoch = 1\n",
      "\u001b[36m\u001b[1m│ \u001b[22m\u001b[39m  avg_loss = 2.0583377f0\n",
      "\u001b[36m\u001b[1m└ \u001b[22m\u001b[39m  train_acc = 27.061666666666667\n"
     ]
    },
    {
     "name": "stdout",
     "output_type": "stream",
     "text": [
      " 61.063779 seconds (35.37 M allocations: 14.779 GiB, 1.74% gc time)\n"
     ]
    },
    {
     "name": "stderr",
     "output_type": "stream",
     "text": [
      "\u001b[36m\u001b[1m┌ \u001b[22m\u001b[39m\u001b[36m\u001b[1mInfo: \u001b[22m\u001b[39mTrain results\n",
      "\u001b[36m\u001b[1m│ \u001b[22m\u001b[39m  epoch = 2\n",
      "\u001b[36m\u001b[1m│ \u001b[22m\u001b[39m  avg_loss = 0.5123401f0\n",
      "\u001b[36m\u001b[1m└ \u001b[22m\u001b[39m  train_acc = 85.1\n"
     ]
    },
    {
     "name": "stdout",
     "output_type": "stream",
     "text": [
      " 61.196470 seconds (35.37 M allocations: 14.779 GiB, 1.93% gc time)\n"
     ]
    },
    {
     "name": "stderr",
     "output_type": "stream",
     "text": [
      "\u001b[36m\u001b[1m┌ \u001b[22m\u001b[39m\u001b[36m\u001b[1mInfo: \u001b[22m\u001b[39mTrain results\n",
      "\u001b[36m\u001b[1m│ \u001b[22m\u001b[39m  epoch = 3\n",
      "\u001b[36m\u001b[1m│ \u001b[22m\u001b[39m  avg_loss = 0.3107633f0\n",
      "\u001b[36m\u001b[1m└ \u001b[22m\u001b[39m  train_acc = 90.735\n"
     ]
    }
   ],
   "source": [
    "w1_grad = zeros(Float32, 3,3,1,6)\n",
    "w2_grad = zeros(Float32, 3,3,6,16)\n",
    "w3_grad = zeros(Float32, 84,400)\n",
    "w4_grad = zeros(Float32, 10, 84)\n",
    "\n",
    "b1_grad = zeros(Float32, 6)\n",
    "b2_grad = zeros(Float32, 16)\n",
    "b3_grad = zeros(Float32, 84)\n",
    "b4_grad = zeros(Float32, 10)\n",
    "\n",
    "# w1_grad = zeros(Float32, 3,3,1,6)\n",
    "# w2_grad = zeros(Float32, 84, 1014)\n",
    "# w3_grad = zeros(Float32, 10, 84)\n",
    "i = 0\n",
    "for epoch in 1:epochs\n",
    "    train_loss = 0\n",
    "    train_acc = 0\n",
    "    #@time @showprogress dt=1 barglyphs=BarGlyphs('|','█', ['▁' ,'▂' ,'▃' ,'▄' ,'▅' ,'▆', '▇'],' ','|',) desc=\"Training...\" for i in 1:train_samples\n",
    "    @btime for (input, target) in loader(train_dataset, batchsize, true)\n",
    "            for i in 1:batchsize\n",
    "                @views img.output = input[i]\n",
    "                @views actual_class.output = target[i]\n",
    "                train_loss += forward!(graph)\n",
    "    \t\t\tbackward!(graph)\n",
    "        \n",
    "                onecold(y_output.output, 0:9) == onecold(target[i], 0:9) ? train_acc+=1 : nothing\n",
    "            \n",
    "                w1_grad .+= w1.gradient\n",
    "                w2_grad .+= w2.gradient\n",
    "                w3_grad .+= w3.gradient\n",
    "                w4_grad .+= w4.gradient\n",
    "\n",
    "                b1_grad .+= b1.gradient\n",
    "                b2_grad .+= b2.gradient\n",
    "                b3_grad .+= b3.gradient\n",
    "                b4_grad .+= b4.gradient\n",
    "            end\n",
    "            w1.output .-= ((w1_grad/batchsize)*eta)\n",
    "            w2.output .-= ((w2_grad/batchsize)*eta)\n",
    "            w3.output .-= ((w3_grad/batchsize)*eta)\n",
    "            w4.output .-= ((w4_grad/batchsize)*eta)\n",
    "            b1.output .-= ((b1_grad/batchsize)*eta)\n",
    "            b2.output .-= ((b2_grad/batchsize)*eta)\n",
    "            b3.output .-= ((b3_grad/batchsize)*eta)\n",
    "            b4.output .-= ((b4_grad/batchsize)*eta)\n",
    "\n",
    "            \n",
    "            w1_grad .= 0\n",
    "            w2_grad .= 0\n",
    "            w3_grad .= 0\n",
    "            w4_grad .= 0\n",
    "            \n",
    "            b1_grad .= 0\n",
    "            b2_grad .= 0\n",
    "            b3_grad .= 0\n",
    "            b4_grad .= 0\n",
    "\n",
    "        end\n",
    "    avg_loss = train_loss/train_samples\n",
    "    train_acc = train_acc/train_samples * 100\n",
    "    \n",
    "    @info \"Train results\" epoch avg_loss train_acc\n",
    "end"
   ]
  },
  {
   "cell_type": "code",
   "execution_count": 11,
   "id": "aa4dada5-2c91-4d26-a051-52688920cc4d",
   "metadata": {},
   "outputs": [
    {
     "name": "stderr",
     "output_type": "stream",
     "text": [
      "\u001b[32mTesting... 100%|█████████████████████████████████████████| Time: 0:00:06\u001b[39m\n"
     ]
    },
    {
     "name": "stdout",
     "output_type": "stream",
     "text": [
      "  6.328091 seconds (4.77 M allocations: 626.252 MiB, 0.87% gc time, 18.00% compilation time)\n"
     ]
    },
    {
     "name": "stderr",
     "output_type": "stream",
     "text": [
      "\u001b[36m\u001b[1m┌ \u001b[22m\u001b[39m\u001b[36m\u001b[1mInfo: \u001b[22m\u001b[39mTest results\n",
      "\u001b[36m\u001b[1m│ \u001b[22m\u001b[39m  avg_loss = 0.2553841806242194\n",
      "\u001b[36m\u001b[1m└ \u001b[22m\u001b[39m  test_acc = 92.43\n"
     ]
    }
   ],
   "source": [
    "test_acc = 0;\n",
    "test_losses = zeros(test_samples);\n",
    "\n",
    "@time @showprogress dt=1 barglyphs=BarGlyphs('|','█', ['▁' ,'▂' ,'▃' ,'▄' ,'▅' ,'▆', '▇'],' ','|',) desc=\"Testing...\" for i in 1:test_samples\n",
    "    img.output = reshape(test_dataset[i].features, 28,28,1)\n",
    "    actual_class.output = onehot(test_dataset[i].targets, 0:9)\n",
    "    loss_value = forward!(graph)\n",
    "    test_losses[i] = loss_value\n",
    "    onecold(y_output.output, 0:9) == test_dataset[i].targets ? test_acc+=1 : nothing\n",
    "end\n",
    "test_acc = test_acc/test_samples * 100\n",
    "avg_loss = mean(test_losses)\n",
    "\n",
    "@info \"Test results\" avg_loss test_acc"
   ]
  },
  {
   "cell_type": "code",
   "execution_count": 12,
   "id": "ce2dba25-e5a1-4339-bcd2-39225e9815e7",
   "metadata": {},
   "outputs": [
    {
     "data": {
      "text/plain": [
       "1"
      ]
     },
     "execution_count": 12,
     "metadata": {},
     "output_type": "execute_result"
    }
   ],
   "source": [
    "test = 1"
   ]
  },
  {
   "cell_type": "code",
   "execution_count": 13,
   "id": "28f0ad00-f4e6-4bc7-b620-3c56fd784d75",
   "metadata": {},
   "outputs": [
    {
     "name": "stdout",
     "output_type": "stream",
     "text": [
      "1"
     ]
    }
   ],
   "source": [
    "if test != nothing\n",
    "    print(test)\n",
    "end"
   ]
  },
  {
   "cell_type": "code",
   "execution_count": 19,
   "id": "832be0e6-c1aa-4570-a982-f31d8d0f8834",
   "metadata": {},
   "outputs": [
    {
     "data": {
      "text/plain": [
       "84×400 Matrix{Float32}:\n",
       " -0.121135   -0.0952782     0.0395386   …   0.110492    -0.106272\n",
       "  0.185033   -0.0335346    -0.0318355       0.218981     0.0592905\n",
       "  0.243482    0.0554826     0.113038       -0.0403944    0.186502\n",
       "  0.0597456   0.119412     -0.019251        0.025647     0.036262\n",
       " -0.0879385   0.162497      0.118133       -0.155409    -0.196455\n",
       " -0.303614   -0.077527     -0.168254    …   0.00570875   0.0056641\n",
       " -0.0271131  -0.0248996     0.0529472      -0.0935155    0.0179046\n",
       "  0.0783219  -0.106993     -0.0595114       0.0145297    0.0242882\n",
       "  0.101682   -0.00286223   -0.170311        0.148301     0.129447\n",
       "  0.018321   -0.0585142     0.0371203      -0.00258623  -0.164209\n",
       "  0.183526   -0.00460497    0.00352023  …  -0.0646234    0.0449342\n",
       "  0.017353   -0.0878814     0.291158        0.193833     0.00554797\n",
       "  0.070461    0.160208      0.201233       -0.00345887  -0.18365\n",
       "  ⋮                                     ⋱               \n",
       " -0.0823844   0.114401      0.0156093      -0.217578     0.0480632\n",
       " -0.158463   -0.145801      0.0517666       0.212828     0.101353\n",
       " -0.0767562   0.112723     -0.090805       -0.0807391   -0.0718234\n",
       " -0.0930121  -0.0273587    -0.036207    …  -0.188459     0.0137565\n",
       " -0.139067   -0.281268     -0.00499164     -0.121226     0.0638556\n",
       "  0.0799469  -0.00821254   -0.0522057      -0.129236     0.0664729\n",
       " -0.0627456   0.0697803     0.126457        0.192471     0.0741732\n",
       " -0.0590224  -0.0173723    -0.0436018      -0.158342     0.0396673\n",
       "  0.151089   -0.250823      0.100688    …  -0.113134    -0.001884\n",
       "  0.123229   -0.000911191   0.0279644       0.0429395    0.100442\n",
       " -0.0689688  -0.160761     -0.0574871      -0.0673173    0.00884301\n",
       "  0.14336    -0.0838479     0.135508       -0.0395694   -0.141615"
      ]
     },
     "execution_count": 19,
     "metadata": {},
     "output_type": "execute_result"
    }
   ],
   "source": [
    "w3.output"
   ]
  },
  {
   "cell_type": "code",
   "execution_count": 21,
   "id": "3dd47342-a123-45f0-b325-9898da9030dd",
   "metadata": {},
   "outputs": [
    {
     "name": "stderr",
     "output_type": "stream",
     "text": [
      "\u001b[33m\u001b[1m┌ \u001b[22m\u001b[39m\u001b[33m\u001b[1mWarning: \u001b[22m\u001b[39mPkg.installed() is deprecated\n",
      "\u001b[33m\u001b[1m└ \u001b[22m\u001b[39m\u001b[90m@ Pkg /Applications/Julia-1.10.app/Contents/Resources/julia/share/julia/stdlib/v1.10/Pkg/src/Pkg.jl:744\u001b[39m\n"
     ]
    }
   ],
   "source": [
    "using Pkg\n",
    "pkgs = Pkg.installed();"
   ]
  },
  {
   "cell_type": "code",
   "execution_count": 24,
   "id": "869e2e91-7294-4c30-8b32-e6a9dae8838d",
   "metadata": {},
   "outputs": [
    {
     "data": {
      "text/plain": [
       "v\"1.10.0\""
      ]
     },
     "execution_count": 24,
     "metadata": {},
     "output_type": "execute_result"
    }
   ],
   "source": [
    "pkgs[\"ProgressMeter\"]"
   ]
  },
  {
   "cell_type": "code",
   "execution_count": null,
   "id": "d947a00a-3b8b-460e-b6c6-59773f5dfde3",
   "metadata": {},
   "outputs": [],
   "source": []
  }
 ],
 "metadata": {
  "kernelspec": {
   "display_name": "Julia 1.10.2",
   "language": "julia",
   "name": "julia-1.10"
  },
  "language_info": {
   "file_extension": ".jl",
   "mimetype": "application/julia",
   "name": "julia",
   "version": "1.10.3"
  }
 },
 "nbformat": 4,
 "nbformat_minor": 5
}
