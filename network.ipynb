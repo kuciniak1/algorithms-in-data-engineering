{
 "cells": [
  {
   "cell_type": "code",
   "execution_count": 1,
   "id": "b30ce09b-a442-42b3-a916-b23e9b2c2c69",
   "metadata": {},
   "outputs": [
    {
     "data": {
      "text/plain": [
       "onecold (generic function with 1 method)"
      ]
     },
     "execution_count": 1,
     "metadata": {},
     "output_type": "execute_result"
    }
   ],
   "source": [
    "include(\"graph.jl\")\n",
    "include(\"base_operators.jl\")\n",
    "\n",
    "include(\"Convolution.jl\")\n",
    "include(\"Dense.jl\")\n",
    "include(\"Flatten.jl\")\n",
    "include(\"MaxPool.jl\")\n",
    "include(\"ReLu.jl\")\n",
    "\n",
    "include(\"misc.jl\")"
   ]
  },
  {
   "cell_type": "code",
   "execution_count": 2,
   "id": "5c9167cd-836d-4acb-ba8f-60f61b1406e3",
   "metadata": {},
   "outputs": [
    {
     "name": "stderr",
     "output_type": "stream",
     "text": [
      "\u001b[32m\u001b[1m   Resolving\u001b[22m\u001b[39m package versions...\n",
      "\u001b[32m\u001b[1m  No Changes\u001b[22m\u001b[39m to `~/.julia/environments/v1.10/Project.toml`\n",
      "\u001b[32m\u001b[1m  No Changes\u001b[22m\u001b[39m to `~/.julia/environments/v1.10/Manifest.toml`\n",
      "\u001b[32m\u001b[1m   Resolving\u001b[22m\u001b[39m package versions...\n",
      "\u001b[32m\u001b[1m  No Changes\u001b[22m\u001b[39m to `~/.julia/environments/v1.10/Project.toml`\n",
      "\u001b[32m\u001b[1m  No Changes\u001b[22m\u001b[39m to `~/.julia/environments/v1.10/Manifest.toml`\n",
      "\u001b[32m\u001b[1m   Resolving\u001b[22m\u001b[39m package versions...\n",
      "\u001b[32m\u001b[1m  No Changes\u001b[22m\u001b[39m to `~/.julia/environments/v1.10/Project.toml`\n",
      "\u001b[32m\u001b[1m  No Changes\u001b[22m\u001b[39m to `~/.julia/environments/v1.10/Manifest.toml`\n"
     ]
    }
   ],
   "source": [
    "# \n",
    "import Pkg\n",
    "Pkg.add(\"BenchmarkTools\")\n",
    "Pkg.add(\"MLDatasets\")\n",
    "Pkg.add(\"ProgressMeter\")"
   ]
  },
  {
   "cell_type": "code",
   "execution_count": 3,
   "id": "4adfa7d9-0af1-431f-9774-6b342344ed8b",
   "metadata": {},
   "outputs": [
    {
     "name": "stderr",
     "output_type": "stream",
     "text": [
      "WARNING: using ProgressMeter.update! in module Main conflicts with an existing identifier.\n"
     ]
    }
   ],
   "source": [
    "using MLDatasets;\n",
    "using BenchmarkTools;\n",
    "using Random;\n",
    "using ProgressMeter;"
   ]
  },
  {
   "cell_type": "code",
   "execution_count": 4,
   "id": "100f0408-51ec-4354-9238-87d559775dee",
   "metadata": {},
   "outputs": [
    {
     "data": {
      "text/plain": [
       "(eta = 0.01, epochs = 3, batchsize = 100)"
      ]
     },
     "execution_count": 4,
     "metadata": {},
     "output_type": "execute_result"
    }
   ],
   "source": [
    "train_log = []\n",
    "settings = (;\n",
    "    eta = 1e-2,\n",
    "    epochs = 3,\n",
    "    batchsize = 100\n",
    ")"
   ]
  },
  {
   "cell_type": "code",
   "execution_count": 5,
   "id": "2f624453-65cd-4101-9198-90fdb671b46c",
   "metadata": {},
   "outputs": [],
   "source": [
    "train_dataset = MNIST(:train);\n",
    "train_samples = size(train_dataset.features)[3];\n",
    "test_dataset = MNIST(:test);\n",
    "test_samples = size(test_dataset.features)[3];"
   ]
  },
  {
   "cell_type": "code",
   "execution_count": 6,
   "id": "3dc44dc2-87d3-4ee8-a1d0-e0ab8d8cbe36",
   "metadata": {},
   "outputs": [
    {
     "data": {
      "text/plain": [
       "var actual_class\n",
       " ┣━ value:    Int64\n",
       " ┗━ gradient: Nothing"
      ]
     },
     "execution_count": 6,
     "metadata": {},
     "output_type": "execute_result"
    }
   ],
   "source": [
    "function net(x, w1, w2, w3, w4, b1, b2, b3, b4, y)\n",
    "    o1 = Conv(x, w1, b1, ReLu)\n",
    "    o2 = MaxPool(o1, Constant((2,2)))\n",
    "    o3 = Conv(o2, w2, b2, ReLu)\n",
    "    o4 = MaxPool(o3, Constant((2,2)))\n",
    "    o5 = Flatten(o4)\n",
    "    o6 = Dense(w3, b3, o5, ReLu)\n",
    "    o7 = Dense(w4, b4, o6, Softmax)\n",
    "    E = cross_entropy_loss(o7, y)\n",
    "\n",
    "    return topological_sort(E), o7\n",
    "end\n",
    "\n",
    "w1 = Variable(glorot_uniform((3,3,1,6)), name=\"w1\")\n",
    "b1 = Variable(zeros(6), name=\"b1\")\n",
    "\n",
    "w2 = Variable(glorot_uniform((3,3,6,16)), name=\"w2\")\n",
    "b2 = Variable(zeros(16), name=\"b2\")\n",
    "\n",
    "w3 = Variable(glorot_uniform((84, 400)), name = \"w3\")\n",
    "b3 = Variable(zeros(84), name=\"b3\")\n",
    "\n",
    "w4 = Variable(glorot_uniform((10, 84)), name = \"w4\")\n",
    "b4 = Variable(zeros(10), name=\"b4\")\n",
    "\n",
    "# obraz wejściowy i rzeczywista wartość\n",
    "img = Variable(train_dataset[1].features, name=\"img\")\n",
    "actual_class = Variable(train_dataset[1].targets, name=\"actual_class\")"
   ]
  },
  {
   "cell_type": "code",
   "execution_count": 7,
   "id": "5e3f53db-5c46-4baa-8e54-7b00feada042",
   "metadata": {},
   "outputs": [
    {
     "data": {
      "text/plain": [
       "(Any[var actual_class\n",
       " ┣━ value:    Int64\n",
       " ┗━ gradient: Nothing, op ?(typeof(-)), var w4\n",
       " ┣━ value:    10×84 Matrix{Float64}\n",
       " ┗━ gradient: Nothing, var w3\n",
       " ┣━ value:    84×400 Matrix{Float64}\n",
       " ┗━ gradient: Nothing, var img\n",
       " ┣━ value:    28×28 Matrix{Float32}\n",
       " ┗━ gradient: Nothing, var w1\n",
       " ┣━ value:    3×3×1×6 Array{Float64, 4}\n",
       " ┗━ gradient: Nothing, var b1\n",
       " ┣━ value:    6-element Vector{Float64}\n",
       " ┗━ gradient: Nothing, op.?(typeof(Convolution)), op.?(typeof(ReLu)), const (2, 2)  …  var b3\n",
       " ┣━ value:    84-element Vector{Float64}\n",
       " ┗━ gradient: Nothing, op.?(typeof(+)), op.?(typeof(ReLu)), op.?(typeof(mul!)), var b4\n",
       " ┣━ value:    10-element Vector{Float64}\n",
       " ┗━ gradient: Nothing, op.?(typeof(+)), op.?(typeof(Softmax)), op.?(typeof(log)), op.?(typeof(*)), op.?(typeof(sum))], op.?(typeof(Softmax)))"
      ]
     },
     "execution_count": 7,
     "metadata": {},
     "output_type": "execute_result"
    }
   ],
   "source": [
    "graph, y_output = net(img, w1, w2, w3, w4, b1, b2, b3, b4, actual_class)"
   ]
  },
  {
   "cell_type": "code",
   "execution_count": 8,
   "id": "b8103374-b656-43bd-bcc3-5a958ed46db2",
   "metadata": {},
   "outputs": [
    {
     "name": "stderr",
     "output_type": "stream",
     "text": [
      "\u001b[32mTraining... 100%|████████████████████████████████████████| Time: 0:17:19\u001b[39m6:01\u001b[39m\n"
     ]
    },
    {
     "name": "stdout",
     "output_type": "stream",
     "text": [
      "1039.766392 seconds (4.82 G allocations: 5.329 TiB, 21.87% gc time, 0.53% compilation time: <1% of which was recompilation)\n"
     ]
    },
    {
     "name": "stderr",
     "output_type": "stream",
     "text": [
      "\u001b[36m\u001b[1m┌ \u001b[22m\u001b[39m\u001b[36m\u001b[1mInfo: \u001b[22m\u001b[39mTrain results\n",
      "\u001b[36m\u001b[1m│ \u001b[22m\u001b[39m  epoch = 1\n",
      "\u001b[36m\u001b[1m│ \u001b[22m\u001b[39m  avg_loss = 1.052563613590845\n",
      "\u001b[36m\u001b[1m└ \u001b[22m\u001b[39m  train_acc = 68.85666666666667\n",
      "\u001b[32mTraining... 100%|████████████████████████████████████████| Time: 0:16:23\u001b[39m\n"
     ]
    },
    {
     "name": "stdout",
     "output_type": "stream",
     "text": [
      "983.910119 seconds (4.81 G allocations: 5.329 TiB, 22.17% gc time)\n"
     ]
    },
    {
     "name": "stderr",
     "output_type": "stream",
     "text": [
      "\u001b[36m\u001b[1m┌ \u001b[22m\u001b[39m\u001b[36m\u001b[1mInfo: \u001b[22m\u001b[39mTrain results\n",
      "\u001b[36m\u001b[1m│ \u001b[22m\u001b[39m  epoch = 2\n",
      "\u001b[36m\u001b[1m│ \u001b[22m\u001b[39m  avg_loss = 0.38322017374617856\n",
      "\u001b[36m\u001b[1m└ \u001b[22m\u001b[39m  train_acc = 89.00833333333334\n",
      "\u001b[32mTraining... 100%|████████████████████████████████████████| Time: 0:16:35\u001b[39m\n"
     ]
    },
    {
     "name": "stdout",
     "output_type": "stream",
     "text": [
      "995.736291 seconds (4.81 G allocations: 5.329 TiB, 22.31% gc time)\n"
     ]
    },
    {
     "name": "stderr",
     "output_type": "stream",
     "text": [
      "\u001b[36m\u001b[1m┌ \u001b[22m\u001b[39m\u001b[36m\u001b[1mInfo: \u001b[22m\u001b[39mTrain results\n",
      "\u001b[36m\u001b[1m│ \u001b[22m\u001b[39m  epoch = 3\n",
      "\u001b[36m\u001b[1m│ \u001b[22m\u001b[39m  avg_loss = 0.285623268993559\n",
      "\u001b[36m\u001b[1m└ \u001b[22m\u001b[39m  train_acc = 91.68333333333332\n"
     ]
    }
   ],
   "source": [
    "w1_grad = zeros(3,3,1,6)\n",
    "w2_grad = zeros(3,3,6,16)\n",
    "w3_grad = zeros(84,400)\n",
    "w4_grad = zeros(10, 84)\n",
    "\n",
    "b1_grad = zeros(6)\n",
    "b2_grad = zeros(16)\n",
    "b3_grad = zeros(84)\n",
    "b4_grad = zeros(10)\n",
    "\n",
    "\n",
    "\n",
    "for epoch in 1:settings.epochs\n",
    "    train_losses = zeros(train_samples)\n",
    "    train_acc = 0\n",
    "    @time @showprogress dt=1 barglyphs=BarGlyphs('|','█', ['▁' ,'▂' ,'▃' ,'▄' ,'▅' ,'▆', '▇'],' ','|',) desc=\"Training...\" for i in 1:train_samples\n",
    "    #@time for i in 1:train_samples\n",
    "            img.output = reshape(train_dataset[i].features, 28,28,1,1)\n",
    "            actual_class.output = onehot(train_dataset[i].targets, 0:9)\n",
    "            loss_value = forward!(graph)\n",
    "            train_losses[i] = loss_value\n",
    "\t\t\tbackward!(graph)\n",
    "        \n",
    "            onecold(y_output.output, 0:9) == train_dataset[i].targets ? train_acc+=1 : nothing\n",
    "        \n",
    "            w1_grad .+= w1.gradient\n",
    "            w2_grad .+= w2.gradient\n",
    "            w3_grad .+= w3.gradient\n",
    "            w4_grad .+= w4.gradient\n",
    "\n",
    "            b1_grad .+= b1.gradient\n",
    "            b2_grad .+= b2.gradient\n",
    "            b3_grad .+= b3.gradient\n",
    "            b4_grad .+= b4.gradient\n",
    "            \n",
    "            if i % settings.batchsize == 0\n",
    "                w1.output = w1.output .- ((w1_grad/settings.batchsize)*settings.eta)\n",
    "                w2.output = w2.output .- ((w2_grad/settings.batchsize)*settings.eta)\n",
    "                w3.output = w3.output .- ((w3_grad/settings.batchsize)*settings.eta)\n",
    "                w4.output = w4.output .- ((w4_grad/settings.batchsize)*settings.eta)\n",
    "\n",
    "                b1.output = b1.output .- ((b1_grad/settings.batchsize)*settings.eta)\n",
    "                b2.output = b2.output .- ((b2_grad/settings.batchsize)*settings.eta)\n",
    "                b3.output = b3.output .- ((b3_grad/settings.batchsize)*settings.eta)\n",
    "                b4.output = b4.output .- ((b4_grad/settings.batchsize)*settings.eta)\n",
    "\n",
    "            \n",
    "                w1_grad = zeros(3,3,1,6)\n",
    "                w2_grad = zeros(3,3,6,16)\n",
    "                w3_grad = zeros(84,400)\n",
    "                w4_grad = zeros(10, 84)\n",
    "\n",
    "                b1_grad = zeros(6)\n",
    "                b2_grad = zeros(16)\n",
    "                b3_grad = zeros(84)\n",
    "                b4_grad = zeros(10)\n",
    "            end\n",
    "\tend\n",
    "    avg_loss = mean(train_losses)\n",
    "    train_acc = train_acc/train_samples * 100\n",
    "    \n",
    "    @info \"Train results\" epoch avg_loss train_acc\n",
    "end"
   ]
  },
  {
   "cell_type": "code",
   "execution_count": 9,
   "id": "aa4dada5-2c91-4d26-a051-52688920cc4d",
   "metadata": {},
   "outputs": [
    {
     "name": "stderr",
     "output_type": "stream",
     "text": [
      "\u001b[32mTesting... 100%|█████████████████████████████████████████| Time: 0:00:15\u001b[39m\n"
     ]
    },
    {
     "name": "stdout",
     "output_type": "stream",
     "text": [
      " 15.815641 seconds (334.15 M allocations: 44.517 GiB, 13.96% gc time)\n"
     ]
    },
    {
     "name": "stderr",
     "output_type": "stream",
     "text": [
      "\u001b[36m\u001b[1m┌ \u001b[22m\u001b[39m\u001b[36m\u001b[1mInfo: \u001b[22m\u001b[39mTest results\n",
      "\u001b[36m\u001b[1m│ \u001b[22m\u001b[39m  avg_loss = 6.054891605068129\n",
      "\u001b[36m\u001b[1m└ \u001b[22m\u001b[39m  test_acc = 93.06\n"
     ]
    }
   ],
   "source": [
    "test_acc = 0;\n",
    "test_losses = zeros(test_samples);\n",
    "\n",
    "@time @showprogress dt=1 barglyphs=BarGlyphs('|','█', ['▁' ,'▂' ,'▃' ,'▄' ,'▅' ,'▆', '▇'],' ','|',) desc=\"Testing...\" for i in 1:test_samples\n",
    "    img.output = reshape(test_dataset[i].features, 28,28,1,1)\n",
    "    loss_value = forward!(graph)\n",
    "    test_losses[i] = loss_value\n",
    "    onecold(y_output.output, 0:9) == test_dataset[i].targets ? test_acc+=1 : nothing\n",
    "end\n",
    "test_acc = test_acc/test_samples * 100\n",
    "avg_loss = mean(test_losses)\n",
    "\n",
    "@info \"Test results\" avg_loss test_acc"
   ]
  }
 ],
 "metadata": {
  "kernelspec": {
   "display_name": "Julia 1.10.2",
   "language": "julia",
   "name": "julia-1.10"
  },
  "language_info": {
   "file_extension": ".jl",
   "mimetype": "application/julia",
   "name": "julia",
   "version": "1.10.2"
  }
 },
 "nbformat": 4,
 "nbformat_minor": 5
}
