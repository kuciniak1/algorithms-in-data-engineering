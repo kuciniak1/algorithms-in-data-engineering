{
 "cells": [
  {
   "cell_type": "code",
   "execution_count": 1,
   "id": "b30ce09b-a442-42b3-a916-b23e9b2c2c69",
   "metadata": {},
   "outputs": [
    {
     "data": {
      "text/plain": [
       "onecold (generic function with 1 method)"
      ]
     },
     "execution_count": 1,
     "metadata": {},
     "output_type": "execute_result"
    }
   ],
   "source": [
    "include(\"graph.jl\")\n",
    "include(\"base_operators.jl\")\n",
    "\n",
    "include(\"Convolution.jl\")\n",
    "include(\"Dense.jl\")\n",
    "include(\"Flatten.jl\")\n",
    "include(\"MaxPool.jl\")\n",
    "include(\"ReLu.jl\")\n",
    "\n",
    "include(\"misc.jl\")"
   ]
  },
  {
   "cell_type": "code",
   "execution_count": 2,
   "id": "4adfa7d9-0af1-431f-9774-6b342344ed8b",
   "metadata": {},
   "outputs": [
    {
     "name": "stderr",
     "output_type": "stream",
     "text": [
      "WARNING: using ProgressMeter.update! in module Main conflicts with an existing identifier.\n"
     ]
    }
   ],
   "source": [
    "using MLDatasets;\n",
    "using BenchmarkTools;\n",
    "using Random;\n",
    "using ProgressMeter;"
   ]
  },
  {
   "cell_type": "code",
   "execution_count": 3,
   "id": "100f0408-51ec-4354-9238-87d559775dee",
   "metadata": {},
   "outputs": [
    {
     "data": {
      "text/plain": [
       "(eta = 0.01f0, epochs = 3, batchsize = 100)"
      ]
     },
     "execution_count": 3,
     "metadata": {},
     "output_type": "execute_result"
    }
   ],
   "source": [
    "train_log = []\n",
    "settings = (;\n",
    "    eta = Float32(1e-2),\n",
    "    epochs = 3,\n",
    "    batchsize = 100\n",
    ")"
   ]
  },
  {
   "cell_type": "code",
   "execution_count": 4,
   "id": "2f624453-65cd-4101-9198-90fdb671b46c",
   "metadata": {},
   "outputs": [],
   "source": [
    "train_dataset = MNIST(:train);\n",
    "train_samples = size(train_dataset.features)[3];\n",
    "test_dataset = MNIST(:test);\n",
    "test_samples = size(test_dataset.features)[3];"
   ]
  },
  {
   "cell_type": "code",
   "execution_count": 5,
   "id": "59198f5f-6b21-4ae9-ae4a-9218e7c9e12c",
   "metadata": {},
   "outputs": [
    {
     "data": {
      "text/plain": [
       "var actual_class\n",
       " ┣━ value:    Int64\n",
       " ┗━ gradient: Nothing"
      ]
     },
     "execution_count": 5,
     "metadata": {},
     "output_type": "execute_result"
    }
   ],
   "source": [
    "# obraz wejściowy i rzeczywista wartość\n",
    "img = Variable(train_dataset[1].features, name=\"img\")\n",
    "actual_class = Variable(train_dataset[1].targets, name=\"actual_class\")"
   ]
  },
  {
   "cell_type": "code",
   "execution_count": 6,
   "id": "3dc44dc2-87d3-4ee8-a1d0-e0ab8d8cbe36",
   "metadata": {},
   "outputs": [
    {
     "data": {
      "text/plain": [
       "(Any[var actual_class\n",
       " ┣━ value:    Int64\n",
       " ┗━ gradient: Nothing, op ?(typeof(-)), var w4\n",
       " ┣━ value:    10×84 Matrix{Float32}\n",
       " ┗━ gradient: Nothing, var w3\n",
       " ┣━ value:    84×400 Matrix{Float32}\n",
       " ┗━ gradient: Nothing, var img\n",
       " ┣━ value:    28×28 Matrix{Float32}\n",
       " ┗━ gradient: Nothing, var w1\n",
       " ┣━ value:    3×3×1×6 Array{Float32, 4}\n",
       " ┗━ gradient: Nothing, var b1\n",
       " ┣━ value:    6-element Vector{Float32}\n",
       " ┗━ gradient: Nothing, op.?(typeof(Convolution)), op.?(typeof(ReLu)), const (2, 2)  …  var b3\n",
       " ┣━ value:    84-element Vector{Float32}\n",
       " ┗━ gradient: Nothing, op.?(typeof(+)), op.?(typeof(ReLu)), op.?(typeof(mul!)), var b4\n",
       " ┣━ value:    10-element Vector{Float32}\n",
       " ┗━ gradient: Nothing, op.?(typeof(+)), op.?(typeof(Softmax)), op.?(typeof(log)), op.?(typeof(*)), op.?(typeof(sum))], op.?(typeof(Softmax)))"
      ]
     },
     "execution_count": 6,
     "metadata": {},
     "output_type": "execute_result"
    }
   ],
   "source": [
    "function net_hard(x, w1, w2, w3, w4, b1, b2, b3, b4, y)\n",
    "    o1 = Conv(x, w1, b1, ReLu)\n",
    "    o2 = MaxPool(o1, Constant((2,2)))\n",
    "    o3 = Conv(o2, w2, b2, ReLu)\n",
    "    o4 = MaxPool(o3, Constant((2,2)))\n",
    "    o5 = Flatten(o4)\n",
    "    o6 = Dense(w3, b3, o5, ReLu)\n",
    "    o7 = Dense(w4, b4, o6, Softmax)\n",
    "    E = cross_entropy_loss(o7, y)\n",
    "    return topological_sort(E), o7\n",
    "end\n",
    "\n",
    "w1 = Variable(glorot_uniform((3,3,1,6)), name=\"w1\")\n",
    "b1 = Variable(zeros(Float32, 6), name=\"b1\")\n",
    "\n",
    "w2 = Variable(glorot_uniform((3,3,6,16)), name=\"w2\")\n",
    "b2 = Variable(zeros(Float32, 16), name=\"b2\")\n",
    "\n",
    "w3 = Variable(glorot_uniform((84, 400)), name = \"w3\")\n",
    "b3 = Variable(zeros(Float32, 84), name=\"b3\")\n",
    "\n",
    "w4 = Variable(glorot_uniform((10, 84)), name = \"w4\")\n",
    "b4 = Variable(zeros(Float32, 10), name=\"b4\")\n",
    "\n",
    "graph, y_output = net_hard(img, w1, w2, w3, w4, b1, b2, b3, b4, actual_class)"
   ]
  },
  {
   "cell_type": "code",
   "execution_count": 7,
   "id": "d6292115-a21b-467a-8661-93aaa934b96e",
   "metadata": {},
   "outputs": [],
   "source": [
    "# function net_easy(x, w1, w2, w3, y)\n",
    "#     o1 = Conv(x, w1, ReLu)\n",
    "#     o2 = MaxPool(o1, Constant((2,2)))\n",
    "#     o3 = Flatten(o2)\n",
    "#     o4 = Dense(w2, o3, ReLu)\n",
    "#     o5 = Dense(w3, o4, Softmax)\n",
    "#     E = cross_entropy_loss(o5, y)\n",
    "\n",
    "#     return topological_sort(E), o5\n",
    "# end\n",
    "\n",
    "# w1 = Variable(glorot_uniform((3,3,1,6)), name=\"w1\")\n",
    "# w2 = Variable(glorot_uniform((84, 1014)), name=\"w2\")   \n",
    "# w3 = Variable(glorot_uniform((10, 84)), name=\"w3\") \n",
    "\n",
    "# graph, y_output = net_easy(img, w1, w2, w3, actual_class)"
   ]
  },
  {
   "cell_type": "code",
   "execution_count": 8,
   "id": "b8103374-b656-43bd-bcc3-5a958ed46db2",
   "metadata": {},
   "outputs": [
    {
     "name": "stderr",
     "output_type": "stream",
     "text": [
      "\u001b[32mTraining... 100%|████████████████████████████████████████| Time: 0:02:24\u001b[39m7:18\u001b[39m\n"
     ]
    },
    {
     "name": "stdout",
     "output_type": "stream",
     "text": [
      "145.169938 seconds (2.51 G allocations: 253.935 GiB, 7.49% gc time, 4.01% compilation time)\n"
     ]
    },
    {
     "name": "stderr",
     "output_type": "stream",
     "text": [
      "\u001b[36m\u001b[1m┌ \u001b[22m\u001b[39m\u001b[36m\u001b[1mInfo: \u001b[22m\u001b[39mTrain results\n",
      "\u001b[36m\u001b[1m│ \u001b[22m\u001b[39m  epoch = 1\n",
      "\u001b[36m\u001b[1m│ \u001b[22m\u001b[39m  avg_loss = 0.6451297f0\n",
      "\u001b[36m\u001b[1m└ \u001b[22m\u001b[39m  train_acc = 80.08666666666666\n",
      "\u001b[32mTraining... 100%|████████████████████████████████████████| Time: 0:02:18\u001b[39m\n"
     ]
    },
    {
     "name": "stdout",
     "output_type": "stream",
     "text": [
      "138.600723 seconds (2.50 G allocations: 253.224 GiB, 7.64% gc time)\n"
     ]
    },
    {
     "name": "stderr",
     "output_type": "stream",
     "text": [
      "\u001b[36m\u001b[1m┌ \u001b[22m\u001b[39m\u001b[36m\u001b[1mInfo: \u001b[22m\u001b[39mTrain results\n",
      "\u001b[36m\u001b[1m│ \u001b[22m\u001b[39m  epoch = 2\n",
      "\u001b[36m\u001b[1m│ \u001b[22m\u001b[39m  avg_loss = 0.25138658f0\n",
      "\u001b[36m\u001b[1m└ \u001b[22m\u001b[39m  train_acc = 92.40333333333334\n",
      "\u001b[32mTraining...  14%|█████▆                                  |  ETA: 0:02:00\u001b[39m"
     ]
    },
    {
     "ename": "LoadError",
     "evalue": "InterruptException:",
     "output_type": "error",
     "traceback": [
      "InterruptException:",
      "",
      "Stacktrace:",
      "  [1] _unsafe_getindex(::IndexLinear, ::Array{Float32, 3}, ::UnitRange{Int64}, ::UnitRange{Int64}, ::Int64)",
      "    @ Base ./multidimensional.jl:898",
      "  [2] _getindex",
      "    @ ./multidimensional.jl:889 [inlined]",
      "  [3] getindex",
      "    @ ./abstractarray.jl:1291 [inlined]",
      "  [4] backward(node::BroadcastedOperator{typeof(Convolution)}, input::Array{Float32, 3}, weights::Array{Float32, 4}, bias::Vector{Float32}, gradient::Array{Float32, 3})",
      "    @ Main ~/algorithms-in-data-engineering/Convolution.jl:43",
      "  [5] backward!(node::BroadcastedOperator{typeof(Convolution)})",
      "    @ Main ~/algorithms-in-data-engineering/graph.jl:109",
      "  [6] backward!(order::Vector{Any}; seed::Float32)",
      "    @ Main ~/algorithms-in-data-engineering/graph.jl:100",
      "  [7] backward!(order::Vector{Any})",
      "    @ Main ~/algorithms-in-data-engineering/graph.jl:95",
      "  [8] macro expansion",
      "    @ ./In[8]:24 [inlined]",
      "  [9] macro expansion",
      "    @ ~/.julia/packages/ProgressMeter/dMfiC/src/ProgressMeter.jl:1010 [inlined]",
      " [10] macro expansion",
      "    @ ./timing.jl:279 [inlined]",
      " [11] top-level scope",
      "    @ ./In[8]:18"
     ]
    }
   ],
   "source": [
    "w1_grad = zeros(Float32, 3,3,1,6)\n",
    "w2_grad = zeros(Float32, 3,3,6,16)\n",
    "w3_grad = zeros(Float32, 84,400)\n",
    "w4_grad = zeros(Float32, 10, 84)\n",
    "\n",
    "b1_grad = zeros(Float32, 6)\n",
    "b2_grad = zeros(Float32, 16)\n",
    "b3_grad = zeros(Float32, 84)\n",
    "b4_grad = zeros(Float32, 10)\n",
    "\n",
    "# w1_grad = zeros(Float32, 3,3,1,6)\n",
    "# w2_grad = zeros(Float32, 84, 1014)\n",
    "# w3_grad = zeros(Float32, 10, 84)\n",
    "\n",
    "for epoch in 1:settings.epochs\n",
    "    train_losses = zeros(Float32, train_samples)\n",
    "    train_acc = 0\n",
    "    @time @showprogress dt=1 barglyphs=BarGlyphs('|','█', ['▁' ,'▂' ,'▃' ,'▄' ,'▅' ,'▆', '▇'],' ','|',) desc=\"Training...\" for i in 1:train_samples\n",
    "    #@time for i in 1:train_samples\n",
    "            img.output = reshape(train_dataset[i].features, 28,28,1,1)\n",
    "            actual_class.output = onehot(train_dataset[i].targets, 0:9)\n",
    "            loss_value = forward!(graph)\n",
    "            train_losses[i] = loss_value\n",
    "\t\t\tbackward!(graph)\n",
    "        \n",
    "            onecold(y_output.output, 0:9) == train_dataset[i].targets ? train_acc+=1 : nothing\n",
    "            \n",
    "            w1_grad .+= w1.gradient\n",
    "            w2_grad .+= w2.gradient\n",
    "            w3_grad .+= w3.gradient\n",
    "            w4_grad .+= w4.gradient\n",
    "\n",
    "            b1_grad .+= b1.gradient\n",
    "            b2_grad .+= b2.gradient\n",
    "            b3_grad .+= b3.gradient\n",
    "            b4_grad .+= b4.gradient\n",
    "            \n",
    "            if i % settings.batchsize == 0\n",
    "                w1.output .-= ((w1_grad/settings.batchsize)*settings.eta)\n",
    "                w2.output .-= ((w2_grad/settings.batchsize)*settings.eta)\n",
    "                w3.output .-= ((w3_grad/settings.batchsize)*settings.eta)\n",
    "                w4.output .-= ((w4_grad/settings.batchsize)*settings.eta)\n",
    "                b1.output .-= ((b1_grad/settings.batchsize)*settings.eta)\n",
    "                b2.output .-= ((b2_grad/settings.batchsize)*settings.eta)\n",
    "                b3.output .-= ((b3_grad/settings.batchsize)*settings.eta)\n",
    "                b4.output .-= ((b4_grad/settings.batchsize)*settings.eta)\n",
    "\n",
    "            \n",
    "                w1_grad .= 0\n",
    "                w2_grad .= 0\n",
    "                w3_grad .= 0\n",
    "                w4_grad .= 0\n",
    "            \n",
    "                b1_grad .= 0\n",
    "                b2_grad .= 0\n",
    "                b3_grad .= 0\n",
    "                b4_grad .= 0\n",
    "            end\n",
    "\tend\n",
    "    avg_loss = mean(train_losses)\n",
    "    train_acc = train_acc/train_samples * 100\n",
    "    \n",
    "    @info \"Train results\" epoch avg_loss train_acc\n",
    "end"
   ]
  },
  {
   "cell_type": "code",
   "execution_count": 9,
   "id": "aa4dada5-2c91-4d26-a051-52688920cc4d",
   "metadata": {},
   "outputs": [
    {
     "name": "stderr",
     "output_type": "stream",
     "text": [
      "\u001b[32mTesting... 100%|█████████████████████████████████████████| Time: 0:00:09\u001b[39m\n"
     ]
    },
    {
     "name": "stdout",
     "output_type": "stream",
     "text": [
      "  9.215539 seconds (160.34 M allocations: 16.219 GiB, 7.95% gc time, 0.03% compilation time)\n"
     ]
    },
    {
     "name": "stderr",
     "output_type": "stream",
     "text": [
      "\u001b[36m\u001b[1m┌ \u001b[22m\u001b[39m\u001b[36m\u001b[1mInfo: \u001b[22m\u001b[39mTest results\n",
      "\u001b[36m\u001b[1m│ \u001b[22m\u001b[39m  avg_loss = 7.667727813575308\n",
      "\u001b[36m\u001b[1m└ \u001b[22m\u001b[39m  test_acc = 93.78\n"
     ]
    }
   ],
   "source": [
    "test_acc = 0;\n",
    "test_losses = zeros(test_samples);\n",
    "\n",
    "@time @showprogress dt=1 barglyphs=BarGlyphs('|','█', ['▁' ,'▂' ,'▃' ,'▄' ,'▅' ,'▆', '▇'],' ','|',) desc=\"Testing...\" for i in 1:test_samples\n",
    "    img.output = reshape(test_dataset[i].features, 28,28,1,1)\n",
    "    loss_value = forward!(graph)\n",
    "    test_losses[i] = loss_value\n",
    "    onecold(y_output.output, 0:9) == test_dataset[i].targets ? test_acc+=1 : nothing\n",
    "end\n",
    "test_acc = test_acc/test_samples * 100\n",
    "avg_loss = mean(test_losses)\n",
    "\n",
    "@info \"Test results\" avg_loss test_acc"
   ]
  },
  {
   "cell_type": "code",
   "execution_count": null,
   "id": "2567e1b7-0849-4ce0-ba9d-00099f453a13",
   "metadata": {},
   "outputs": [],
   "source": []
  }
 ],
 "metadata": {
  "kernelspec": {
   "display_name": "Julia 1.10.2",
   "language": "julia",
   "name": "julia-1.10"
  },
  "language_info": {
   "file_extension": ".jl",
   "mimetype": "application/julia",
   "name": "julia",
   "version": "1.10.3"
  }
 },
 "nbformat": 4,
 "nbformat_minor": 5
}
